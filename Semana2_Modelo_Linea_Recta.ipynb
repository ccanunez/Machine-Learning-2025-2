{
 "cells": [
  {
   "cell_type": "markdown",
   "metadata": {
    "id": "9vOMEueGcjKE"
   },
   "source": [
    "# Inferencia estadística vs Aprendizaje de máquinas\n",
    "\n",
    "### Parte 1: Ajuste de recta \n",
    "\n",
    "(Adaptado de  Viviana Acquaviva (2023))"
   ]
  },
  {
   "cell_type": "code",
   "execution_count": null,
   "metadata": {
    "executionInfo": {
     "elapsed": 4,
     "status": "ok",
     "timestamp": 1684440003814,
     "user": {
      "displayName": "Viviana Acquaviva",
      "userId": "16294609486294432741"
     },
     "user_tz": 240
    },
    "id": "lxAagiNIcjKH"
   },
   "outputs": [],
   "source": [
    "import numpy as np\n",
    "import matplotlib\n",
    "import matplotlib.pyplot as plt"
   ]
  },
  {
   "cell_type": "code",
   "execution_count": null,
   "metadata": {
    "executionInfo": {
     "elapsed": 5,
     "status": "ok",
     "timestamp": 1684440003816,
     "user": {
      "displayName": "Viviana Acquaviva",
      "userId": "16294609486294432741"
     },
     "user_tz": 240
    },
    "id": "spUsZIVXcjKJ"
   },
   "outputs": [],
   "source": [
    "#parámetros para generar figuras de alta calidad\n",
    "font = {'size'   : 12}\n",
    "matplotlib.rc('font', **font)\n",
    "matplotlib.rc('xtick', labelsize=10) \n",
    "matplotlib.rc('ytick', labelsize=10) \n",
    "matplotlib.rcParams.update({'figure.autolayout': False})\n",
    "matplotlib.rcParams['figure.dpi'] = 300"
   ]
  },
  {
   "cell_type": "markdown",
   "metadata": {
    "id": "FaYlojxpcuU4"
   },
   "source": [
    "Generaremos datos que sigan una relación lineal (con ruido) y usaremos una grilla para encontrar el mejor ajuste, sin y con considerar incertezas"
   ]
  },
  {
   "cell_type": "code",
   "execution_count": null,
   "metadata": {
    "executionInfo": {
     "elapsed": 318,
     "status": "ok",
     "timestamp": 1684440079713,
     "user": {
      "displayName": "Viviana Acquaviva",
      "userId": "16294609486294432741"
     },
     "user_tz": 240
    },
    "id": "6ltRVilycjKK"
   },
   "outputs": [],
   "source": [
    "np.random.seed(16) #semilla fija para reproducibilidad\n",
    "\n",
    "x = np.arange(10) \n",
    "\n",
    "y = 2*x + 5 + np.random.randn(10) #generamos datos con scatter gausiano"
   ]
  },
  {
   "cell_type": "markdown",
   "metadata": {},
   "source": [
    "Podemos considerar que los datos corresponden al movimiento de un auto con rapidez constante, donde $x$ es tiempo (en segundos) e $y$ es distancia (en metros)"
   ]
  },
  {
   "cell_type": "code",
   "execution_count": null,
   "metadata": {
    "colab": {
     "base_uri": "https://localhost:8080/",
     "height": 553
    },
    "executionInfo": {
     "elapsed": 418,
     "status": "ok",
     "timestamp": 1684440080497,
     "user": {
      "displayName": "Viviana Acquaviva",
      "userId": "16294609486294432741"
     },
     "user_tz": 240
    },
    "id": "nIhWf5CXcjKK",
    "outputId": "36adae62-8236-4691-98b9-46321b8afc5a"
   },
   "outputs": [],
   "source": [
    "plt.figure(figsize=(5,3)) #\n",
    "plt.scatter(x,y, c = 'red')\n",
    "plt.xlabel('time (s)')\n",
    "plt.ylabel('distance (m)');"
   ]
  },
  {
   "cell_type": "code",
   "execution_count": null,
   "metadata": {},
   "outputs": [],
   "source": [
    "x"
   ]
  },
  {
   "cell_type": "code",
   "execution_count": null,
   "metadata": {
    "executionInfo": {
     "elapsed": 322,
     "status": "ok",
     "timestamp": 1684440086145,
     "user": {
      "displayName": "Viviana Acquaviva",
      "userId": "16294609486294432741"
     },
     "user_tz": 240
    },
    "id": "75InFJT2cjKM"
   },
   "outputs": [],
   "source": [
    "y = np.round(y,1) #redondeamos los datos"
   ]
  },
  {
   "cell_type": "markdown",
   "metadata": {},
   "source": [
    "Suponga que a partir de esos datos debe ser capaz de decir la distancia a la que estará el auto cuando $t=12$ s. ¿Cómo podemos resolver el problema?"
   ]
  },
  {
   "cell_type": "markdown",
   "metadata": {},
   "source": [
    "### Inferencia\n",
    "\n",
    "Ya sabemos que la relación entre distancia y tiempo, para una partícula con rapidez constante está dada por $$d=d_0 +vt$$. Este modelo tienen dos parámetros: $d_0$ u $v$. Necesitamos encontrar estos parámetros para poder usar el modelo y determinar $d(t=12 s)$.\n",
    "\n",
    "\n",
    "¿Cómo haría esto?\n",
    "\n",
    "\n"
   ]
  },
  {
   "cell_type": "markdown",
   "metadata": {},
   "source": [
    "Explique con palabras: acá"
   ]
  },
  {
   "cell_type": "markdown",
   "metadata": {},
   "source": [
    "<details>\n",
    "<summary>Ayuda!</summary>\n",
    "Podemos considerar el error en un ajuste de recta como la suma de errores, que consideramos la suma al cuadrado de las distancia entre las distancias predichas por el el modelo ($D^m_i$) y las observadas ($D^o_i$) $$\\sum_{i=1}^{10}(D^m(d_0,v,x_i)-D^o_i)^2$$"
   ]
  },
  {
   "cell_type": "markdown",
   "metadata": {},
   "source": [
    "Encuentre los parámetros de la mejor recta para los datos dados"
   ]
  },
  {
   "cell_type": "markdown",
   "metadata": {
    "id": "rH9LLil1cjKQ",
    "jp-MarkdownHeadingCollapsed": true
   },
   "source": [
    "\n"
   ]
  },
  {
   "cell_type": "code",
   "execution_count": null,
   "metadata": {},
   "outputs": [],
   "source": [
    "#Codigo aca!"
   ]
  },
  {
   "cell_type": "code",
   "execution_count": null,
   "metadata": {
    "executionInfo": {
     "elapsed": 334,
     "status": "ok",
     "timestamp": 1684440274441,
     "user": {
      "displayName": "Viviana Acquaviva",
      "userId": "16294609486294432741"
     },
     "user_tz": 240
    },
    "id": "5eyJ5STTcjKR"
   },
   "outputs": [],
   "source": []
  },
  {
   "cell_type": "markdown",
   "metadata": {},
   "source": [
    "**Cuáles son los valores de pendiente m e intercepto b encontrado? Con este modelo, cuánto es $d(t=12s)$?**\n",
    "\n",
    "- **bestm**:\n",
    "- **bestb**:"
   ]
  },
  {
   "cell_type": "code",
   "execution_count": null,
   "metadata": {},
   "outputs": [],
   "source": []
  },
  {
   "cell_type": "markdown",
   "metadata": {
    "id": "t_8vNTpIePcn"
   },
   "source": [
    "Graficamos el mejor ajuste con los datos"
   ]
  },
  {
   "cell_type": "code",
   "execution_count": null,
   "metadata": {
    "colab": {
     "base_uri": "https://localhost:8080/",
     "height": 553
    },
    "executionInfo": {
     "elapsed": 505,
     "status": "ok",
     "timestamp": 1684440429726,
     "user": {
      "displayName": "Viviana Acquaviva",
      "userId": "16294609486294432741"
     },
     "user_tz": 240
    },
    "id": "HCNJhYfRcjKV",
    "outputId": "fed6e6bc-7a87-4d4c-f366-75d0923cc68e"
   },
   "outputs": [],
   "source": [
    "plt.figure(figsize=(5,3))\n",
    "plt.scatter(x,y, c = 'red')\n",
    "plt.xlabel('time (s)')\n",
    "plt.ylabel('distance (m)')\n",
    "plt.plot(x, bestm*x+bestb, c = 'g'); #grafique la recta con los mejores parámetros"
   ]
  },
  {
   "cell_type": "markdown",
   "metadata": {
    "id": "FgDvY8ozcjKW"
   },
   "source": [
    "Y si agregamos incerteza en la medición de distancias?"
   ]
  },
  {
   "cell_type": "code",
   "execution_count": null,
   "metadata": {
    "executionInfo": {
     "elapsed": 763,
     "status": "ok",
     "timestamp": 1684440440338,
     "user": {
      "displayName": "Viviana Acquaviva",
      "userId": "16294609486294432741"
     },
     "user_tz": 240
    },
    "id": "HbCNm9_AcjKW"
   },
   "outputs": [],
   "source": [
    "np.random.seed(10)\n",
    "\n",
    "dy = np.random.randn(10)*np.sqrt(2) #agregamos incertezas aleatorias, el signo no importa"
   ]
  },
  {
   "cell_type": "code",
   "execution_count": null,
   "metadata": {
    "colab": {
     "base_uri": "https://localhost:8080/"
    },
    "executionInfo": {
     "elapsed": 7,
     "status": "ok",
     "timestamp": 1684440440620,
     "user": {
      "displayName": "Viviana Acquaviva",
      "userId": "16294609486294432741"
     },
     "user_tz": 240
    },
    "id": "C3qe71c3cjKW",
    "outputId": "fa3a91e5-0a73-49f0-d0d4-f1cf0177eb6b"
   },
   "outputs": [],
   "source": [
    "dy"
   ]
  },
  {
   "cell_type": "code",
   "execution_count": null,
   "metadata": {},
   "outputs": [],
   "source": [
    "plt.errorbar(x,y, np.abs(dy), marker = 'o', markersize = 3, c = 'red', linestyle = ' ')\n",
    "plt.xlabel('time (s)')\n",
    "plt.ylabel('distance (m)')"
   ]
  },
  {
   "cell_type": "markdown",
   "metadata": {
    "id": "57-WnAbTeWqy"
   },
   "source": [
    "<details>\n",
    "<summary>Ayuda!</summary>\n",
    "    Cuando agregamos incertezas, debemos considerar que datos con menor incerteza tienen más \"peso\". Para esto, modificaremos la función de error cuadrado con el inverso de los cuadrados de las distancias. Esto se conoce como distribución $\\chi^2$ (likelihood)\n"
   ]
  },
  {
   "cell_type": "markdown",
   "metadata": {},
   "source": [
    "Encuentre los parámetros de la mejor recta cuando agregamos incertezas"
   ]
  },
  {
   "cell_type": "code",
   "execution_count": null,
   "metadata": {},
   "outputs": [],
   "source": []
  },
  {
   "cell_type": "code",
   "execution_count": null,
   "metadata": {},
   "outputs": [],
   "source": []
  },
  {
   "cell_type": "markdown",
   "metadata": {
    "id": "ZOJAMqRvfNF3"
   },
   "source": [
    "Graficamos los datos con incertezas y el nuevo ajuste"
   ]
  },
  {
   "cell_type": "code",
   "execution_count": null,
   "metadata": {
    "colab": {
     "base_uri": "https://localhost:8080/",
     "height": 460
    },
    "executionInfo": {
     "elapsed": 1174,
     "status": "ok",
     "timestamp": 1684440707819,
     "user": {
      "displayName": "Viviana Acquaviva",
      "userId": "16294609486294432741"
     },
     "user_tz": 240
    },
    "id": "_Urw4kr9cjKZ",
    "outputId": "98d50ad4-cf92-4024-e02f-0b34a99cbf45"
   },
   "outputs": [],
   "source": [
    "plt.errorbar(x,y, np.abs(dy), marker = 'o', markersize = 3, c = 'red', linestyle = ' ')\n",
    "plt.xlabel('time (s)')\n",
    "plt.ylabel('distance (m)')\n",
    "plt.plot(x, bestb_werr + bestm_werr * x, c = 'black') #agregue sus parámetros"
   ]
  },
  {
   "cell_type": "markdown",
   "metadata": {
    "id": "QExhFaYAcjKZ"
   },
   "source": [
    "Comparemos ambos modelos"
   ]
  },
  {
   "cell_type": "code",
   "execution_count": null,
   "metadata": {
    "colab": {
     "base_uri": "https://localhost:8080/",
     "height": 553
    },
    "executionInfo": {
     "elapsed": 1008,
     "status": "ok",
     "timestamp": 1684440726108,
     "user": {
      "displayName": "Viviana Acquaviva",
      "userId": "16294609486294432741"
     },
     "user_tz": 240
    },
    "id": "uLuuPVCZcjKZ",
    "outputId": "326b96e8-9ea3-419e-cc42-c437a896ab72"
   },
   "outputs": [],
   "source": [
    "plt.figure(figsize=(5,3))\n",
    "\n",
    "plt.errorbar(x,y, np.abs(dy), marker = 'o', markersize = 3, c = 'red', linestyle = ' ')\n",
    "\n",
    "plt.plot(x, bestb + bestm * x, c = 'black', label = 'Fit sin incertezas')\n",
    "\n",
    "plt.plot(x, bestb_werr + bestm_werr * x, c = 'b', label = 'Fit con incertezas')\n",
    "\n",
    "plt.xlabel('time (s)')\n",
    "\n",
    "plt.ylabel('distance (m)')\n",
    "\n",
    "plt.legend()\n"
   ]
  },
  {
   "cell_type": "markdown",
   "metadata": {
    "id": "E_kKAsHxcjKa"
   },
   "source": [
    "**Pregunta: ¿Tiene sentido ese cambio?**"
   ]
  },
  {
   "cell_type": "code",
   "execution_count": null,
   "metadata": {
    "id": "D6_tatVTcjKa"
   },
   "outputs": [],
   "source": []
  },
  {
   "cell_type": "markdown",
   "metadata": {},
   "source": [
    "### Parte 2: Machine Learning\n",
    "\n",
    "Si queremos resolver la pregunta de $d(t=12 s)=?$ usando aprendizaje de máquinas, la estrategia no es escribir explícitamente el modelo, ni los parámetros o el likelihood (aunque la elección de modelo sí afecta el resultado y la habilidad de aprender de los datos de entrenamiento).\n",
    "\n",
    "En este caso, tenemos un problema de aprendizaje supervisado, donde nuestro set de datos inicial son los datos de aprendizaje. Debemos dividir estos datos en un conjunto de entrenamiento y prueba, de forma aleatoria (en el caso de una serie de tiempo esto no es verdad, pero en este caso no importa).\n",
    "\n",
    "Consideraremos que nuestro problema es de regresión, porque la variable \"target\" es continua. Probaremos con dos modelos muy simples: Regresión lineal y Árbol de Decisión."
   ]
  },
  {
   "cell_type": "markdown",
   "metadata": {
    "id": "wYQed3oxWEko"
   },
   "source": [
    "#### Importamos de la librería Sci-kit learn los modelos ya implementados y usaremos funciones de la librería para separar los datos en entrenamiento y prueba a partir de nuestros datos de distancia y tiempo creados al inicio del notebook"
   ]
  },
  {
   "cell_type": "code",
   "execution_count": null,
   "metadata": {
    "executionInfo": {
     "elapsed": 1369,
     "status": "ok",
     "timestamp": 1684439870929,
     "user": {
      "displayName": "Viviana Acquaviva",
      "userId": "16294609486294432741"
     },
     "user_tz": 240
    },
    "id": "dcYkdxXeWEkp"
   },
   "outputs": [],
   "source": [
    "from sklearn.tree import DecisionTreeRegressor #modelo de árbol de decisión"
   ]
  },
  {
   "cell_type": "code",
   "execution_count": null,
   "metadata": {
    "executionInfo": {
     "elapsed": 4,
     "status": "ok",
     "timestamp": 1684439870930,
     "user": {
      "displayName": "Viviana Acquaviva",
      "userId": "16294609486294432741"
     },
     "user_tz": 240
    },
    "id": "6bit3VqEWEkq"
   },
   "outputs": [],
   "source": [
    "from sklearn.linear_model import LinearRegression #modelo de regresión lineal"
   ]
  },
  {
   "cell_type": "code",
   "execution_count": null,
   "metadata": {
    "executionInfo": {
     "elapsed": 114,
     "status": "ok",
     "timestamp": 1684439903612,
     "user": {
      "displayName": "Viviana Acquaviva",
      "userId": "16294609486294432741"
     },
     "user_tz": 240
    },
    "id": "vrNvQdtQWEkr"
   },
   "outputs": [],
   "source": [
    "from sklearn.model_selection import train_test_split  #para dividir los datos"
   ]
  },
  {
   "cell_type": "code",
   "execution_count": null,
   "metadata": {
    "executionInfo": {
     "elapsed": 3,
     "status": "ok",
     "timestamp": 1684439905771,
     "user": {
      "displayName": "Viviana Acquaviva",
      "userId": "16294609486294432741"
     },
     "user_tz": 240
    },
    "id": "-_4UWcP_WEks"
   },
   "outputs": [],
   "source": [
    "np.random.seed(10) #semilla fija para reproducibilidad\n",
    "\n",
    "X_train, X_test, y_train, y_test = train_test_split(x,y, test_size=3) #crea los sets de entrenamiento/prueba"
   ]
  },
  {
   "cell_type": "code",
   "execution_count": null,
   "metadata": {
    "colab": {
     "base_uri": "https://localhost:8080/"
    },
    "executionInfo": {
     "elapsed": 87,
     "status": "ok",
     "timestamp": 1684439906734,
     "user": {
      "displayName": "Viviana Acquaviva",
      "userId": "16294609486294432741"
     },
     "user_tz": 240
    },
    "id": "yEhnpFCrWEks",
    "outputId": "39e60b73-4fc6-4bf3-8ca6-4572068c96c2"
   },
   "outputs": [],
   "source": [
    "X_train, y_train #7 datos de entrenamiento"
   ]
  },
  {
   "cell_type": "code",
   "execution_count": null,
   "metadata": {
    "colab": {
     "base_uri": "https://localhost:8080/"
    },
    "executionInfo": {
     "elapsed": 114,
     "status": "ok",
     "timestamp": 1684439909810,
     "user": {
      "displayName": "Viviana Acquaviva",
      "userId": "16294609486294432741"
     },
     "user_tz": 240
    },
    "id": "UAEAZiJAWEkt",
    "outputId": "b3b57af8-5bc1-4ab0-9c04-eba981cfc91f"
   },
   "outputs": [],
   "source": [
    "X_test # 3 de prueba"
   ]
  },
  {
   "cell_type": "code",
   "execution_count": null,
   "metadata": {
    "executionInfo": {
     "elapsed": 89,
     "status": "ok",
     "timestamp": 1684439915729,
     "user": {
      "displayName": "Viviana Acquaviva",
      "userId": "16294609486294432741"
     },
     "user_tz": 240
    },
    "id": "jkyB1sTNWEkt"
   },
   "outputs": [],
   "source": [
    "treemodel = DecisionTreeRegressor() # Objeto \"Estimator\" de sklearn, con default params"
   ]
  },
  {
   "cell_type": "code",
   "execution_count": null,
   "metadata": {
    "executionInfo": {
     "elapsed": 2,
     "status": "ok",
     "timestamp": 1684439916076,
     "user": {
      "displayName": "Viviana Acquaviva",
      "userId": "16294609486294432741"
     },
     "user_tz": 240
    },
    "id": "3Z3sIIdWWEku"
   },
   "outputs": [],
   "source": [
    "regmodel = LinearRegression() # Objeto \"Estimator\" de sklearn, con default params default params"
   ]
  },
  {
   "cell_type": "markdown",
   "metadata": {
    "id": "u2hoCuM4WEku"
   },
   "source": [
    "construimos el modelo con los datos de entrenamiento y los usamos para predecir el output en los datos de prueba"
   ]
  },
  {
   "cell_type": "code",
   "execution_count": null,
   "metadata": {
    "executionInfo": {
     "elapsed": 358,
     "status": "ok",
     "timestamp": 1684439919244,
     "user": {
      "displayName": "Viviana Acquaviva",
      "userId": "16294609486294432741"
     },
     "user_tz": 240
    },
    "id": "NgOrOHsdWEku"
   },
   "outputs": [],
   "source": [
    "#predicciones de datos usando árbol de decisión\n",
    "y_pred_tree = treemodel.fit(X_train.reshape(-1, 1), y_train).predict(X_test.reshape(-1, 1))"
   ]
  },
  {
   "cell_type": "code",
   "execution_count": null,
   "metadata": {
    "executionInfo": {
     "elapsed": 1,
     "status": "ok",
     "timestamp": 1684439919364,
     "user": {
      "displayName": "Viviana Acquaviva",
      "userId": "16294609486294432741"
     },
     "user_tz": 240
    },
    "id": "P_6eJAxrWEkv"
   },
   "outputs": [],
   "source": [
    "#predicción usando regresión lineal\n",
    "y_pred_reg = regmodel.fit(X_train.reshape(-1, 1), y_train).predict(X_test.reshape(-1, 1))"
   ]
  },
  {
   "cell_type": "code",
   "execution_count": null,
   "metadata": {
    "colab": {
     "base_uri": "https://localhost:8080/"
    },
    "executionInfo": {
     "elapsed": 122,
     "status": "ok",
     "timestamp": 1684439921616,
     "user": {
      "displayName": "Viviana Acquaviva",
      "userId": "16294609486294432741"
     },
     "user_tz": 240
    },
    "id": "e2qFWu-dWEkv",
    "outputId": "6f2ab470-6732-4c01-81df-7921f9425b92"
   },
   "outputs": [],
   "source": [
    "print(y_test, y_pred_reg, y_pred_tree) #Real/predicho por RL y AD respectivamente"
   ]
  },
  {
   "cell_type": "markdown",
   "metadata": {
    "id": "92mcaFiqWEkv"
   },
   "source": [
    "Usaremos como métrica de evaluación los errores cuadrados promedio (MSE) para cada modelo"
   ]
  },
  {
   "cell_type": "code",
   "execution_count": null,
   "metadata": {
    "colab": {
     "base_uri": "https://localhost:8080/"
    },
    "executionInfo": {
     "elapsed": 117,
     "status": "ok",
     "timestamp": 1684439935052,
     "user": {
      "displayName": "Viviana Acquaviva",
      "userId": "16294609486294432741"
     },
     "user_tz": 240
    },
    "id": "GBWLw-mOWEkv",
    "outputId": "c66f5861-ddb7-4db0-dd83-a68526469858"
   },
   "outputs": [],
   "source": [
    "np.mean((y_test-y_pred_reg)**2)"
   ]
  },
  {
   "cell_type": "code",
   "execution_count": null,
   "metadata": {
    "colab": {
     "base_uri": "https://localhost:8080/"
    },
    "executionInfo": {
     "elapsed": 130,
     "status": "ok",
     "timestamp": 1684439937309,
     "user": {
      "displayName": "Viviana Acquaviva",
      "userId": "16294609486294432741"
     },
     "user_tz": 240
    },
    "id": "Xl1iG0E8WEkw",
    "outputId": "35dfd6cb-ee76-4803-9613-0b3836f9a6d6"
   },
   "outputs": [],
   "source": [
    "np.mean((y_test-y_pred_tree)**2)"
   ]
  },
  {
   "cell_type": "markdown",
   "metadata": {},
   "source": [
    "**Pregunta: ¿Cuál modelo es mejor, RL o AD?**"
   ]
  },
  {
   "cell_type": "code",
   "execution_count": null,
   "metadata": {},
   "outputs": [],
   "source": []
  },
  {
   "cell_type": "markdown",
   "metadata": {
    "id": "xl99lXt7WEkw"
   },
   "source": [
    "Usamos el resultado para predecir $t = 12$ s con cada modelo"
   ]
  },
  {
   "cell_type": "code",
   "execution_count": null,
   "metadata": {
    "colab": {
     "base_uri": "https://localhost:8080/"
    },
    "executionInfo": {
     "elapsed": 94,
     "status": "ok",
     "timestamp": 1684439941922,
     "user": {
      "displayName": "Viviana Acquaviva",
      "userId": "16294609486294432741"
     },
     "user_tz": 240
    },
    "id": "0znYzpH_WEkw",
    "outputId": "58e8abca-6a82-4f99-e26e-01fb3fa2a5a6"
   },
   "outputs": [],
   "source": [
    "print(treemodel.predict(np.array(12).reshape(-1, 1)))\n",
    "print(regmodel.predict(np.array(12).reshape(-1, 1)))"
   ]
  },
  {
   "cell_type": "code",
   "execution_count": null,
   "metadata": {},
   "outputs": [],
   "source": []
  },
  {
   "cell_type": "markdown",
   "metadata": {},
   "source": [
    "### Conclusión\n",
    "\n",
    "Finalmente, cuál de las dos estrategias funcionó mejor, inferencia o ML?\n",
    "\n",
    "- Hubiera funcionado la inferencia estadística si hubiéramos usando un modelo distinto (e.g sinusoidal)?\n",
    "- En el caso de ML, cómo elegimos el mejor modelo?\n",
    "\n",
    "\n",
    "**¿Cuál funciona mejor?**\n",
    "- Mejor para Interpretabilidad: Si el objetivo es entender las relaciones entre variables y poder explicar esas relaciones de manera clara y comprensible, la inferencia estadística puede ser más adecuada. Esto es común en estudios científicos donde la interpretabilidad es clave.\n",
    "\n",
    "- Mejor para Predicción: Si el objetivo es lograr la mejor precisión predictiva posible, especialmente con datos complejos y de gran escala, los métodos de aprendizaje automático tienden a ser más efectivos. Modelos como árboles de decisión, random forests, y redes neuronales suelen superar a los modelos estadísticos clásicos en tareas predictivas.\n",
    "\n",
    "- Contexto del Problema: En problemas donde se necesita tanto interpretación como precisión, puede ser útil usar ambos enfoques. Por ejemplo, comenzar con modelos de inferencia para explorar los datos y entender las relaciones básicas, y luego usar ML para optimizar la precisión predictiva."
   ]
  },
  {
   "cell_type": "code",
   "execution_count": null,
   "metadata": {},
   "outputs": [],
   "source": []
  },
  {
   "cell_type": "code",
   "execution_count": null,
   "metadata": {},
   "outputs": [],
   "source": []
  }
 ],
 "metadata": {
  "colab": {
   "provenance": []
  },
  "kernelspec": {
   "display_name": "Python [conda env:base] *",
   "language": "python",
   "name": "conda-base-py"
  },
  "language_info": {
   "codemirror_mode": {
    "name": "ipython",
    "version": 3
   },
   "file_extension": ".py",
   "mimetype": "text/x-python",
   "name": "python",
   "nbconvert_exporter": "python",
   "pygments_lexer": "ipython3",
   "version": "3.12.7"
  }
 },
 "nbformat": 4,
 "nbformat_minor": 4
}
