{
 "cells": [
  {
   "cell_type": "markdown",
   "metadata": {
    "id": "LPTnQOeojLVh"
   },
   "source": [
    "### Notebook modelo de árbol de decisión y vecinos cercanos\n",
    "\n",
    "Ejemplo usando datos de habitabilidad de planetas\n",
    "\n",
    "(Adaptado de  Viviana Acquaviva (2023))\n",
    "\n"
   ]
  },
  {
   "cell_type": "markdown",
   "metadata": {},
   "source": [
    "## Decision Trees\n",
    "\n",
    "https://towardsdatascience.com/scikit-learn-decision-trees-explained-803f3812290d\n",
    "\n",
    "https://www.kaggle.com/code/willkoehrsen/visualize-a-decision-tree-w-python-scikit-learn"
   ]
  },
  {
   "cell_type": "code",
   "execution_count": null,
   "metadata": {
    "executionInfo": {
     "elapsed": 1474,
     "status": "ok",
     "timestamp": 1684442020804,
     "user": {
      "displayName": "Viviana Acquaviva",
      "userId": "16294609486294432741"
     },
     "user_tz": 240
    },
    "id": "_iBUfbfejLVi"
   },
   "outputs": [],
   "source": [
    "import numpy as np\n",
    "import matplotlib\n",
    "import matplotlib.pyplot as plt\n",
    "import matplotlib.patches as mpatches\n",
    "import pandas as pd \n",
    "from sklearn.tree import DecisionTreeClassifier #modelo de árbol de decisión\n",
    "from sklearn import metrics #métricas de evaluación"
   ]
  },
  {
   "cell_type": "code",
   "execution_count": null,
   "metadata": {
    "executionInfo": {
     "elapsed": 5,
     "status": "ok",
     "timestamp": 1684442020806,
     "user": {
      "displayName": "Viviana Acquaviva",
      "userId": "16294609486294432741"
     },
     "user_tz": 240
    },
    "id": "0SSXelcEjLVk"
   },
   "outputs": [],
   "source": [
    "font = {'size'   : 20}\n",
    "matplotlib.rc('font', **font)\n",
    "matplotlib.rc('xtick', labelsize=20) \n",
    "matplotlib.rc('ytick', labelsize=20) \n",
    "matplotlib.rcParams['figure.dpi'] = 300"
   ]
  },
  {
   "cell_type": "code",
   "execution_count": null,
   "metadata": {
    "executionInfo": {
     "elapsed": 115,
     "status": "ok",
     "timestamp": 1684442034718,
     "user": {
      "displayName": "Viviana Acquaviva",
      "userId": "16294609486294432741"
     },
     "user_tz": 240
    },
    "id": "qrI4uzyEjLVk"
   },
   "outputs": [],
   "source": [
    "#Paquetes para visualización\n",
    "\n",
    "from io import StringIO\n",
    "from IPython.display import Image  \n",
    "import pydotplus\n",
    "\n",
    "from sklearn.tree import export_graphviz "
   ]
  },
  {
   "cell_type": "markdown",
   "metadata": {
    "id": "Sj-mt1-9jLVl"
   },
   "source": [
    "### Subconjunto de base de datos de Habitabilidad de planetas https://phl.upr.edu/projects/habitable-exoplanets-catalog"
   ]
  },
  {
   "cell_type": "code",
   "execution_count": null,
   "metadata": {
    "id": "Xwza1eXijLVl"
   },
   "outputs": [],
   "source": [
    "LearningSet = pd.read_csv('HPLearningSet.csv')"
   ]
  },
  {
   "cell_type": "markdown",
   "metadata": {},
   "source": [
    "- S_MASS: Masa estelar (Msun)\n",
    "- P_PERIOD: periodo de la órbita (days)\n",
    "- P_DISTANCE: distancia planeta-estrella (AU)\n"
   ]
  },
  {
   "cell_type": "code",
   "execution_count": null,
   "metadata": {
    "id": "S31Snty3jLVm",
    "outputId": "1118d7eb-5abb-40ba-96d3-781ad634e08d"
   },
   "outputs": [],
   "source": [
    "LearningSet"
   ]
  },
  {
   "cell_type": "markdown",
   "metadata": {
    "id": "Q6KnD1qklPyP"
   },
   "source": [
    "Botamos la primera columna, que es sólo un índice"
   ]
  },
  {
   "cell_type": "code",
   "execution_count": null,
   "metadata": {
    "id": "BoWvUe7ujLVn"
   },
   "outputs": [],
   "source": [
    "LearningSet = LearningSet.drop(LearningSet.columns[0], axis=1) "
   ]
  },
  {
   "cell_type": "code",
   "execution_count": null,
   "metadata": {
    "id": "sC2BBxaJjLVo",
    "outputId": "a54c383d-d477-4881-af2e-ca7f5c7e2a69"
   },
   "outputs": [],
   "source": [
    "LearningSet"
   ]
  },
  {
   "cell_type": "code",
   "execution_count": null,
   "metadata": {
    "id": "BnAqt7rPjLVo",
    "outputId": "8b05b1c3-0a2b-4bd0-9f00-63471f1f7b3d"
   },
   "outputs": [],
   "source": [
    "LearningSet[['P_NAME','S_MASS']] "
   ]
  },
  {
   "cell_type": "code",
   "execution_count": null,
   "metadata": {
    "id": "70jCyNWBjLVp",
    "outputId": "b0193954-82e7-411d-e8e1-63e153449737"
   },
   "outputs": [],
   "source": [
    "LearningSet.P_NAME "
   ]
  },
  {
   "cell_type": "markdown",
   "metadata": {
    "id": "bKO9qfkEjLVp"
   },
   "source": [
    "### Elijamos el set de entrenamiento y prueba de acuerdo a las slides de la clase"
   ]
  },
  {
   "cell_type": "markdown",
   "metadata": {
    "id": "rT6L_Pr6jLVp"
   },
   "source": [
    "Definimos que las primeras 13 filas del dataframe será el conjunto de entrenamiento y los últimos 5, el conjunto de prueba (usualmente esta selección se hace de forma aleatoria).\n",
    "\n",
    "Usaremos .iloc para acceder a los índices del dataframe"
   ]
  },
  {
   "cell_type": "code",
   "execution_count": null,
   "metadata": {
    "id": "2LoDG2xhjLVp"
   },
   "outputs": [],
   "source": [
    "TrainSet =  LearningSet.iloc[:13,:]  \n",
    "\n",
    "TestSet = LearningSet.iloc[13:,:]"
   ]
  },
  {
   "cell_type": "code",
   "execution_count": null,
   "metadata": {
    "id": "6yCeupCejLVp",
    "outputId": "3f510a53-76bf-49fe-b3d4-79b427db98b0"
   },
   "outputs": [],
   "source": [
    "TrainSet"
   ]
  },
  {
   "cell_type": "code",
   "execution_count": null,
   "metadata": {
    "id": "Mpj_v9DRjLVq",
    "outputId": "64eab0a9-5be7-4830-f75c-b8b474e5c13b"
   },
   "outputs": [],
   "source": [
    "TestSet"
   ]
  },
  {
   "cell_type": "markdown",
   "metadata": {
    "id": "JNx2frGmjLVq"
   },
   "source": [
    "También necesitamos definir para cada conjunto las características (features) y los objetivos (targets)"
   ]
  },
  {
   "cell_type": "code",
   "execution_count": null,
   "metadata": {
    "id": "x0rYstTjjLVq"
   },
   "outputs": [],
   "source": [
    "Xtrain = TrainSet.drop(['P_NAME','P_HABITABLE'],axis=1) #features conjunto de entrenamiento\n",
    "\n",
    "Xtest = TestSet.drop(['P_NAME','P_HABITABLE'],axis=1) #features  conjunto de entrenamiento"
   ]
  },
  {
   "cell_type": "code",
   "execution_count": null,
   "metadata": {},
   "outputs": [],
   "source": [
    "Xtrain.columns"
   ]
  },
  {
   "cell_type": "code",
   "execution_count": null,
   "metadata": {
    "id": "H4Hgv9SSjLVq"
   },
   "outputs": [],
   "source": [
    "ytrain = TrainSet.P_HABITABLE #target conjunto prueba\n",
    "\n",
    "ytest = TestSet.P_HABITABLE  #target conjunto prueba"
   ]
  },
  {
   "cell_type": "code",
   "execution_count": null,
   "metadata": {
    "scrolled": true
   },
   "outputs": [],
   "source": [
    "type(Xtrain)"
   ]
  },
  {
   "cell_type": "code",
   "execution_count": null,
   "metadata": {},
   "outputs": [],
   "source": [
    "Xtrain"
   ]
  },
  {
   "cell_type": "markdown",
   "metadata": {
    "id": "xEVQ9bmhjLVr"
   },
   "source": [
    "### Ahora ajustaremos los datos a nuestro árbol de entrenamiento\n",
    "\n",
    "Nota: En los árboles de decisión de scikit-learn, las características (o variables) se reorganizan aleatoriamente cada vez que se realiza una división para decidir cómo separar los datos. Esto significa que, incluso si se usa el mismo conjunto de datos de entrenamiento, la mejor forma de dividir los datos puede cambiar entre diferentes ejecuciones del modelo. Esta variación ocurre cuando varias divisiones posibles ofrecen la misma mejora en el criterio de evaluación (por ejemplo, reducir la impureza del nodo). En estos casos, el algoritmo puede elegir diferentes divisiones como \"mejores\" en diferentes ejecuciones debido al orden aleatorio en que se evalúan las características.\n",
    "\n",
    "Para asegurar que los resultados del entrenamiento sean consistentes y reproducibles (es decir, que se obtenga el mismo árbol de decisión cada vez que se entrene con los mismos datos), es necesario fijar el parámetro random_state. Esto establece una semilla para el generador de números aleatorios utilizado por el algoritmo, garantizando que la permutación de las características sea la misma en cada ejecución y, por lo tanto, el resultado del modelo también sea el mismo."
   ]
  },
  {
   "cell_type": "code",
   "execution_count": null,
   "metadata": {
    "id": "zhwveIQjjLVr",
    "outputId": "afde9df5-6466-4f43-e438-60ec95bb595b"
   },
   "outputs": [],
   "source": [
    "model = DecisionTreeClassifier(random_state = 3) #Inicializamos el modelo con sus parámetros\n",
    "\n",
    "model.fit(Xtrain, ytrain) #En una línea, construimos el modelo"
   ]
  },
  {
   "cell_type": "markdown",
   "metadata": {
    "id": "cftiljCljLVr"
   },
   "source": [
    "### Podemos visualizar el árbol (visualización \"pro\")\n",
    "\n",
    "debe instalar la libreria [`pydotplus`](https://pypi.org/project/pydotplus/)  y [`graphviz`](https://pypi.org/project/graphviz/) "
   ]
  },
  {
   "cell_type": "code",
   "execution_count": null,
   "metadata": {
    "id": "3ewCXDmKjLVr",
    "outputId": "721bfbec-2759-4a07-faaa-357c873bb4f4"
   },
   "outputs": [],
   "source": [
    "dot_data = StringIO()\n",
    "export_graphviz(\n",
    "            model,\n",
    "            out_file =  dot_data,\n",
    "            feature_names = ['Stellar Mass (M*)', 'Orbital Period (d)', 'Distance (AU)'],\n",
    "            class_names = ['Not Habitable','Habitable'],\n",
    "            filled = True,\n",
    "            rounded = True)\n",
    "graph = pydotplus.graph_from_dot_data(dot_data.getvalue().replace(\"\\n\", \"\"))  \n",
    "nodes = graph.get_node_list()\n",
    "\n",
    "for node in nodes:\n",
    "    if node.get_label():\n",
    "        values = [int(ii) for ii in node.get_label().split('value = [')[1].split(']')[0].split(',')]\n",
    "        values = [255 * v / sum(values) for v in values]\n",
    "        \n",
    "        values = [int(255 * v / sum(values)) for v in values]\n",
    "            \n",
    "        if values[0] > values[1]:\n",
    "            alpha = int(values[0] - values[1])\n",
    "            alpha = '{:02x}'.format(alpha) #turn into hexadecimal\n",
    "            color = '#20 B2 AA'+str(alpha)\n",
    "        else:\n",
    "            alpha = int(values[1] - values[0])\n",
    "            alpha = '{:02x}'.format(alpha)\n",
    "            color = '#FF 00 FF'+str(alpha)\n",
    "        node.set_fillcolor(color)\n",
    "\n",
    "graph.set_dpi('300')\n",
    "\n",
    "Image(graph.create_png())\n",
    "\n",
    "#Image(graph.write_png('Graph.png'))"
   ]
  },
  {
   "cell_type": "markdown",
   "metadata": {
    "id": "5NeujGhVjLVr"
   },
   "source": [
    "### Visualización de sklearn"
   ]
  },
  {
   "cell_type": "code",
   "execution_count": null,
   "metadata": {
    "id": "rCQGbmY4jLVs",
    "outputId": "d0dcd34d-6e48-4253-ad05-6ab2433cb546"
   },
   "outputs": [],
   "source": [
    "from sklearn import tree\n",
    "\n",
    "plt.figure(figsize=(45,20))  # customize according to the size of your tree\n",
    "\n",
    "tree.plot_tree(model, feature_names = ['Stellar Mass (M*)', 'Orbital Period (d)', 'Distance (AU)'], class_names = ['Not Habitable','Habitable'])\n",
    "\n",
    "plt.show()"
   ]
  },
  {
   "cell_type": "markdown",
   "metadata": {
    "id": "CnQVLhEZjLVs"
   },
   "source": [
    "### También podemos visualizar las decisiones del clasificador. El color de sombreado predice la etiqueta, y el color de los puntos marca la etiqueta real:"
   ]
  },
  {
   "cell_type": "code",
   "execution_count": null,
   "metadata": {
    "id": "Bx1e9qh7jLVs",
    "outputId": "053eadb6-3a77-4a59-d232-59afa36a4ec9"
   },
   "outputs": [],
   "source": [
    "plt.figure(figsize=(12,8))\n",
    "\n",
    "cmap = matplotlib.colors.LinearSegmentedColormap.from_list(\"\", ['#20B2AA','#FF00FF'])\n",
    "\n",
    "#puntos de entrenamiento y prueba\n",
    "\n",
    "plt.scatter(TrainSet['S_MASS'], TrainSet['P_PERIOD'], marker = '*',\\\n",
    "            c = TrainSet['P_HABITABLE'], s = 100, cmap=cmap, label = 'Train')\n",
    "\n",
    "plt.scatter(TestSet['S_MASS'], TestSet['P_PERIOD'], marker = 'o',\\\n",
    "            c = TestSet['P_HABITABLE'], s = 100, cmap=cmap, label = 'Test')\n",
    "\n",
    "plt.yscale('log')\n",
    "\n",
    "plt.xlabel('Mass of Parent Star (Solar Mass Units)')\n",
    "\n",
    "plt.ylabel('Period of Orbit (days)');\n",
    "\n",
    "#splits del gráfico\n",
    "\n",
    "plt.axvline(x=0.83, linewidth =1, ls = '-', label = '1st split', c='k')\n",
    "\n",
    "plt.axhline(y=4.891, xmin = 0, xmax = 0.655, linewidth =1, ls = '--', label = '2nd split',c='k')\n",
    "\n",
    "plt.text(0.845, 10**3, '1st split', fontsize=14)\n",
    "         \n",
    "plt.text(0.65, 6, '2nd split', fontsize=14)\n",
    "\n",
    "#leyenda\n",
    "\n",
    "bluepatch = mpatches.Patch(color='#20B2AA', label='Not Habitable')\n",
    "\n",
    "magentapatch = mpatches.Patch(color='#FF00FF', label='Habitable')\n",
    "\n",
    "plt.legend();\n",
    "\n",
    "ax = plt.gca()\n",
    "\n",
    "predhab = mpatches.Rectangle((0,4.891),0.83,ax.get_ylim()[1], \n",
    "                        fill = True,\n",
    "                        color = '#FF00FF',\n",
    "                        alpha = 0.3)\n",
    "\n",
    "prednothab1 = mpatches.Rectangle((0.83,ax.get_ylim()[0]),ax.get_xlim()[1],ax.get_ylim()[1], \n",
    "                        fill = True,\n",
    "                        color = '#20B2AA',\n",
    "                        alpha = 0.3)\n",
    "\n",
    "prednothab2 = mpatches.Rectangle((0,ax.get_ylim()[0]),0.83,4.891-ax.get_ylim()[0], \n",
    "                        fill = True,\n",
    "                        color = '#20B2AA',\n",
    "                        alpha = 0.3)\n",
    "\n",
    "leg = ax.get_legend()\n",
    "leg.legend_handles[0].set_color('k')\n",
    "leg.legend_handles[1].set_color('k')\n",
    "\n",
    "plt.gca().add_patch(predhab)\n",
    "plt.gca().add_patch(prednothab1)\n",
    "plt.gca().add_patch(prednothab2)\n",
    "\n",
    "leg = ax.get_legend()\n",
    "leg.legend_handles[0].set_color('k')\n",
    "leg.legend_handles[1].set_color('k')\n",
    "\n",
    "\n",
    "plt.legend(handles=[leg.legend_handles[0],leg.legend_handles[1], magentapatch, bluepatch],\\\n",
    "           loc = 'upper left', fontsize = 14);\n"
   ]
  },
  {
   "cell_type": "markdown",
   "metadata": {
    "id": "ZDfagheRjLVs"
   },
   "source": [
    "### Preguntas: \n",
    "    \n",
    "- ¿Cuál es el accuracy (porcentaje de clasificaciones correctas) en el set de entrenamiento? \n",
    "\n",
    "\n",
    "- Y accuracy en el set de prueba? "
   ]
  },
  {
   "cell_type": "markdown",
   "metadata": {
    "id": "9vNiF82JmBv5"
   },
   "source": [
    "### usando la métricas de sklearn, podemos encontrar el accuracy\n"
   ]
  },
  {
   "cell_type": "code",
   "execution_count": null,
   "metadata": {
    "id": "cUCUGr3bjLVs"
   },
   "outputs": [],
   "source": [
    "ypred = model.predict(Xtest) #generamos etiquetas de predicción en el set de prueba"
   ]
  },
  {
   "cell_type": "code",
   "execution_count": null,
   "metadata": {},
   "outputs": [],
   "source": [
    "ypred"
   ]
  },
  {
   "cell_type": "code",
   "execution_count": null,
   "metadata": {
    "id": "--fxWr05jLVt",
    "outputId": "4c64186e-8177-4ac8-a91d-9ff74c96ac3b"
   },
   "outputs": [],
   "source": [
    "metrics.accuracy_score(ytest, ypred) #test score"
   ]
  },
  {
   "cell_type": "code",
   "execution_count": null,
   "metadata": {
    "id": "Jqvj0kNyjLVt",
    "outputId": "2593d9dc-7204-4e6d-8e1f-dda1318c65f5"
   },
   "outputs": [],
   "source": [
    "metrics.accuracy_score(ytrain, model.predict(Xtrain)) #train score"
   ]
  },
  {
   "cell_type": "markdown",
   "metadata": {
    "id": "fy2PYSRCjLVt"
   },
   "source": [
    "### Ahora elegiremos un set de entrenamiento distinto. Las 5 primeras filas serán de prueba y el resto será para el entrenamiento"
   ]
  },
  {
   "cell_type": "code",
   "execution_count": null,
   "metadata": {
    "id": "A7XNn6ltjLVt"
   },
   "outputs": [],
   "source": [
    "# los primeros 5 de prueba, el resto de entrenamiento\n",
    "TrainSet2 = LearningSet.iloc[5:,:] \n",
    "\n",
    "TestSet2 = LearningSet.iloc[:5,:]"
   ]
  },
  {
   "cell_type": "markdown",
   "metadata": {
    "id": "nVvcPXeojLVt"
   },
   "source": [
    "### Repita el proceso anterior\n",
    "\n",
    "1. Defina los dataframes de características y la serie de categorías para entrenamiento y prueba: `Xtrain2`, `Xtest2`, `ytrain2`, `ytest2`\n",
    "2. inicialice el modelo de árbol de decisión para clasificación (defina semilla `random_state=3`\n",
    "3. ajuste el modelo a los datos de entrenamiento\n",
    "4. visualice el árbol\n",
    "5. calcule accuracy para entrenamiento y prueba"
   ]
  },
  {
   "cell_type": "code",
   "execution_count": null,
   "metadata": {
    "id": "RN8m1qAWjLVu",
    "outputId": "8cad733e-b326-497d-c79b-9b331f3d4326"
   },
   "outputs": [],
   "source": []
  },
  {
   "cell_type": "code",
   "execution_count": null,
   "metadata": {
    "id": "oSeRlNcIjLVu",
    "outputId": "aa43ad68-36c8-4fcc-e73c-6bb41f4b936a"
   },
   "outputs": [],
   "source": []
  },
  {
   "cell_type": "markdown",
   "metadata": {
    "id": "CnH3HjFujLVu"
   },
   "source": [
    "### Preguntas:\n",
    "\n",
    "- Compare el árbol de decisión inicial vs el obtenido ahora. Nota alguna diferencia?\n",
    "\n",
    "- ¿Cuál es el accuracy (porcentaje de clasificaciones correctas) en el conjunto de entrenamiento? \n",
    "\n",
    "- ¿Y en el conjunto de prueba?\n"
   ]
  },
  {
   "cell_type": "code",
   "execution_count": null,
   "metadata": {},
   "outputs": [],
   "source": []
  },
  {
   "cell_type": "code",
   "execution_count": null,
   "metadata": {
    "id": "vKprtaTFjLVu",
    "outputId": "e8cf65cb-0f14-4be3-9e67-674c0e047ba3"
   },
   "outputs": [],
   "source": []
  },
  {
   "cell_type": "markdown",
   "metadata": {
    "id": "avAVQvMvjLVv"
   },
   "source": [
    "### Saquemos algunas conclusiones juntos.\n",
    "\n",
    "- Que puede concluir respecto a al ejercicio?\n",
    "\n",
    "- Cambian los resultados dependiendo del set de datos que utilizamos?\n",
    "\n",
    "- ¿Sería la Tierra clasificada como habitable por alguno de estos árboles?"
   ]
  },
  {
   "cell_type": "code",
   "execution_count": null,
   "metadata": {
    "id": "a-_W26J_jLVv"
   },
   "outputs": [],
   "source": []
  },
  {
   "cell_type": "markdown",
   "metadata": {},
   "source": [
    "## k-Nearest Neighbors "
   ]
  },
  {
   "cell_type": "code",
   "execution_count": null,
   "metadata": {
    "id": "WHBpV2eMmTXU"
   },
   "outputs": [],
   "source": [
    "from sklearn import neighbors \n",
    "import sklearn"
   ]
  },
  {
   "cell_type": "markdown",
   "metadata": {
    "id": "MaBOXOvkmTXV"
   },
   "source": [
    "Para el mismo set de datos de habitabilidad de planetas"
   ]
  },
  {
   "cell_type": "code",
   "execution_count": null,
   "metadata": {
    "id": "pt8ixgEJmTXX",
    "outputId": "2df9a696-5627-449e-ae71-4857eb2ff687"
   },
   "outputs": [],
   "source": [
    "LearningSet "
   ]
  },
  {
   "cell_type": "markdown",
   "metadata": {
    "id": "KJPTy62umTXX"
   },
   "source": [
    "### Misma división que en el primer caso anterior"
   ]
  },
  {
   "cell_type": "code",
   "execution_count": null,
   "metadata": {
    "id": "oYSZgbXQmTXY"
   },
   "outputs": [],
   "source": [
    "TrainSet =  LearningSet.iloc[:13,:] \n",
    "\n",
    "TestSet = LearningSet.iloc[13:,:]"
   ]
  },
  {
   "cell_type": "markdown",
   "metadata": {
    "id": "LahO_n2emTXY"
   },
   "source": [
    "### dividimos los features y targets"
   ]
  },
  {
   "cell_type": "code",
   "execution_count": null,
   "metadata": {
    "id": "1LxNUv_8mTXZ"
   },
   "outputs": [],
   "source": [
    "Xtrain = TrainSet.drop(['P_NAME','P_HABITABLE'],axis=1) \n",
    "\n",
    "Xtest = TestSet.drop(['P_NAME','P_HABITABLE'],axis=1)  "
   ]
  },
  {
   "cell_type": "code",
   "execution_count": null,
   "metadata": {
    "id": "inMI083rmTXa"
   },
   "outputs": [],
   "source": [
    "ytrain = TrainSet.P_HABITABLE \n",
    "\n",
    "ytest = TestSet.P_HABITABLE "
   ]
  },
  {
   "cell_type": "markdown",
   "metadata": {
    "id": "Xqe9XbHkmTXa"
   },
   "source": [
    "### Ahora estamos listos para implementar el algoritmo \n",
    "Es un algoritmo sencillo basado en la idea de distancia: buscamos los k (un número entero) objetos que están más cerca del que queremos clasificar, y tomamos la votación de la mayoría entre las k clases de los k vecinos.\n",
    "\n",
    "kNN es un algoritmo basado en instancias (también llamado \"lazy learning\"), sigue necesitando saber con qué datos va a comparar para hacer predicciones futuras. El método fit le dice al algoritmo con qué datos va a trabajar.\n",
    "\n",
    "El método fit en kNN no ajusta parámetros del modelo como en otros algoritmos.\n",
    "Simplemente almacena los datos de entrenamiento para su uso durante la predicción.\n",
    "Durante la predicción, el algoritmo calcula las distancias entre el nuevo punto y los puntos de entrenamiento almacenados para encontrar los k vecinos más cercanos y decidir la clase del nuevo punto basado en una votación mayoritaria.\n",
    "En esencia, el proceso de \"ajuste\" en kNN es solo la configuración de los datos de referencia para comparaciones futuras, no un ajuste de parámetros basado en optimización.\n",
    "\n",
    "\n",
    "\n",
    "\n",
    "\n",
    "\n",
    "\n"
   ]
  },
  {
   "cell_type": "code",
   "execution_count": null,
   "metadata": {
    "id": "1jHRgc_NmTXb"
   },
   "outputs": [],
   "source": [
    "model = neighbors.KNeighborsClassifier(n_neighbors = 3)"
   ]
  },
  {
   "cell_type": "code",
   "execution_count": null,
   "metadata": {
    "id": "q7G_QCrZmTXb",
    "outputId": "968371ff-3426-4c12-ee85-bffe547515bd"
   },
   "outputs": [],
   "source": [
    "model"
   ]
  },
  {
   "cell_type": "markdown",
   "metadata": {
    "id": "NCtVQrn0mTXb"
   },
   "source": [
    "#### Para propósitos de visualización, usemos solo las dos primeras características para construir el modelo."
   ]
  },
  {
   "cell_type": "code",
   "execution_count": null,
   "metadata": {
    "id": "n8iOt2HSmTXb",
    "outputId": "8c3150dc-516c-4d9a-c63b-91812599f14d"
   },
   "outputs": [],
   "source": [
    "Xtrain.iloc[:,:2] "
   ]
  },
  {
   "cell_type": "markdown",
   "metadata": {
    "id": "eNWV3ylemTXc"
   },
   "source": [
    "#### Se construye el modelo aplicando el método .fit al conjunto de entrenamiento. Luego, predice las etiquetas para el conjunto de prueba."
   ]
  },
  {
   "cell_type": "code",
   "execution_count": null,
   "metadata": {
    "id": "0R04hMy_mTXc"
   },
   "outputs": [],
   "source": [
    "model.fit(Xtrain.iloc[:,:2],ytrain) #esto ajusta el modelo que se usa para hacer predicciones en nuevas instancias\n",
    "ytestpred = model.predict(Xtest.iloc[:,:2]) #esto ajsta el modelo en los datos de prueba"
   ]
  },
  {
   "cell_type": "code",
   "execution_count": null,
   "metadata": {
    "id": "Z-v6dbZamTXc",
    "outputId": "f2c4d82a-d139-48d2-a483-bee3072d2245"
   },
   "outputs": [],
   "source": [
    "ytestpred, ytest.values #comparacion"
   ]
  },
  {
   "cell_type": "markdown",
   "metadata": {
    "id": "Qjz3_gKDmTXd"
   },
   "source": [
    "#### Calculando accuracy en los sets de entrenamiento y prueba"
   ]
  },
  {
   "cell_type": "code",
   "execution_count": null,
   "metadata": {
    "id": "dS0qLYezmTXd",
    "outputId": "9d93259b-7009-4d4e-e31e-9392ad2b8b75",
    "scrolled": true
   },
   "outputs": [],
   "source": [
    "print(metrics.accuracy_score(ytrain, model.predict(Xtrain.iloc[:,:2]))) #Esto compara las etiquetas reales del set de entrenamiento con las etiquetas predichas para el test de entrenamiento\n",
    "\n",
    "print(metrics.accuracy_score(ytest, model.predict(Xtest.iloc[:,:2]))) #mismo que anterior, pero para set de prueba"
   ]
  },
  {
   "cell_type": "markdown",
   "metadata": {
    "id": "lYgsrB-hmTXd"
   },
   "source": [
    "#### Después de ajustar y la predicción, podemos ver los k neighbors que encontró el modelo en el conjunto de prueba"
   ]
  },
  {
   "cell_type": "code",
   "execution_count": null,
   "metadata": {
    "id": "_dkFzNOxmTXd",
    "outputId": "e1673fa3-c57b-4b52-c93b-f8bced714ee2"
   },
   "outputs": [],
   "source": [
    "model.kneighbors(Xtest.iloc[:,:2]) #el primer elemento es la distancia, el segundo los índices de cada vecinos"
   ]
  },
  {
   "cell_type": "markdown",
   "metadata": {
    "id": "LVr8eHyMmTXe"
   },
   "source": [
    "### Visualizando los resultados"
   ]
  },
  {
   "cell_type": "markdown",
   "metadata": {
    "id": "YZckHuh5mTXe"
   },
   "source": [
    "USamos la distancia del tercer vecino como el radio del círculo que encierra vecinos\n"
   ]
  },
  {
   "cell_type": "code",
   "execution_count": null,
   "metadata": {
    "id": "TQMifEZcmTXe",
    "outputId": "d1b1990d-16a5-484a-f88a-49e7a24da8d5"
   },
   "outputs": [],
   "source": [
    "for i in range(len(TestSet)): # para cada elemento del set de prueba\n",
    "    \n",
    "    print(model.kneighbors(Xtest.iloc[:,:2])[0][i,2]) # muestra el tercer elemento del vector de distancia"
   ]
  },
  {
   "cell_type": "markdown",
   "metadata": {
    "id": "nfUhn5CEnZVC"
   },
   "source": [
    "El siguiente código dibuja un círculo incluyendo a los 3 vecinos más cercanos para cada punto"
   ]
  },
  {
   "cell_type": "markdown",
   "metadata": {},
   "source": [
    "### Nota: Para la aplicación real (no la visualización), debiéramos usar todas las features disponibles "
   ]
  },
  {
   "cell_type": "code",
   "execution_count": null,
   "metadata": {
    "id": "12r4kH3WmTXe",
    "outputId": "bcb48825-c119-466f-a34c-2188c429b904"
   },
   "outputs": [],
   "source": [
    "plt.figure(figsize=(10,6))\n",
    "cmap = matplotlib.colors.LinearSegmentedColormap.from_list(\"\", ['#20B2AA','#FF00FF'])\n",
    "\n",
    "\n",
    "a= plt.scatter(TrainSet['S_MASS'], TrainSet['P_PERIOD'], marker = '*',facecolor = 'None',\\\n",
    "            c = TrainSet['P_HABITABLE'], s = 100, label = 'Train', cmap=cmap) \n",
    "\n",
    "#a.set_facecolor('none')\n",
    "\n",
    "\n",
    "a= plt.scatter(TestSet['S_MASS'], TestSet['P_PERIOD'], marker = 'o',facecolor = 'None',\\\n",
    "            c = TestSet['P_HABITABLE'], s = 100, label = 'Test', cmap=cmap, alpha=0.5) \n",
    "\n",
    "#a.set_facecolor('none')\n",
    "\n",
    "for i in range(len(TestSet)): #plot neighbors\n",
    "\n",
    "    circle1=plt.Circle((TestSet['S_MASS'].iloc[i],TestSet['P_PERIOD'].iloc[i]),model.kneighbors(Xtest.iloc[:,:2])[0][i,2],\\\n",
    "                       lw = 0.7, edgecolor='k',facecolor='none')\n",
    "    plt.gca().add_artist(circle1)\n",
    "    \n",
    "plt.gca().set_aspect(1)\n",
    "\n",
    "bluepatch = mpatches.Patch(color='#20B2AA', label='Not Habitable')\n",
    "magentapatch = mpatches.Patch(color='#FF00FF', label='Habitable')\n",
    "\n",
    "plt.legend();\n",
    "\n",
    "ax = plt.gca()\n",
    "leg = ax.get_legend()\n",
    "leg.legend_handles[0].set_color('k')\n",
    "leg.legend_handles[0].set_facecolor('none')\n",
    "leg.legend_handles[1].set_color('k')\n",
    "leg.legend_handles[1].set_facecolor('none')\n",
    "\n",
    "\n",
    "plt.legend(handles=[leg.legend_handles[0],leg.legend_handles[1], magentapatch, bluepatch],\\\n",
    "           loc = 'upper left', fontsize = 14)\n",
    "\n",
    "plt.xlim(-130,70)\n",
    "plt.ylim(0,140)\n",
    "plt.xlabel('Mass of Parent Star (Solar Mass Units)')\n",
    "plt.ylabel('Period of Orbit (days)');\n",
    "\n",
    "#plt.savefig('HabPlanetsKNN2features.png', dpi = 300)"
   ]
  },
  {
   "cell_type": "markdown",
   "metadata": {
    "id": "OwfvqaHxmTXf"
   },
   "source": [
    "### Nota algo particular en el gráfico?"
   ]
  },
  {
   "cell_type": "code",
   "execution_count": null,
   "metadata": {
    "id": "9QAj9GiOmTXf"
   },
   "outputs": [],
   "source": [
    "\n",
    "\n",
    "\n",
    "\n",
    "\n",
    "\n",
    "\n",
    "\n",
    "\n",
    "\n",
    "\n"
   ]
  },
  {
   "cell_type": "markdown",
   "metadata": {
    "id": "AdBW2zgTmTXf"
   },
   "source": [
    "### Si una dimensión tiene un rango mucho mayor que las otras, dominará el proceso de decisión. Este problema se puede solucionar mediante el <b>escalado</b>. El escalado es un paso de preprocesamiento muy importante para la mayoría de los algoritmos de aprendizaje automático.\n",
    "\n",
    "\n",
    "\n",
    "Algunos ejemplos de algoritmos de Scaler [aquí](https://scikit-learn.org/stable/auto_examples/preprocessing/plot_all_scaling.html).\n",
    "\n",
    "Usaremos [`RobustScaler()`](https://scikit-learn.org/stable/modules/generated/sklearn.preprocessing.RobustScaler.html), que se comporta mejor con outliers que la versión estándar, ya que escala de acuerdo a percentiles. Específicamente, usa la mediana (percentil 50) y el rango intercuartílico (IQR = Q3 - Q1), lo cual lo hace menos sensible a valores extremos\n"
   ]
  },
  {
   "cell_type": "code",
   "execution_count": null,
   "metadata": {
    "id": "98kHG4jKmTXf"
   },
   "outputs": [],
   "source": [
    "scaler = sklearn.preprocessing.RobustScaler() #inicializamos el Scaler"
   ]
  },
  {
   "cell_type": "markdown",
   "metadata": {},
   "source": [
    "#### Importante!!\n",
    "\n",
    "Debemos ajustar el escalador **sólo con los datos de entrenamiento**. Esto se hace porque **el modelo no debe tener acceso a los datos de prueba durante el entrenamiento**. Si usamos los datos de prueba para ajustar el escalador, estaríamos filtrando información del futuro, lo que se conoce como data leakage.\n",
    "\n",
    "Esto puede llevar a dos problemas: por un lado, el modelo podría parecer más preciso de lo que realmente es, y por otro, podría aprender patrones que no se generalizan bien a datos nuevos, lo que se traduce en sobreajuste.\n",
    "\n",
    "Para evitar esto, primero se ajusta el escalador con los datos de entrenamiento (`fit`), y luego se usa ese mismo escalador para transformar tanto el entrenamiento como el test (`transform`)."
   ]
  },
  {
   "cell_type": "code",
   "execution_count": null,
   "metadata": {
    "id": "_z6y9A66mTXf",
    "outputId": "6a4cbae3-8885-4cbd-f104-fd43003ca377"
   },
   "outputs": [],
   "source": [
    "scaler.fit(Xtrain) # importante: solo escalamos el set de entrenamiento"
   ]
  },
  {
   "cell_type": "code",
   "execution_count": null,
   "metadata": {
    "id": "wl4FXYCFmTXg"
   },
   "outputs": [],
   "source": [
    "scaledXTrain = scaler.transform(Xtrain)"
   ]
  },
  {
   "cell_type": "code",
   "execution_count": null,
   "metadata": {
    "id": "CpL4gFD-mTXg",
    "outputId": "eb8e1f54-befa-4ae2-c725-b56bc535b0ce"
   },
   "outputs": [],
   "source": [
    "scaledXTrain"
   ]
  },
  {
   "cell_type": "code",
   "execution_count": null,
   "metadata": {
    "id": "jHI3Z4H0mTXg"
   },
   "outputs": [],
   "source": [
    "scaledXtest = scaler.transform(Xtest) # "
   ]
  },
  {
   "cell_type": "code",
   "execution_count": null,
   "metadata": {
    "id": "PCVhyjjgmTXg"
   },
   "outputs": [],
   "source": [
    "scaler.inverse_transform #esto invierte el escalado si es necesario"
   ]
  },
  {
   "cell_type": "markdown",
   "metadata": {},
   "source": [
    "Ahora, con los datos escalados, aplique el modelo de kNN inicializado anteriormente, genere las predicciones y genere la misma visualización que en el caso anterior"
   ]
  },
  {
   "cell_type": "code",
   "execution_count": null,
   "metadata": {},
   "outputs": [],
   "source": []
  },
  {
   "cell_type": "code",
   "execution_count": null,
   "metadata": {},
   "outputs": [],
   "source": []
  },
  {
   "cell_type": "code",
   "execution_count": null,
   "metadata": {},
   "outputs": [],
   "source": []
  },
  {
   "cell_type": "markdown",
   "metadata": {
    "id": "XdoEKOUlmTXh"
   },
   "source": [
    "### Preguntas de discusión:\n",
    "\n",
    "- Descubrimos que kNN necesita escalado ¿DT tiene el mismo problema?\n",
    "\n",
    "- Compare las fortalezas y debilidades de DT y kNN\n"
   ]
  },
  {
   "cell_type": "code",
   "execution_count": null,
   "metadata": {},
   "outputs": [],
   "source": []
  },
  {
   "cell_type": "code",
   "execution_count": null,
   "metadata": {},
   "outputs": [],
   "source": []
  },
  {
   "cell_type": "code",
   "execution_count": null,
   "metadata": {},
   "outputs": [],
   "source": []
  },
  {
   "cell_type": "code",
   "execution_count": null,
   "metadata": {},
   "outputs": [],
   "source": []
  },
  {
   "cell_type": "code",
   "execution_count": null,
   "metadata": {},
   "outputs": [],
   "source": []
  },
  {
   "cell_type": "code",
   "execution_count": null,
   "metadata": {},
   "outputs": [],
   "source": []
  }
 ],
 "metadata": {
  "colab": {
   "provenance": []
  },
  "kernelspec": {
   "display_name": "Python [conda env:base] *",
   "language": "python",
   "name": "conda-base-py"
  },
  "language_info": {
   "codemirror_mode": {
    "name": "ipython",
    "version": 3
   },
   "file_extension": ".py",
   "mimetype": "text/x-python",
   "name": "python",
   "nbconvert_exporter": "python",
   "pygments_lexer": "ipython3",
   "version": "3.12.7"
  }
 },
 "nbformat": 4,
 "nbformat_minor": 4
}
