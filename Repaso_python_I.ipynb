{
 "cells": [
  {
   "cell_type": "markdown",
   "id": "d8db4c9c",
   "metadata": {},
   "source": [
    "# AST332 Introducción a Machine Learning para Astronomía\n",
    "Pía Amigo, II Semestre 2024"
   ]
  },
  {
   "cell_type": "markdown",
   "id": "08171b3d",
   "metadata": {},
   "source": [
    "## Repaso Python\n",
    "Durante este curso estaremos utilizando Python como lenguaje de programación para las actividades prácticas. En este notebook haremos una revisión de los tópicos importantes respecto a programación y manejo de datos en Python. Asegúrese de revisar cada tópico y realizar los ejercicios que aparecen.\n",
    "\n",
    "**Este notebook incluye los siguientes tópicos:**\n",
    "* Tipos de datos\n",
    "    * Números\n",
    "    * Strings\n",
    "    * Listas\n",
    "    * Diccionarios\n",
    "    * Booleanos\n",
    "    * Tuplas\n",
    "* Operadores de comparación\n",
    "* Sentencias if, elif, else\n",
    "* Bucles for, while\n",
    "* range()\n",
    "* List comprehension\n",
    "* Funciones\n",
    "* Función lambda\n",
    "* map y filter\n",
    "* métodos\n",
    "\n",
    "____\n",
    "\n",
    "Links de interés:\n",
    "* https://catedu.github.io/python-for-person-in-everybody/es/01-intro.html\n",
    "* https://realpython.com/python-first-steps/#running-your-python-interpreter\n",
    "* An Introduction to Statistical Learning with Applications in Python https://www.statlearning.com/ (Chapter 2, section 2.3, Lab: Introduction to Python) \n"
   ]
  },
  {
   "cell_type": "markdown",
   "id": "9ea15626",
   "metadata": {},
   "source": [
    "Para síntaxis de markdown, puede revisar el siguiente link:\n",
    "* https://www.markdownguide.org/basic-syntax/"
   ]
  },
  {
   "cell_type": "markdown",
   "id": "e5c3fbd8",
   "metadata": {},
   "source": [
    "print('hola mundo')"
   ]
  },
  {
   "cell_type": "code",
   "execution_count": null,
   "id": "a1086d9c",
   "metadata": {},
   "outputs": [],
   "source": [
    "print('hola mundo')"
   ]
  },
  {
   "cell_type": "code",
   "execution_count": null,
   "id": "8ee2d9f2",
   "metadata": {},
   "outputs": [],
   "source": []
  },
  {
   "cell_type": "markdown",
   "id": "264dadb2",
   "metadata": {},
   "source": [
    "##  Asignación de variables\n",
    "* Sirven para guardar valores\n",
    "* Se crean al asignarle un valor \n",
    "* El nombre de la variable no debe empezar con número o caracter especial \n",
    "* Los nombres de las variables son case-sensitive\n"
   ]
  },
  {
   "cell_type": "code",
   "execution_count": null,
   "id": "7f77d8c4",
   "metadata": {},
   "outputs": [],
   "source": [
    "nombre_var = 2"
   ]
  },
  {
   "cell_type": "code",
   "execution_count": null,
   "id": "c9b4bbfd",
   "metadata": {},
   "outputs": [],
   "source": [
    "nombre_var"
   ]
  },
  {
   "cell_type": "code",
   "execution_count": null,
   "id": "69abeff8",
   "metadata": {},
   "outputs": [],
   "source": [
    "print(nombre_var)"
   ]
  },
  {
   "cell_type": "code",
   "execution_count": null,
   "id": "3f694e15",
   "metadata": {},
   "outputs": [],
   "source": [
    "a = 2\n",
    "b = 3"
   ]
  },
  {
   "cell_type": "code",
   "execution_count": null,
   "id": "f760f9d6",
   "metadata": {},
   "outputs": [],
   "source": [
    "c = a + b"
   ]
  },
  {
   "cell_type": "code",
   "execution_count": null,
   "id": "84ef211b",
   "metadata": {
    "scrolled": true
   },
   "outputs": [],
   "source": [
    "c"
   ]
  },
  {
   "cell_type": "markdown",
   "id": "f649ff03",
   "metadata": {},
   "source": [
    "los keywords en python son palabras reservadas y no se pueden usar para definir una variable"
   ]
  },
  {
   "cell_type": "code",
   "execution_count": null,
   "id": "4d65e05e",
   "metadata": {},
   "outputs": [],
   "source": [
    "help(\"keywords\")"
   ]
  },
  {
   "cell_type": "code",
   "execution_count": null,
   "id": "2cb8ede9",
   "metadata": {},
   "outputs": [],
   "source": []
  },
  {
   "cell_type": "markdown",
   "id": "19629926",
   "metadata": {},
   "source": [
    "### Strings \n",
    "Un string es una secuencia de caracteres"
   ]
  },
  {
   "cell_type": "code",
   "execution_count": null,
   "id": "8390bbff",
   "metadata": {},
   "outputs": [],
   "source": [
    "'comilla simple @ # 😍'"
   ]
  },
  {
   "cell_type": "code",
   "execution_count": null,
   "id": "e13a10a3",
   "metadata": {},
   "outputs": [],
   "source": [
    "\"comilla doble\""
   ]
  },
  {
   "cell_type": "code",
   "execution_count": null,
   "id": "ae6b79b5",
   "metadata": {},
   "outputs": [],
   "source": [
    "x='hola'"
   ]
  },
  {
   "cell_type": "code",
   "execution_count": null,
   "id": "df9ac122",
   "metadata": {},
   "outputs": [],
   "source": [
    "print(x)"
   ]
  },
  {
   "cell_type": "code",
   "execution_count": null,
   "id": "20c0bb71",
   "metadata": {},
   "outputs": [],
   "source": [
    "type(x)"
   ]
  },
  {
   "cell_type": "markdown",
   "id": "8a45b2ff",
   "metadata": {},
   "source": [
    "puedo acceder a un caracter del string a través de indexación"
   ]
  },
  {
   "cell_type": "code",
   "execution_count": null,
   "id": "b47b6e50",
   "metadata": {},
   "outputs": [],
   "source": [
    "string1='Introducción a Machine Learning para Astronomía'"
   ]
  },
  {
   "cell_type": "markdown",
   "id": "8dc8f0c2",
   "metadata": {},
   "source": [
    "**Ejercicio: Extraiga la secuencia \"Learning\" de string1**"
   ]
  },
  {
   "cell_type": "code",
   "execution_count": null,
   "id": "ab01f12d",
   "metadata": {},
   "outputs": [],
   "source": []
  },
  {
   "cell_type": "markdown",
   "id": "8acba7f9",
   "metadata": {},
   "source": [
    "operador + de concatenación para strings"
   ]
  },
  {
   "cell_type": "code",
   "execution_count": null,
   "id": "b5d4c133",
   "metadata": {},
   "outputs": [],
   "source": [
    "a = '100'\n",
    "b = '150'\n",
    "print(a+b)"
   ]
  },
  {
   "cell_type": "code",
   "execution_count": null,
   "id": "adeac606",
   "metadata": {},
   "outputs": [],
   "source": [
    "a='hola'\n",
    "b=' amigo'\n",
    "print(a+b)"
   ]
  },
  {
   "cell_type": "markdown",
   "id": "9053ed8f",
   "metadata": {},
   "source": [
    "la función de python <code>len()</code> indica el tamaño de una variable "
   ]
  },
  {
   "cell_type": "markdown",
   "id": "4bb4b9f4",
   "metadata": {},
   "source": [
    "**Ejercicio: encuentre el tamaño de string1**\n"
   ]
  },
  {
   "cell_type": "markdown",
   "id": "cd0ac87a",
   "metadata": {},
   "source": [
    "OJO: Los strings son inmutables"
   ]
  },
  {
   "cell_type": "code",
   "execution_count": null,
   "id": "cb60f11f",
   "metadata": {},
   "outputs": [],
   "source": [
    "sigla='AST 332'\n",
    "sigla"
   ]
  },
  {
   "cell_type": "code",
   "execution_count": null,
   "id": "3d84a874",
   "metadata": {},
   "outputs": [],
   "source": [
    "sigla[0]='J'"
   ]
  },
  {
   "cell_type": "markdown",
   "id": "b1a5946f",
   "metadata": {},
   "source": [
    "Para separar un string en una lista, se usa el comando <code>split()</code>"
   ]
  },
  {
   "cell_type": "code",
   "execution_count": null,
   "id": "4119e023",
   "metadata": {},
   "outputs": [],
   "source": [
    "string1.split()"
   ]
  },
  {
   "cell_type": "code",
   "execution_count": null,
   "id": "e58d663c",
   "metadata": {},
   "outputs": [],
   "source": []
  },
  {
   "cell_type": "markdown",
   "id": "60b14e99",
   "metadata": {},
   "source": [
    "### Expresiones booleanas\n",
    "Una expresión booleana es una expresión que es verdadera o falsa\n",
    "\n",
    "El operador  <code>==</code> compara dos valores, en cambio el operador <code>=</code> asigna un valor"
   ]
  },
  {
   "cell_type": "code",
   "execution_count": null,
   "id": "1f84e35e",
   "metadata": {},
   "outputs": [],
   "source": [
    "5 == 5"
   ]
  },
  {
   "cell_type": "code",
   "execution_count": null,
   "id": "2a1a6dca",
   "metadata": {},
   "outputs": [],
   "source": [
    "5=5"
   ]
  },
  {
   "cell_type": "code",
   "execution_count": null,
   "id": "bf261fb1",
   "metadata": {},
   "outputs": [],
   "source": [
    "5== 6"
   ]
  },
  {
   "cell_type": "code",
   "execution_count": null,
   "id": "edaffbff",
   "metadata": {},
   "outputs": [],
   "source": [
    "True"
   ]
  },
  {
   "cell_type": "code",
   "execution_count": null,
   "id": "a3326431",
   "metadata": {},
   "outputs": [],
   "source": [
    "type(True)"
   ]
  },
  {
   "cell_type": "code",
   "execution_count": null,
   "id": "5ba34598",
   "metadata": {},
   "outputs": [],
   "source": [
    "type(5)"
   ]
  },
  {
   "cell_type": "code",
   "execution_count": null,
   "id": "94e8d0b3",
   "metadata": {},
   "outputs": [],
   "source": [
    "type(string1)"
   ]
  },
  {
   "cell_type": "code",
   "execution_count": null,
   "id": "f467b44e",
   "metadata": {},
   "outputs": [],
   "source": [
    "type(False)"
   ]
  },
  {
   "cell_type": "markdown",
   "id": "ba06cbde",
   "metadata": {},
   "source": [
    "<code>True</code> y <code>False</code> representan booleanos en python, no son strings y no pueden usarse para definir nombre de variable"
   ]
  },
  {
   "cell_type": "code",
   "execution_count": null,
   "id": "a0e2d87e",
   "metadata": {},
   "outputs": [],
   "source": []
  },
  {
   "cell_type": "markdown",
   "id": "3a4caa2f",
   "metadata": {},
   "source": [
    "Otros operadores de comparación\n",
    "* <code> x != y </code>        x es distinto a y\n",
    "* <code> x > y </code>         x es mayor que y \n",
    "* <code> x < y </code>         x es menor que y \n",
    "* <code> x >= y </code>        x es mayor o igual que y \n",
    "* <code> x <= y </code>        x es menor o igual que y\n",
    "* <code> x is y </code>        x es igual a y\n",
    "* <code> x is not y </code>    x no es igual a y"
   ]
  },
  {
   "cell_type": "markdown",
   "id": "b8cdeae9",
   "metadata": {},
   "source": [
    "Hay tres operadores lógicos: and, or, y not. La semántica (significado) de estos operadores es similar a su significado en inglés"
   ]
  },
  {
   "cell_type": "code",
   "execution_count": null,
   "id": "872a1a02",
   "metadata": {},
   "outputs": [],
   "source": [
    "5 is 5"
   ]
  },
  {
   "cell_type": "code",
   "execution_count": null,
   "id": "9b1356f5",
   "metadata": {},
   "outputs": [],
   "source": [
    "x=5\n",
    "y=5"
   ]
  },
  {
   "cell_type": "code",
   "execution_count": null,
   "id": "d6f27893",
   "metadata": {},
   "outputs": [],
   "source": [
    "x is y"
   ]
  },
  {
   "cell_type": "code",
   "execution_count": null,
   "id": "fd6e3c65",
   "metadata": {},
   "outputs": [],
   "source": [
    "x=5"
   ]
  },
  {
   "cell_type": "code",
   "execution_count": null,
   "id": "e8dffe7d",
   "metadata": {},
   "outputs": [],
   "source": [
    "x > 0 and x < 10"
   ]
  },
  {
   "cell_type": "markdown",
   "id": "35a87870",
   "metadata": {},
   "source": [
    "<code>and</code>: ambas condiciones deben cumplirse"
   ]
  },
  {
   "cell_type": "code",
   "execution_count": null,
   "id": "a3761ccd",
   "metadata": {},
   "outputs": [],
   "source": [
    "x > 0 and x < 3"
   ]
  },
  {
   "cell_type": "code",
   "execution_count": null,
   "id": "9fa52dfa",
   "metadata": {},
   "outputs": [],
   "source": [
    "n=36"
   ]
  },
  {
   "cell_type": "code",
   "execution_count": null,
   "id": "d7dd875c",
   "metadata": {},
   "outputs": [],
   "source": [
    "n%2 == 0 or n% 3 == 0"
   ]
  },
  {
   "cell_type": "markdown",
   "id": "f0b895d2",
   "metadata": {},
   "source": [
    "<code>or</code>: al menos una condición debe cumplirse"
   ]
  },
  {
   "cell_type": "code",
   "execution_count": null,
   "id": "ca631918",
   "metadata": {},
   "outputs": [],
   "source": [
    "n%2 == 0 or n% 5== 0"
   ]
  },
  {
   "cell_type": "code",
   "execution_count": null,
   "id": "ecc8ffaa",
   "metadata": {},
   "outputs": [],
   "source": [
    "n%2 == 0 and n% 5== 0"
   ]
  },
  {
   "cell_type": "code",
   "execution_count": null,
   "id": "c0f90762",
   "metadata": {},
   "outputs": [],
   "source": []
  },
  {
   "cell_type": "code",
   "execution_count": null,
   "id": "f534c896",
   "metadata": {},
   "outputs": [],
   "source": [
    "x=5\n",
    "y=2"
   ]
  },
  {
   "cell_type": "code",
   "execution_count": null,
   "id": "4b4a5678",
   "metadata": {},
   "outputs": [],
   "source": [
    "x>y"
   ]
  },
  {
   "cell_type": "code",
   "execution_count": null,
   "id": "5513ba4f",
   "metadata": {},
   "outputs": [],
   "source": [
    "not(x>y)"
   ]
  },
  {
   "cell_type": "markdown",
   "id": "97fc34fb",
   "metadata": {},
   "source": [
    "<code>not</code>: niega una expresión booleana"
   ]
  },
  {
   "cell_type": "code",
   "execution_count": null,
   "id": "6851c65e",
   "metadata": {},
   "outputs": [],
   "source": [
    "not(not(x>y))"
   ]
  },
  {
   "cell_type": "code",
   "execution_count": null,
   "id": "688a1dbf",
   "metadata": {},
   "outputs": [],
   "source": []
  },
  {
   "cell_type": "code",
   "execution_count": null,
   "id": "bbfc4db7",
   "metadata": {},
   "outputs": [],
   "source": []
  },
  {
   "cell_type": "markdown",
   "id": "18ee594f",
   "metadata": {},
   "source": [
    "### tipo de variable"
   ]
  },
  {
   "cell_type": "code",
   "execution_count": null,
   "id": "df60388e",
   "metadata": {},
   "outputs": [],
   "source": [
    "a=-4\n",
    "b=5.5\n",
    "c='hola mundo'"
   ]
  },
  {
   "cell_type": "markdown",
   "id": "145a10be",
   "metadata": {},
   "source": [
    "**Int**, or integer, es un número entero, positivo o negativo, sin decimales y de largo ilimitado"
   ]
  },
  {
   "cell_type": "code",
   "execution_count": null,
   "id": "ce115c43",
   "metadata": {},
   "outputs": [],
   "source": [
    "type(a)"
   ]
  },
  {
   "cell_type": "markdown",
   "id": "f43e7227",
   "metadata": {},
   "source": [
    "**Float**, o \"floating point number\"  es un número positivo o negativo que contiene un o más decimales\n"
   ]
  },
  {
   "cell_type": "code",
   "execution_count": null,
   "id": "4b4c7299",
   "metadata": {},
   "outputs": [],
   "source": [
    "type(b)"
   ]
  },
  {
   "cell_type": "code",
   "execution_count": null,
   "id": "ba62618b",
   "metadata": {},
   "outputs": [],
   "source": [
    "pi=3.1415926535897931"
   ]
  },
  {
   "cell_type": "code",
   "execution_count": null,
   "id": "0ed21c69",
   "metadata": {},
   "outputs": [],
   "source": [
    "pi"
   ]
  },
  {
   "cell_type": "markdown",
   "id": "c512e9bb",
   "metadata": {},
   "source": [
    "podemos elegir mostrar cierta cantidad de decimales para una variable float"
   ]
  },
  {
   "cell_type": "code",
   "execution_count": null,
   "id": "75bc5083",
   "metadata": {},
   "outputs": [],
   "source": [
    "print('Pi es {}'.format(pi))"
   ]
  },
  {
   "cell_type": "code",
   "execution_count": null,
   "id": "63fd340e",
   "metadata": {},
   "outputs": [],
   "source": [
    "print('Pi es {:.3f}'.format(pi))"
   ]
  },
  {
   "cell_type": "code",
   "execution_count": null,
   "id": "3963e557",
   "metadata": {},
   "outputs": [],
   "source": [
    "print('Pi es {:.6f}'.format(pi))"
   ]
  },
  {
   "cell_type": "code",
   "execution_count": null,
   "id": "caa23fb3",
   "metadata": {},
   "outputs": [],
   "source": [
    "print(round(pi,3))"
   ]
  },
  {
   "cell_type": "code",
   "execution_count": null,
   "id": "f9c48380",
   "metadata": {},
   "outputs": [],
   "source": [
    "import math"
   ]
  },
  {
   "cell_type": "code",
   "execution_count": null,
   "id": "42cea3f4",
   "metadata": {},
   "outputs": [],
   "source": [
    "math.trunc(pi)"
   ]
  },
  {
   "cell_type": "code",
   "execution_count": null,
   "id": "56ef8880",
   "metadata": {},
   "outputs": [],
   "source": [
    "math.ceil(pi)"
   ]
  },
  {
   "cell_type": "code",
   "execution_count": null,
   "id": "bcfd1450",
   "metadata": {},
   "outputs": [],
   "source": [
    "math.floor(pi)"
   ]
  },
  {
   "cell_type": "code",
   "execution_count": null,
   "id": "800f50e2",
   "metadata": {},
   "outputs": [],
   "source": []
  },
  {
   "cell_type": "markdown",
   "id": "9b232027",
   "metadata": {},
   "source": [
    "### Listas\n",
    "\n",
    "Una lista es una secuencia de valores. Los valores en la lista se denominan **elementos**."
   ]
  },
  {
   "cell_type": "code",
   "execution_count": null,
   "id": "86324fc9",
   "metadata": {},
   "outputs": [],
   "source": [
    "[1,2,3]"
   ]
  },
  {
   "cell_type": "code",
   "execution_count": null,
   "id": "c1b3013d",
   "metadata": {},
   "outputs": [],
   "source": [
    "['hola',1,[1,2]]"
   ]
  },
  {
   "cell_type": "code",
   "execution_count": null,
   "id": "dc1eec25",
   "metadata": {},
   "outputs": [],
   "source": [
    "mi_lista = ['a','b','c']"
   ]
  },
  {
   "cell_type": "code",
   "execution_count": null,
   "id": "5d24636f",
   "metadata": {},
   "outputs": [],
   "source": [
    "type(mi_lista)"
   ]
  },
  {
   "cell_type": "markdown",
   "id": "d328e3ed",
   "metadata": {},
   "source": [
    "<code>append()</code> agrega un elemento al final de la lista"
   ]
  },
  {
   "cell_type": "code",
   "execution_count": null,
   "id": "630bfd33",
   "metadata": {},
   "outputs": [],
   "source": [
    "mi_lista.append('d')\n",
    "print(mi_lista)"
   ]
  },
  {
   "cell_type": "code",
   "execution_count": null,
   "id": "524071ce",
   "metadata": {},
   "outputs": [],
   "source": [
    "mi_lista"
   ]
  },
  {
   "cell_type": "code",
   "execution_count": null,
   "id": "f6c2130f",
   "metadata": {},
   "outputs": [],
   "source": [
    "mi_lista[0]"
   ]
  },
  {
   "cell_type": "code",
   "execution_count": null,
   "id": "b1b29818",
   "metadata": {},
   "outputs": [],
   "source": [
    "mi_lista[1]"
   ]
  },
  {
   "cell_type": "code",
   "execution_count": null,
   "id": "1325b599",
   "metadata": {},
   "outputs": [],
   "source": [
    "mi_lista[1:]"
   ]
  },
  {
   "cell_type": "code",
   "execution_count": null,
   "id": "b2e07530",
   "metadata": {},
   "outputs": [],
   "source": [
    "mi_lista[:2]"
   ]
  },
  {
   "cell_type": "markdown",
   "id": "f6b80934",
   "metadata": {},
   "source": [
    "Las listas son **mutables**"
   ]
  },
  {
   "cell_type": "code",
   "execution_count": null,
   "id": "72f47f05",
   "metadata": {},
   "outputs": [],
   "source": [
    "mi_lista[0]='NUEVA'"
   ]
  },
  {
   "cell_type": "code",
   "execution_count": null,
   "id": "ab850f4d",
   "metadata": {},
   "outputs": [],
   "source": [
    "mi_lista"
   ]
  },
  {
   "cell_type": "code",
   "execution_count": null,
   "id": "9610abcf",
   "metadata": {},
   "outputs": [],
   "source": [
    "lista_anidada = [1,2,3,[4,5,['hello','goodbye']]]"
   ]
  },
  {
   "cell_type": "code",
   "execution_count": null,
   "id": "bbee2547",
   "metadata": {},
   "outputs": [],
   "source": [
    "lista_anidada"
   ]
  },
  {
   "cell_type": "code",
   "execution_count": null,
   "id": "3a922f26",
   "metadata": {},
   "outputs": [],
   "source": [
    "lista_anidada[3]"
   ]
  },
  {
   "cell_type": "code",
   "execution_count": null,
   "id": "418a2d1c",
   "metadata": {},
   "outputs": [],
   "source": [
    "lista_anidada[2]"
   ]
  },
  {
   "cell_type": "code",
   "execution_count": null,
   "id": "57675521",
   "metadata": {},
   "outputs": [],
   "source": [
    "lista_anidada[3][2]"
   ]
  },
  {
   "cell_type": "code",
   "execution_count": null,
   "id": "cb0dd9e0",
   "metadata": {},
   "outputs": [],
   "source": [
    "lista_anidada[3][3]"
   ]
  },
  {
   "cell_type": "code",
   "execution_count": null,
   "id": "e91ec018",
   "metadata": {},
   "outputs": [],
   "source": [
    "lista_anidada[3][2][1]"
   ]
  },
  {
   "cell_type": "code",
   "execution_count": null,
   "id": "b647a6c5",
   "metadata": {},
   "outputs": [],
   "source": [
    "lista_vacia=[]"
   ]
  },
  {
   "cell_type": "code",
   "execution_count": null,
   "id": "570d0486",
   "metadata": {},
   "outputs": [],
   "source": [
    "lista_vacia"
   ]
  },
  {
   "cell_type": "code",
   "execution_count": null,
   "id": "9f0bb9c2",
   "metadata": {},
   "outputs": [],
   "source": [
    "lista=[2,4,6,8,10]"
   ]
  },
  {
   "cell_type": "markdown",
   "id": "fe8ced67",
   "metadata": {},
   "source": [
    "<code>sum()</code>, <code>min()</code> y <code>max()</code> para listas con valores numéricos"
   ]
  },
  {
   "cell_type": "code",
   "execution_count": null,
   "id": "19fdb41e",
   "metadata": {},
   "outputs": [],
   "source": [
    "print(\"Suma valores lista:\", sum(lista))\n",
    "print(\"Mínimo valor de la lista:\", min(lista))\n",
    "print(\"Máximo valor de la lista:\", max(lista))"
   ]
  },
  {
   "cell_type": "code",
   "execution_count": null,
   "id": "c858ba1f",
   "metadata": {},
   "outputs": [],
   "source": []
  },
  {
   "cell_type": "markdown",
   "id": "fd85f11e",
   "metadata": {},
   "source": [
    "**Ejercicio: Dada la siguiente lista, use índices para extraer la palabra estudiante**\n",
    "\n",
    "lst = [1,2,[3,4],[5,[100,200,['alumno']],23,11],1,7]"
   ]
  },
  {
   "cell_type": "markdown",
   "id": "6bf2f134",
   "metadata": {},
   "source": [
    "### Diccionarios\n",
    "\n",
    "Un diccionario es como una lista, pero más general. En una lista, las posiciones del índice deben ser enteros; en un diccionario, los índices pueden ser (casi) de cualquier tipo."
   ]
  },
  {
   "cell_type": "code",
   "execution_count": null,
   "id": "0d6729b2",
   "metadata": {},
   "outputs": [],
   "source": [
    "d = {'key1':'valor1','key2':'valor2'}"
   ]
  },
  {
   "cell_type": "code",
   "execution_count": null,
   "id": "993a3eb3",
   "metadata": {},
   "outputs": [],
   "source": [
    "d"
   ]
  },
  {
   "cell_type": "code",
   "execution_count": null,
   "id": "791d7d44",
   "metadata": {},
   "outputs": [],
   "source": [
    "type(d)"
   ]
  },
  {
   "cell_type": "markdown",
   "id": "49cadb77",
   "metadata": {},
   "source": [
    "los diccionarios se indexan con el nombre del índice"
   ]
  },
  {
   "cell_type": "code",
   "execution_count": null,
   "id": "9fb6810e",
   "metadata": {},
   "outputs": [],
   "source": [
    "d['key2']"
   ]
  },
  {
   "cell_type": "code",
   "execution_count": null,
   "id": "0b3cd269",
   "metadata": {},
   "outputs": [],
   "source": [
    "d[0]"
   ]
  },
  {
   "cell_type": "code",
   "execution_count": null,
   "id": "bf3fb271",
   "metadata": {},
   "outputs": [],
   "source": [
    "eng2sp = {'one': 'uno', 'two': 'dos', 'three': 'tres'}"
   ]
  },
  {
   "cell_type": "code",
   "execution_count": null,
   "id": "6ee932c7",
   "metadata": {},
   "outputs": [],
   "source": [
    "print(eng2sp)"
   ]
  },
  {
   "cell_type": "markdown",
   "id": "e44b162e",
   "metadata": {},
   "source": [
    "el tamaño del diccionario es la cantidad de pares índice-valor "
   ]
  },
  {
   "cell_type": "code",
   "execution_count": null,
   "id": "5cf78109",
   "metadata": {},
   "outputs": [],
   "source": [
    "eng2sp"
   ]
  },
  {
   "cell_type": "code",
   "execution_count": null,
   "id": "e81b7942",
   "metadata": {},
   "outputs": [],
   "source": [
    "len(eng2sp)"
   ]
  },
  {
   "cell_type": "code",
   "execution_count": null,
   "id": "f0a39a79",
   "metadata": {},
   "outputs": [],
   "source": [
    "estudiante1 = {\"nombre\": \"María José\", \"edad\": 25, \"curso\": \"AST 332\"}"
   ]
  },
  {
   "cell_type": "code",
   "execution_count": null,
   "id": "300f2368",
   "metadata": {},
   "outputs": [],
   "source": [
    "estudiante1.keys()\n"
   ]
  },
  {
   "cell_type": "code",
   "execution_count": null,
   "id": "7f91af94",
   "metadata": {},
   "outputs": [],
   "source": [
    "estudiante1.values()"
   ]
  },
  {
   "cell_type": "code",
   "execution_count": null,
   "id": "bdbba8d6",
   "metadata": {},
   "outputs": [],
   "source": [
    "estudiante1.items()"
   ]
  },
  {
   "cell_type": "code",
   "execution_count": null,
   "id": "91f95d41",
   "metadata": {},
   "outputs": [],
   "source": [
    "estudiante1['tel']=555555"
   ]
  },
  {
   "cell_type": "code",
   "execution_count": null,
   "id": "ecc24a38",
   "metadata": {},
   "outputs": [],
   "source": [
    "estudiante1"
   ]
  },
  {
   "cell_type": "code",
   "execution_count": null,
   "id": "b6ca008e",
   "metadata": {},
   "outputs": [],
   "source": [
    "del estudiante1['tel']"
   ]
  },
  {
   "cell_type": "code",
   "execution_count": null,
   "id": "f9238aa9",
   "metadata": {},
   "outputs": [],
   "source": [
    "estudiante1"
   ]
  },
  {
   "cell_type": "code",
   "execution_count": null,
   "id": "d59501ab",
   "metadata": {},
   "outputs": [],
   "source": [
    "estudiante1['nombre']=['María José', 'Diego']"
   ]
  },
  {
   "cell_type": "code",
   "execution_count": null,
   "id": "4a355f44",
   "metadata": {},
   "outputs": [],
   "source": [
    "estudiante1"
   ]
  },
  {
   "cell_type": "markdown",
   "id": "509a8e5c",
   "metadata": {},
   "source": [
    "**Dado el siguiente diccionario, extraiga la palabra hola**\n",
    "\n",
    "d = {'k1':[1,2,3,{'truco':['este','diccionario','anidado',{'blanco':[1,2,3,'hola']}]}]}"
   ]
  },
  {
   "cell_type": "markdown",
   "id": "f5103918",
   "metadata": {},
   "source": [
    "### Tuplas\n",
    "Una tupla es una secuencia de valores muy parecida a una lista. Los valores almacenados en una tupla pueden ser de cualquier tipo, y están indexados por enteros. La diferencia importante es que las tuplas son inmutables"
   ]
  },
  {
   "cell_type": "code",
   "execution_count": null,
   "id": "f68b2f53",
   "metadata": {},
   "outputs": [],
   "source": [
    "t = (1,2,3)"
   ]
  },
  {
   "cell_type": "code",
   "execution_count": null,
   "id": "8328bd9f",
   "metadata": {},
   "outputs": [],
   "source": [
    "print(t)"
   ]
  },
  {
   "cell_type": "code",
   "execution_count": null,
   "id": "c0c0b871",
   "metadata": {},
   "outputs": [],
   "source": [
    "type(t)"
   ]
  },
  {
   "cell_type": "code",
   "execution_count": null,
   "id": "08803d16",
   "metadata": {},
   "outputs": [],
   "source": [
    "t2=2,4,6"
   ]
  },
  {
   "cell_type": "code",
   "execution_count": null,
   "id": "cbe1ae67",
   "metadata": {},
   "outputs": [],
   "source": [
    "print(t2)"
   ]
  },
  {
   "cell_type": "code",
   "execution_count": null,
   "id": "8c4ad4da",
   "metadata": {},
   "outputs": [],
   "source": [
    "type(t2)"
   ]
  },
  {
   "cell_type": "code",
   "execution_count": null,
   "id": "ad909a11",
   "metadata": {},
   "outputs": [],
   "source": [
    "t2[4]"
   ]
  },
  {
   "cell_type": "code",
   "execution_count": null,
   "id": "33d7765d",
   "metadata": {},
   "outputs": [],
   "source": [
    "t[0]=2"
   ]
  },
  {
   "cell_type": "markdown",
   "id": "6c6c9d10",
   "metadata": {},
   "source": [
    "Los diccionarios tienen un método llamado items que devuelve una lista de tuplas, donde cada tupla es un par clave-valor"
   ]
  },
  {
   "cell_type": "code",
   "execution_count": null,
   "id": "b6d23ed9",
   "metadata": {},
   "outputs": [],
   "source": [
    "d = {'a':10, 'b':1, 'c':22}\n",
    "\n"
   ]
  },
  {
   "cell_type": "code",
   "execution_count": null,
   "id": "2e14555a",
   "metadata": {},
   "outputs": [],
   "source": [
    "t = list(d.items())\n",
    "print(t)"
   ]
  },
  {
   "cell_type": "code",
   "execution_count": null,
   "id": "caebba94",
   "metadata": {},
   "outputs": [],
   "source": []
  },
  {
   "cell_type": "markdown",
   "id": "40eec7b1",
   "metadata": {},
   "source": [
    "**Ejercicio: Modifique las variables de manera que al evaluar las sentencias de más abajo, los resultados sean True**"
   ]
  },
  {
   "cell_type": "code",
   "execution_count": null,
   "id": "f395dd21",
   "metadata": {},
   "outputs": [],
   "source": [
    "var1 =\n",
    "var2 =\n",
    "var3 =\n",
    "var4 =\n",
    "var5 =\n",
    "var6 = \n",
    "\n",
    "#No edite nada desde esta línea hacia abajo\n",
    "\n",
    "# Numbers\n",
    "print(isinstance(var1, int))\n",
    "print(isinstance(var6, float))\n",
    "print(var1 < 35)\n",
    "print(var1 <= var6)\n",
    "\n",
    "# Strings\n",
    "print(isinstance(var2, str))\n",
    "print(var2[5] == \"n\" and var2[0] == \"p\")\n",
    "\n",
    "# Lists\n",
    "print(isinstance(var3, list))\n",
    "print(len(var3) == 5)\n",
    "\n",
    "# Tuples\n",
    "print(isinstance(var4, tuple))\n",
    "print(var4[2] == \"naranja\")\n",
    "\n",
    "# Dictionaries\n",
    "print(isinstance(var5, dict))\n",
    "print(\"edad\" in var5)\n",
    "print(7 in var5.values())\n",
    "print(var5.get(\"nombre\") == \"Juan\")\n",
    "print(len(var5) == 3)\n",
    "var5[\"juguete\"] = \"auto\"\n",
    "print(len(var5) == 3)"
   ]
  },
  {
   "cell_type": "code",
   "execution_count": null,
   "id": "1ce4f16f",
   "metadata": {},
   "outputs": [],
   "source": []
  },
  {
   "cell_type": "markdown",
   "id": "935ecc80",
   "metadata": {},
   "source": [
    "## Sentencias if, else if, else"
   ]
  },
  {
   "cell_type": "code",
   "execution_count": null,
   "id": "d5c29928",
   "metadata": {},
   "outputs": [],
   "source": [
    "if 4>1:\n",
    "    print('indentacion')\n",
    "    "
   ]
  },
  {
   "cell_type": "code",
   "execution_count": null,
   "id": "38bbf476",
   "metadata": {},
   "outputs": [],
   "source": [
    "if 4>1:\n",
    "    print('hola')\n",
    "    print('chao')"
   ]
  },
  {
   "cell_type": "code",
   "execution_count": null,
   "id": "a41c6bd7",
   "metadata": {},
   "outputs": [],
   "source": [
    "if 1 < 2:\n",
    "    print('Sip')"
   ]
  },
  {
   "cell_type": "code",
   "execution_count": null,
   "id": "3cb04c4b",
   "metadata": {},
   "outputs": [],
   "source": [
    "if 1>2: #no se cumple\n",
    "    print('Sip')"
   ]
  },
  {
   "cell_type": "code",
   "execution_count": null,
   "id": "c9fe58f7",
   "metadata": {},
   "outputs": [],
   "source": [
    "x = 3\n",
    "if x < 10:\n",
    "    print('Menor')"
   ]
  },
  {
   "cell_type": "code",
   "execution_count": null,
   "id": "86d22186",
   "metadata": {},
   "outputs": [],
   "source": [
    "if 1 > 2:\n",
    "    print('Sip')\n",
    "else:\n",
    "    print('Nop')"
   ]
  },
  {
   "cell_type": "code",
   "execution_count": null,
   "id": "8722dcd4",
   "metadata": {},
   "outputs": [],
   "source": [
    "if 1 == 2:\n",
    "    print('primera')\n",
    "elif 3 == 3:\n",
    "    print('segunda')\n",
    "else:\n",
    "    print('tercera')"
   ]
  },
  {
   "cell_type": "code",
   "execution_count": null,
   "id": "ec0c9004",
   "metadata": {},
   "outputs": [],
   "source": [
    "var=5"
   ]
  },
  {
   "cell_type": "code",
   "execution_count": null,
   "id": "2d9716d8",
   "metadata": {},
   "outputs": [],
   "source": [
    "if var >0 and var<3:\n",
    "    print('Sip')\n",
    "else:\n",
    "    print('Nop')\n"
   ]
  },
  {
   "cell_type": "code",
   "execution_count": null,
   "id": "4a6c73e3",
   "metadata": {},
   "outputs": [],
   "source": [
    "x=10"
   ]
  },
  {
   "cell_type": "code",
   "execution_count": null,
   "id": "4822d460",
   "metadata": {},
   "outputs": [],
   "source": [
    "if x>100:\n",
    "    print('hola')\n",
    "    print('chao')\n",
    "    if x>5:\n",
    "        print('si')\n",
    "        if x>20:\n",
    "            print('no')\n",
    "else: print('fin')"
   ]
  },
  {
   "cell_type": "code",
   "execution_count": null,
   "id": "da91c71f",
   "metadata": {},
   "outputs": [],
   "source": []
  },
  {
   "cell_type": "markdown",
   "id": "b01a9849",
   "metadata": {},
   "source": [
    "## Bucles"
   ]
  },
  {
   "cell_type": "markdown",
   "id": "c04f1d6b",
   "metadata": {},
   "source": [
    "### For"
   ]
  },
  {
   "cell_type": "code",
   "execution_count": null,
   "id": "ed891e40",
   "metadata": {},
   "outputs": [],
   "source": [
    "seq = [1,2,3,4,5]"
   ]
  },
  {
   "cell_type": "code",
   "execution_count": null,
   "id": "22780faa",
   "metadata": {},
   "outputs": [],
   "source": [
    "for gatito in seq:\n",
    "    print(gatito)"
   ]
  },
  {
   "cell_type": "code",
   "execution_count": null,
   "id": "78e47f04",
   "metadata": {},
   "outputs": [],
   "source": [
    "for item in seq:\n",
    "    print('sip')"
   ]
  },
  {
   "cell_type": "code",
   "execution_count": null,
   "id": "492f25cb",
   "metadata": {},
   "outputs": [],
   "source": [
    "seq"
   ]
  },
  {
   "cell_type": "code",
   "execution_count": null,
   "id": "bb729a49",
   "metadata": {},
   "outputs": [],
   "source": [
    "for item in seq:\n",
    "    print(item+item+1)"
   ]
  },
  {
   "cell_type": "code",
   "execution_count": null,
   "id": "8826232b",
   "metadata": {},
   "outputs": [],
   "source": [
    "count = 0\n",
    "for ix in [3, 41, 12, 9, 74, 15]:\n",
    "    count = count + 1\n",
    "    print(count)\n",
    "    #print(ix)\n",
    "    #print(' ')\n",
    "    \n",
    "print('Count: ', count)"
   ]
  },
  {
   "cell_type": "code",
   "execution_count": null,
   "id": "a82626da",
   "metadata": {},
   "outputs": [],
   "source": [
    "total = 0\n",
    "for itervar in [3, 41, 12, 9, 74, 15]:\n",
    "    total = total + itervar\n",
    "    print(total)\n",
    "print('Total: ', total)"
   ]
  },
  {
   "cell_type": "markdown",
   "id": "8fdc79a6",
   "metadata": {},
   "source": [
    "**Pregunta: ¿ Cuál es la diferencia entre las celdas anteriores?**"
   ]
  },
  {
   "cell_type": "markdown",
   "id": "8bc10061",
   "metadata": {},
   "source": [
    "### While"
   ]
  },
  {
   "cell_type": "code",
   "execution_count": null,
   "id": "fc91ad58",
   "metadata": {},
   "outputs": [],
   "source": [
    "i = 1\n",
    "while i < 10:\n",
    "    i = i+1\n",
    "    print('i es: {}'.format(i))\n",
    "    "
   ]
  },
  {
   "cell_type": "markdown",
   "id": "9c0867c4",
   "metadata": {},
   "source": [
    "## <code>range()</code>\n",
    "    \n",
    "Es un tipo que se utiliza para representar una secuencia inmutable de números. Uno de sus principales usos es junto a la sentencia for, para definir un bucle sobre el que se itera un número determinado de veces.\n",
    "<code>range()</code> calcula los ítems cuando los necesita"
   ]
  },
  {
   "cell_type": "code",
   "execution_count": null,
   "id": "fb6f4bf4",
   "metadata": {},
   "outputs": [],
   "source": [
    "range(5)"
   ]
  },
  {
   "cell_type": "code",
   "execution_count": null,
   "id": "f4271de9",
   "metadata": {},
   "outputs": [],
   "source": [
    "list(range(5)) #no incluye el 5"
   ]
  },
  {
   "cell_type": "code",
   "execution_count": null,
   "id": "b51c83d3",
   "metadata": {},
   "outputs": [],
   "source": [
    "for i in range(5):\n",
    "    print(i)"
   ]
  },
  {
   "cell_type": "code",
   "execution_count": null,
   "id": "ca9f936b",
   "metadata": {},
   "outputs": [],
   "source": [
    "list(range(5))"
   ]
  },
  {
   "cell_type": "code",
   "execution_count": null,
   "id": "9f0215c2",
   "metadata": {},
   "outputs": [],
   "source": [
    "list(range(5, 10))"
   ]
  },
  {
   "cell_type": "code",
   "execution_count": null,
   "id": "b52472c3",
   "metadata": {},
   "outputs": [],
   "source": [
    "list(range(0, 10, 5))"
   ]
  },
  {
   "cell_type": "code",
   "execution_count": null,
   "id": "a36a8896",
   "metadata": {},
   "outputs": [],
   "source": []
  },
  {
   "cell_type": "code",
   "execution_count": null,
   "id": "9051312b",
   "metadata": {},
   "outputs": [],
   "source": []
  },
  {
   "cell_type": "markdown",
   "id": "6c3cb641",
   "metadata": {},
   "source": [
    "## List comprehension\n",
    "\n",
    "Son una forma de crear listas de una manera elegante simplificando el código al máximo"
   ]
  },
  {
   "cell_type": "code",
   "execution_count": null,
   "id": "1a1f0a3f",
   "metadata": {},
   "outputs": [],
   "source": [
    "numeros = [1, 2, 34, 86, 4, 5, 99, 890, 45]\n",
    "pares = []\n",
    "for num in numeros:\n",
    "    print(num)\n",
    "    print(' ')\n",
    "    if num % 2 == 0:\n",
    "        pares.append(num)\n",
    "        #print(pares)\n",
    "print(pares)"
   ]
  },
  {
   "cell_type": "code",
   "execution_count": null,
   "id": "b9c79a70",
   "metadata": {},
   "outputs": [],
   "source": [
    "numeros = [1, 2, 34, 86, 4, 5, 99, 890, 45]\n"
   ]
  },
  {
   "cell_type": "code",
   "execution_count": null,
   "id": "5ebbbd2d",
   "metadata": {},
   "outputs": [],
   "source": [
    "pares = [num for num in numeros if num % 2 == 0]\n"
   ]
  },
  {
   "cell_type": "code",
   "execution_count": null,
   "id": "7dde6ed5",
   "metadata": {},
   "outputs": [],
   "source": [
    "print(pares)"
   ]
  },
  {
   "cell_type": "code",
   "execution_count": null,
   "id": "8c530550",
   "metadata": {},
   "outputs": [],
   "source": [
    "x = [1,2,3,4]"
   ]
  },
  {
   "cell_type": "code",
   "execution_count": null,
   "id": "64e13acd",
   "metadata": {},
   "outputs": [],
   "source": [
    "out = []\n",
    "for item in x:\n",
    "    out.append(item**2)\n",
    "print(out)"
   ]
  },
  {
   "cell_type": "code",
   "execution_count": null,
   "id": "1aa6d522",
   "metadata": {},
   "outputs": [],
   "source": [
    "[item**2 for item in x]"
   ]
  },
  {
   "cell_type": "code",
   "execution_count": null,
   "id": "1b3a658a",
   "metadata": {},
   "outputs": [],
   "source": []
  },
  {
   "cell_type": "markdown",
   "id": "71cde21e",
   "metadata": {},
   "source": [
    "## Funciones"
   ]
  },
  {
   "cell_type": "markdown",
   "id": "32a11edd",
   "metadata": {},
   "source": [
    "<code>def nombre_funcion(arg1, arg2, ..., argN):\n",
    "    # Haz algo con arg1, arg2, ..., argN\n",
    "    return valor_salida<code>\n",
    "    "
   ]
  },
  {
   "cell_type": "code",
   "execution_count": null,
   "id": "1301138d",
   "metadata": {},
   "outputs": [],
   "source": [
    "def my_func(param1='default'):\n",
    "    \"\"\"\n",
    "    Docstring goes here.\n",
    "    \"\"\"\n",
    "    print(param1)"
   ]
  },
  {
   "cell_type": "code",
   "execution_count": null,
   "id": "f492fa37",
   "metadata": {},
   "outputs": [],
   "source": [
    "my_func"
   ]
  },
  {
   "cell_type": "code",
   "execution_count": null,
   "id": "7e227698",
   "metadata": {},
   "outputs": [],
   "source": [
    "my_func()"
   ]
  },
  {
   "cell_type": "code",
   "execution_count": null,
   "id": "d957cff3",
   "metadata": {},
   "outputs": [],
   "source": [
    "my_func('nuevo param')"
   ]
  },
  {
   "cell_type": "code",
   "execution_count": null,
   "id": "576a2d38",
   "metadata": {},
   "outputs": [],
   "source": [
    "my_func(param1='nuevo param')"
   ]
  },
  {
   "cell_type": "code",
   "execution_count": null,
   "id": "68fd98ff",
   "metadata": {},
   "outputs": [],
   "source": [
    "x"
   ]
  },
  {
   "cell_type": "code",
   "execution_count": null,
   "id": "2481d0a5",
   "metadata": {},
   "outputs": [],
   "source": [
    "def cuadrado(x):\n",
    "    return x**2"
   ]
  },
  {
   "cell_type": "code",
   "execution_count": null,
   "id": "f7a9bf6c",
   "metadata": {},
   "outputs": [],
   "source": [
    "resultado=cuadrado(5)"
   ]
  },
  {
   "cell_type": "code",
   "execution_count": null,
   "id": "c06a8674",
   "metadata": {},
   "outputs": [],
   "source": [
    "print(resultado)"
   ]
  },
  {
   "cell_type": "code",
   "execution_count": null,
   "id": "81109cfd",
   "metadata": {},
   "outputs": [],
   "source": [
    "cuadrado(3)"
   ]
  },
  {
   "cell_type": "code",
   "execution_count": null,
   "id": "7225f754",
   "metadata": {},
   "outputs": [],
   "source": [
    "cuadrado(2.5)"
   ]
  },
  {
   "cell_type": "code",
   "execution_count": null,
   "id": "4edeb70d",
   "metadata": {},
   "outputs": [],
   "source": [
    "cuadrado(34572)"
   ]
  },
  {
   "cell_type": "code",
   "execution_count": null,
   "id": "4e902e36",
   "metadata": {},
   "outputs": [],
   "source": [
    "cuadrado('hola')"
   ]
  },
  {
   "cell_type": "code",
   "execution_count": null,
   "id": "c63e9150",
   "metadata": {},
   "outputs": [],
   "source": [
    "def arroba(texto):\n",
    "    if texto=='pia':\n",
    "        return texto+'@'\n",
    "    else:\n",
    "        return('no')"
   ]
  },
  {
   "cell_type": "code",
   "execution_count": null,
   "id": "51caae6c",
   "metadata": {},
   "outputs": [],
   "source": [
    "arroba('paula')"
   ]
  },
  {
   "cell_type": "code",
   "execution_count": null,
   "id": "5c9d895c",
   "metadata": {},
   "outputs": [],
   "source": []
  },
  {
   "cell_type": "code",
   "execution_count": null,
   "id": "ec99ee0b",
   "metadata": {},
   "outputs": [],
   "source": []
  },
  {
   "cell_type": "markdown",
   "id": "9de779a4",
   "metadata": {},
   "source": [
    "## Expresiones Lambda\n",
    "Las expresiones lambda se usan idealmente cuando necesitamos hacer algo simple y estamos más interesados en hacer el trabajo rápidamente en lugar de nombrar formalmente la función"
   ]
  },
  {
   "cell_type": "code",
   "execution_count": null,
   "id": "708ddae6",
   "metadata": {},
   "outputs": [],
   "source": [
    "cubo= lambda x: x ** 3\n"
   ]
  },
  {
   "cell_type": "code",
   "execution_count": null,
   "id": "d4a0e23c",
   "metadata": {},
   "outputs": [],
   "source": [
    "cubo(5)"
   ]
  },
  {
   "cell_type": "markdown",
   "id": "80c7e975",
   "metadata": {},
   "source": [
    "## <code>map()</code> y <code>filter()</code>"
   ]
  },
  {
   "cell_type": "markdown",
   "id": "a6ab19db",
   "metadata": {},
   "source": [
    "La función <code>map()</code> en Python aplica una función a cada uno de los elementos de una lista"
   ]
  },
  {
   "cell_type": "markdown",
   "id": "eabf10ef",
   "metadata": {},
   "source": [
    "Tenemos una lista de enteros lista de enteros y queremos obtener una nueva lista con el cuadrado de cada uno de ellos."
   ]
  },
  {
   "cell_type": "markdown",
   "id": "e9560983",
   "metadata": {},
   "source": [
    "Con un <code>for<code>"
   ]
  },
  {
   "cell_type": "code",
   "execution_count": null,
   "id": "a52355a8",
   "metadata": {},
   "outputs": [],
   "source": [
    "enteros = [1, 2, 4, 7]\n",
    "cuadrados = []\n",
    "for e in enteros:\n",
    "    cuadrados.append(e ** 2)\n",
    "     \n",
    "print(cuadrados)"
   ]
  },
  {
   "cell_type": "markdown",
   "id": "c5983a90",
   "metadata": {},
   "source": [
    "Con <code>map()</code> combinado con una función lambda"
   ]
  },
  {
   "cell_type": "code",
   "execution_count": null,
   "id": "e6e0c2a9",
   "metadata": {},
   "outputs": [],
   "source": [
    "#enteros = [1, 2, 4, 7]\n",
    "cuadrados2 = list(map(lambda x : x ** 2, enteros)) #sólo una línea!!\n",
    "print(cuadrados2)"
   ]
  },
  {
   "cell_type": "code",
   "execution_count": null,
   "id": "d1bcce7b",
   "metadata": {},
   "outputs": [],
   "source": []
  },
  {
   "cell_type": "markdown",
   "id": "916399d7",
   "metadata": {},
   "source": [
    "La función <code>filter()</code> filtra una lista de elementos para los que una función devuelve True.\n",
    "\n"
   ]
  },
  {
   "cell_type": "markdown",
   "id": "558086b8",
   "metadata": {},
   "source": [
    "Imagina que quieres filtrar una lista de números para obtener solo los valores pares.\n",
    "\n",
    "Con <code>for()</code>"
   ]
  },
  {
   "cell_type": "code",
   "execution_count": null,
   "id": "739bf825",
   "metadata": {},
   "outputs": [],
   "source": [
    "valores = [1, 2, 3, 4, 5, 6, 7, 8, 9]\n",
    "pares = []\n",
    "for valor in valores:\n",
    "    if valor % 2 == 0:\n",
    "        pares.append(valor)\n",
    "print(pares)"
   ]
  },
  {
   "cell_type": "code",
   "execution_count": null,
   "id": "4524f3a0",
   "metadata": {},
   "outputs": [],
   "source": [
    "#valores = [1, 2, 3, 4, 5, 6, 7, 8, 9]\n",
    "pares = list(filter(lambda x : x % 2 == 0, valores))\n",
    "print(pares)"
   ]
  },
  {
   "cell_type": "code",
   "execution_count": null,
   "id": "63e1f980",
   "metadata": {},
   "outputs": [],
   "source": []
  },
  {
   "cell_type": "markdown",
   "id": "77956daa",
   "metadata": {},
   "source": [
    "**Ejercicio:  Cree una función que cuente los caracteres del siguiente string (sin espacios)**\n",
    "\n",
    "frase = \"Python es un lenguage muy entretenido\""
   ]
  },
  {
   "cell_type": "code",
   "execution_count": null,
   "id": "ffecfa74",
   "metadata": {},
   "outputs": [],
   "source": []
  },
  {
   "cell_type": "markdown",
   "id": "afd2bfd7",
   "metadata": {},
   "source": [
    "**Ejercicio:  Use una expresión lambda en combinación con  filter() para filtrar palabras de una lista que no empiezan con letra s.** \n",
    "\n",
    "Por ejemplo, \n",
    "\n",
    "    lista = ['sopa','perro','salmón','gato','precio']\n",
    "\n",
    "**debe filtrarse a:**\n",
    "\n",
    "    ['sopa','salmón']"
   ]
  },
  {
   "cell_type": "code",
   "execution_count": null,
   "id": "865d5c94",
   "metadata": {},
   "outputs": [],
   "source": []
  },
  {
   "cell_type": "markdown",
   "id": "83f8dd7a",
   "metadata": {},
   "source": [
    "**Ejercicio: Usted está manejando un poco rápido y un policía lo detiene. Escriba una función que retorne una de las 3 siguientes posibilidades: 'sin infracción', 'infracción leve', 'infracción grave'. Si su velocidad es menor a 50 km/h, el resultado es 'sin infracción'. Si la velocidad está entre 51 y 80 km/h (incluído), el resultado es 'infracción leve'. Si la velocidad es mayor a 80 km/h, el resultado es 'infracción grave'.  En caso que sea su cumpleaños (variable booleana),  usted puede ir 5 km/h más rápido en todos los casos.**"
   ]
  },
  {
   "cell_type": "code",
   "execution_count": null,
   "id": "80d28642",
   "metadata": {},
   "outputs": [],
   "source": []
  }
 ],
 "metadata": {
  "kernelspec": {
   "display_name": "Python [conda env:base] *",
   "language": "python",
   "name": "conda-base-py"
  },
  "language_info": {
   "codemirror_mode": {
    "name": "ipython",
    "version": 3
   },
   "file_extension": ".py",
   "mimetype": "text/x-python",
   "name": "python",
   "nbconvert_exporter": "python",
   "pygments_lexer": "ipython3",
   "version": "3.12.7"
  }
 },
 "nbformat": 4,
 "nbformat_minor": 5
}
