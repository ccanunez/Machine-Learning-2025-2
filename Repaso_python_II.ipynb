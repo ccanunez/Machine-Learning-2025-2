{
 "cells": [
  {
   "cell_type": "markdown",
   "id": "cabca91f",
   "metadata": {},
   "source": [
    "# AST332 Introducción a Machine Learning para Astronomía\n",
    "Pía Amigo, II Semestre 2024"
   ]
  },
  {
   "cell_type": "markdown",
   "id": "dc95e238",
   "metadata": {},
   "source": [
    "## Repaso Python: Numpy y Pandas"
   ]
  },
  {
   "cell_type": "markdown",
   "id": "43156211",
   "metadata": {},
   "source": [
    "En este notebook veremos algunas funciones y uso básico de la librería Numpy.\n",
    "\n",
    "La librería Numpy:\n",
    "- Nos permite manejar arreglos de n dimensiones.\n",
    "- Estos arreglos son la base de los dataframes.\n",
    "- Numpy usa algoritmos basado en C que son muy rápidos\n",
    "- Numpy permite reducir la cantidad de loops en el código\n",
    "\n",
    "Un arreglo es una grilla de valores del mismo tipo; esto hace que sea más compacto para guardar información que las listas.\n",
    "\n",
    "La indexación debe usarse de acuerdo a la cantidad de dimensiones del arreglo\n",
    "\n",
    "\n",
    "\n",
    "\n",
    "Algunos links de utilidad:\n",
    "- https://realpython.com/numpy-tutorial/\n",
    "- https://numpy.org/doc/stable/user/quickstart.html\n",
    "- https://numpy.org/doc/stable/reference/ufuncs.html"
   ]
  },
  {
   "cell_type": "code",
   "execution_count": null,
   "id": "bbe94b72",
   "metadata": {},
   "outputs": [],
   "source": []
  },
  {
   "cell_type": "code",
   "execution_count": 1,
   "id": "88c6db9c",
   "metadata": {},
   "outputs": [],
   "source": [
    "import numpy as np\n",
    "import pandas as pd"
   ]
  },
  {
   "cell_type": "code",
   "execution_count": null,
   "id": "7b647bbb",
   "metadata": {},
   "outputs": [],
   "source": []
  },
  {
   "cell_type": "markdown",
   "id": "7a7d548f",
   "metadata": {},
   "source": [
    "## NumPy\n",
    "\n",
    "Es una librería de Python especializada en el cálculo numérico y el análisis de datos, especialmente para un gran volumen de datos.\n",
    "\n",
    "La estructura básica de Numpy son los arreglos de múltiples dimensiones, que permiten representar colecciones de datos de un mismo tipo en varias dimensiones, y funciones muy eficientes para su manipulación.\n",
    "\n",
    "La ventaja de Numpy frente a las listas predefinidas en Python es que el procesamiento de los arrays se realiza mucho más rápido (hasta 50 veces más) que las listas, lo cual la hace ideal para el procesamiento de vectores y matrices de grandes dimensiones."
   ]
  },
  {
   "cell_type": "code",
   "execution_count": null,
   "id": "f1f4f52c",
   "metadata": {},
   "outputs": [],
   "source": [
    "mi_lista = [1,2,3]\n",
    "mi_lista"
   ]
  },
  {
   "cell_type": "code",
   "execution_count": null,
   "id": "161045bc",
   "metadata": {},
   "outputs": [],
   "source": [
    "type(mi_lista)"
   ]
  },
  {
   "cell_type": "code",
   "execution_count": null,
   "id": "815ca678",
   "metadata": {},
   "outputs": [],
   "source": [
    "np.array(mi_lista)"
   ]
  },
  {
   "cell_type": "code",
   "execution_count": null,
   "id": "2a7d0b4b",
   "metadata": {},
   "outputs": [],
   "source": [
    "arr=np.array(mi_lista)"
   ]
  },
  {
   "cell_type": "code",
   "execution_count": null,
   "id": "17cdba5e",
   "metadata": {},
   "outputs": [],
   "source": [
    "type(arr)"
   ]
  },
  {
   "cell_type": "code",
   "execution_count": null,
   "id": "2053d88b",
   "metadata": {},
   "outputs": [],
   "source": []
  },
  {
   "cell_type": "code",
   "execution_count": null,
   "id": "99bba2da",
   "metadata": {},
   "outputs": [],
   "source": [
    "mi_matriz = [[1,2.5,3],[4,5,6],[7,8,9]]\n",
    "mi_matriz"
   ]
  },
  {
   "cell_type": "code",
   "execution_count": null,
   "id": "a37f8345",
   "metadata": {},
   "outputs": [],
   "source": [
    "type(mi_matriz)"
   ]
  },
  {
   "cell_type": "code",
   "execution_count": null,
   "id": "6fefea1b",
   "metadata": {},
   "outputs": [],
   "source": [
    "matriz=np.array(mi_matriz)"
   ]
  },
  {
   "cell_type": "code",
   "execution_count": null,
   "id": "d99e3538",
   "metadata": {},
   "outputs": [],
   "source": [
    "print(\"Arreglo matriz:\")\n",
    "print(\"número total de elementos: \",matriz.size)\n",
    "print(\"tipo de dato de los elementos: \", matriz.dtype)"
   ]
  },
  {
   "cell_type": "code",
   "execution_count": null,
   "id": "525e5efc",
   "metadata": {},
   "outputs": [],
   "source": [
    "matriz"
   ]
  },
  {
   "cell_type": "markdown",
   "id": "62483b82",
   "metadata": {},
   "source": [
    "### Cómo crear un arreglo\n",
    "Numpy tiene incluídas muchas funciones para crear un arreglo"
   ]
  },
  {
   "cell_type": "markdown",
   "id": "f1b905cc",
   "metadata": {},
   "source": [
    "### <code>arange()</code> da un arreglo con números igualmente espaciados "
   ]
  },
  {
   "cell_type": "code",
   "execution_count": null,
   "id": "783b95ae",
   "metadata": {},
   "outputs": [],
   "source": [
    "np.arange(0,10,3)"
   ]
  },
  {
   "cell_type": "code",
   "execution_count": null,
   "id": "3416dd0a",
   "metadata": {},
   "outputs": [],
   "source": [
    "np.arange(0,10)"
   ]
  },
  {
   "cell_type": "code",
   "execution_count": null,
   "id": "02a6dd2c",
   "metadata": {},
   "outputs": [],
   "source": []
  },
  {
   "cell_type": "markdown",
   "id": "482581f5",
   "metadata": {},
   "source": [
    "### <code>zeros</code> y <code>ones</code> generan arreglos solo con ceros y unos, en las dimensiones especificadas"
   ]
  },
  {
   "cell_type": "code",
   "execution_count": null,
   "id": "3081696f",
   "metadata": {},
   "outputs": [],
   "source": [
    "np.zeros(3)"
   ]
  },
  {
   "cell_type": "code",
   "execution_count": null,
   "id": "de761609",
   "metadata": {},
   "outputs": [],
   "source": [
    "np.zeros((3,4)) #debemos ingresar las dimensiones como una tupla"
   ]
  },
  {
   "cell_type": "code",
   "execution_count": null,
   "id": "6b16e6ae",
   "metadata": {},
   "outputs": [],
   "source": [
    "np.ones(3)"
   ]
  },
  {
   "cell_type": "code",
   "execution_count": null,
   "id": "acd3fa1a",
   "metadata": {},
   "outputs": [],
   "source": [
    "np.ones((3,4), dtype=int)"
   ]
  },
  {
   "cell_type": "code",
   "execution_count": null,
   "id": "3b6fc3ab",
   "metadata": {},
   "outputs": [],
   "source": []
  },
  {
   "cell_type": "markdown",
   "id": "e50bcacd",
   "metadata": {},
   "source": [
    "### <code>linspace</code> genera números igualmente espaciados en un cierto intervalo dado. \n",
    "Linspace me permite definir la cantidad de valores que tendrá el arreglo, en cambio arange me permite\n",
    "definir los intervalos y el espaciamiento de los valores pero no el tamaño del arreglo"
   ]
  },
  {
   "cell_type": "code",
   "execution_count": null,
   "id": "b315b8a1",
   "metadata": {},
   "outputs": [],
   "source": [
    "np.linspace(0,10,5)# 20 números igualmente espaciados entre 0 y 10(inclusive). "
   ]
  },
  {
   "cell_type": "code",
   "execution_count": null,
   "id": "ab7d15ac",
   "metadata": {},
   "outputs": [],
   "source": [
    "np.arange(0, 10, 2.5) # todos los números necesarios para ir de 0 a 10 (no incluído) en pasos de a 2"
   ]
  },
  {
   "cell_type": "code",
   "execution_count": null,
   "id": "52cc55e3",
   "metadata": {},
   "outputs": [],
   "source": []
  },
  {
   "cell_type": "markdown",
   "id": "8227dd95",
   "metadata": {},
   "source": [
    "**Ejercicio: cree un arreglo que contenga una secuencia de valores entre 0 y 20, con separación 2 y otro arreglo que contenga una secuencia de 11 valores igualmente espaciados entre 0 y 20**\n"
   ]
  },
  {
   "cell_type": "code",
   "execution_count": null,
   "id": "714b95a5",
   "metadata": {},
   "outputs": [],
   "source": []
  },
  {
   "cell_type": "markdown",
   "id": "dff2c21f",
   "metadata": {},
   "source": [
    "### Números aleatorios\n",
    "Usamos las funciones <code>rand()</code> , <code>randn()</code>  y <code>randint()</code> para crear un arreglo de números aleatorios a partir de una distribución uniforme [0,1), una distribución normal y enteros aleatorios"
   ]
  },
  {
   "cell_type": "code",
   "execution_count": null,
   "id": "6b59c7de",
   "metadata": {},
   "outputs": [],
   "source": [
    "np.random.rand(8)"
   ]
  },
  {
   "cell_type": "code",
   "execution_count": null,
   "id": "697d78fd",
   "metadata": {},
   "outputs": [],
   "source": [
    "np.random.rand(2,3)"
   ]
  },
  {
   "cell_type": "code",
   "execution_count": null,
   "id": "d5a0b3d4",
   "metadata": {},
   "outputs": [],
   "source": [
    "np.random.randn(2)"
   ]
  },
  {
   "cell_type": "code",
   "execution_count": null,
   "id": "b40185f4",
   "metadata": {},
   "outputs": [],
   "source": [
    "np.random.randn(2,3)"
   ]
  },
  {
   "cell_type": "code",
   "execution_count": null,
   "id": "f249f115",
   "metadata": {},
   "outputs": [],
   "source": [
    "np.random.randint(1,100)"
   ]
  },
  {
   "cell_type": "code",
   "execution_count": null,
   "id": "e5004ff4",
   "metadata": {},
   "outputs": [],
   "source": [
    "np.random.randint(1,100,10)"
   ]
  },
  {
   "cell_type": "code",
   "execution_count": null,
   "id": "60e51634",
   "metadata": {},
   "outputs": [],
   "source": []
  },
  {
   "cell_type": "code",
   "execution_count": null,
   "id": "ee5d1e03",
   "metadata": {},
   "outputs": [],
   "source": [
    "#si usamos una \"semilla\" para generar los números aleatorios,\n",
    "#siempre obtendremos el mismo resultado\n",
    "#muy útil para reproducibilidad del código\n",
    "np.random.seed(2) "
   ]
  },
  {
   "cell_type": "code",
   "execution_count": null,
   "id": "b4600878",
   "metadata": {},
   "outputs": [],
   "source": [
    "np.random.randint(1,100)"
   ]
  },
  {
   "cell_type": "markdown",
   "id": "a7ab51d2",
   "metadata": {},
   "source": [
    "### Reshape\n",
    "Podemos usar reshape para cambiar la forma del arreglo"
   ]
  },
  {
   "cell_type": "code",
   "execution_count": null,
   "id": "953153a5",
   "metadata": {},
   "outputs": [],
   "source": [
    "arreglo=np.arange(0,25)\n",
    "arreglo"
   ]
  },
  {
   "cell_type": "code",
   "execution_count": null,
   "id": "eefc8e5b",
   "metadata": {},
   "outputs": [],
   "source": [
    "arreglo.size"
   ]
  },
  {
   "cell_type": "code",
   "execution_count": null,
   "id": "132474a7",
   "metadata": {},
   "outputs": [],
   "source": [
    "arreglo.reshape(25,1)"
   ]
  },
  {
   "cell_type": "markdown",
   "id": "7e3e6ae6",
   "metadata": {},
   "source": [
    "### <code>min()</code>, <code>max()</code>, <code>argmin()</code> y <code>argmax()</code>"
   ]
  },
  {
   "cell_type": "code",
   "execution_count": null,
   "id": "9b9f61c4",
   "metadata": {},
   "outputs": [],
   "source": [
    "arreglo_ran = np.random.randint(0,50,10)\n",
    "arreglo_ran"
   ]
  },
  {
   "cell_type": "code",
   "execution_count": null,
   "id": "3595b769",
   "metadata": {},
   "outputs": [],
   "source": [
    "arreglo_ran.min()"
   ]
  },
  {
   "cell_type": "code",
   "execution_count": null,
   "id": "eda52d29",
   "metadata": {},
   "outputs": [],
   "source": [
    "arreglo_ran.argmin()"
   ]
  },
  {
   "cell_type": "code",
   "execution_count": null,
   "id": "f0de941a",
   "metadata": {},
   "outputs": [],
   "source": [
    "arreglo_ran.max()"
   ]
  },
  {
   "cell_type": "code",
   "execution_count": null,
   "id": "eecc12cb",
   "metadata": {},
   "outputs": [],
   "source": [
    "arreglo_ran.argmax()"
   ]
  },
  {
   "cell_type": "code",
   "execution_count": null,
   "id": "6f209830",
   "metadata": {},
   "outputs": [],
   "source": []
  },
  {
   "cell_type": "markdown",
   "id": "702ba2ca",
   "metadata": {},
   "source": [
    "El atributo <code>shape</code> nos permite saber la forma de un arreglo"
   ]
  },
  {
   "cell_type": "code",
   "execution_count": null,
   "id": "c1e94ad7",
   "metadata": {},
   "outputs": [],
   "source": [
    "arreglo.shape #vector 1d"
   ]
  },
  {
   "cell_type": "code",
   "execution_count": null,
   "id": "dcb7c948",
   "metadata": {},
   "outputs": [],
   "source": [
    "arreglo"
   ]
  },
  {
   "cell_type": "code",
   "execution_count": null,
   "id": "7dbe5207",
   "metadata": {},
   "outputs": [],
   "source": [
    "arreglo.reshape(1,25)"
   ]
  },
  {
   "cell_type": "code",
   "execution_count": null,
   "id": "adb9e9d2",
   "metadata": {},
   "outputs": [],
   "source": [
    "arreglo.reshape(1,25).shape"
   ]
  },
  {
   "cell_type": "code",
   "execution_count": null,
   "id": "f897000f",
   "metadata": {},
   "outputs": [],
   "source": [
    "arreglo.reshape(25,1).shape"
   ]
  },
  {
   "cell_type": "markdown",
   "id": "13d7f763",
   "metadata": {},
   "source": [
    "## Indexación\n",
    "La indexación de arreglos de Numpy es similar a las listas"
   ]
  },
  {
   "cell_type": "code",
   "execution_count": null,
   "id": "efd491c0",
   "metadata": {},
   "outputs": [],
   "source": [
    "arr = np.arange(0,11)\n",
    "arr"
   ]
  },
  {
   "cell_type": "code",
   "execution_count": null,
   "id": "610e1e41",
   "metadata": {},
   "outputs": [],
   "source": [
    "arr[8] #valor en el índice dado"
   ]
  },
  {
   "cell_type": "code",
   "execution_count": null,
   "id": "dcd99ef3",
   "metadata": {},
   "outputs": [],
   "source": [
    "arr[1:5] # sección del arreglo"
   ]
  },
  {
   "cell_type": "markdown",
   "id": "3cbf0112",
   "metadata": {},
   "source": [
    "Podemos cambiar uno o más elementos en el arreglo"
   ]
  },
  {
   "cell_type": "code",
   "execution_count": null,
   "id": "210bf5b6",
   "metadata": {},
   "outputs": [],
   "source": [
    "arr[0:5]=100\n",
    "arr"
   ]
  },
  {
   "cell_type": "code",
   "execution_count": null,
   "id": "8c0623c3",
   "metadata": {},
   "outputs": [],
   "source": [
    "arr"
   ]
  },
  {
   "cell_type": "markdown",
   "id": "1976bbfd",
   "metadata": {},
   "source": [
    "El valor es cambiado en el arreglo original también para evitar problemas de memoria!! Para evitar cambiar el original, conviene hacer una copia"
   ]
  },
  {
   "cell_type": "code",
   "execution_count": null,
   "id": "f1f9ff39",
   "metadata": {},
   "outputs": [],
   "source": [
    "arr_copia = arr.copy()\n",
    "\n",
    "arr_copia"
   ]
  },
  {
   "cell_type": "code",
   "execution_count": null,
   "id": "7df06ecd",
   "metadata": {},
   "outputs": [],
   "source": []
  },
  {
   "cell_type": "markdown",
   "id": "1ac6325a",
   "metadata": {},
   "source": [
    "**Para indexar arreglos en 2d: arr_2d[row][col] o arr_2d[row,col]**"
   ]
  },
  {
   "cell_type": "code",
   "execution_count": null,
   "id": "1797653b",
   "metadata": {},
   "outputs": [],
   "source": [
    "arr_2d = np.array(([5,10,15],[20,25,30],[35,40,45]))\n",
    "arr_2d"
   ]
  },
  {
   "cell_type": "code",
   "execution_count": null,
   "id": "742fadf1",
   "metadata": {},
   "outputs": [],
   "source": [
    "arr_2d[1] #índice fila"
   ]
  },
  {
   "cell_type": "code",
   "execution_count": null,
   "id": "edfccbf4",
   "metadata": {},
   "outputs": [],
   "source": [
    "arr_2d[1][0] #slección de un sólo elemento"
   ]
  },
  {
   "cell_type": "code",
   "execution_count": null,
   "id": "7c3a3ed7",
   "metadata": {},
   "outputs": [],
   "source": [
    "arr_2d[1,0]"
   ]
  },
  {
   "cell_type": "code",
   "execution_count": null,
   "id": "9d3c75de",
   "metadata": {},
   "outputs": [],
   "source": [
    "arr_2d[2,1]"
   ]
  },
  {
   "cell_type": "code",
   "execution_count": null,
   "id": "d88fd561",
   "metadata": {},
   "outputs": [],
   "source": [
    "arr_2d[:2,1:] #intervalo de índices en fila,columna"
   ]
  },
  {
   "cell_type": "markdown",
   "id": "4f3c7b1d",
   "metadata": {},
   "source": [
    "**Ejercicio: Escriba un código que cree un arreglo de NumPy en 3D, y que indexe elementos desde las primeras 3 filas, y la segunda, tercera y cuarta columna**"
   ]
  },
  {
   "cell_type": "markdown",
   "id": "dfff7724",
   "metadata": {},
   "source": [
    "### Operaciones matemáticas\n",
    "Se pueden realizar operaciones matemáticas entre arreglos de numpy y también entre un escalar y un arreglo. La operación se hace por cada elemento"
   ]
  },
  {
   "cell_type": "code",
   "execution_count": null,
   "id": "c30606f8",
   "metadata": {},
   "outputs": [],
   "source": [
    "arr = np.arange(0,10)\n",
    "arr2=np.arange(0,5)"
   ]
  },
  {
   "cell_type": "code",
   "execution_count": null,
   "id": "5e57065b",
   "metadata": {},
   "outputs": [],
   "source": [
    "arr"
   ]
  },
  {
   "cell_type": "code",
   "execution_count": null,
   "id": "2a1aea65",
   "metadata": {},
   "outputs": [],
   "source": [
    "arr2"
   ]
  },
  {
   "cell_type": "markdown",
   "id": "517e8699",
   "metadata": {},
   "source": [
    "**Ejercicio: Crea dos arrays de NumPy del mismo tamaño y realiza operaciones elementales como suma, resta, multiplicación y división entre ellos.**"
   ]
  },
  {
   "cell_type": "code",
   "execution_count": null,
   "id": "2350cf2a",
   "metadata": {},
   "outputs": [],
   "source": []
  },
  {
   "cell_type": "markdown",
   "id": "0ad2d9ad",
   "metadata": {},
   "source": [
    "**Funciones universales**"
   ]
  },
  {
   "cell_type": "code",
   "execution_count": null,
   "id": "368fa80b",
   "metadata": {},
   "outputs": [],
   "source": [
    "np.sqrt(arr) # raíz cuadrada"
   ]
  },
  {
   "cell_type": "code",
   "execution_count": null,
   "id": "8d01cc5c",
   "metadata": {},
   "outputs": [],
   "source": [
    "np.exp(arr) # e^"
   ]
  },
  {
   "cell_type": "code",
   "execution_count": null,
   "id": "23cbcb7e",
   "metadata": {},
   "outputs": [],
   "source": []
  },
  {
   "cell_type": "code",
   "execution_count": null,
   "id": "d26e01ae",
   "metadata": {},
   "outputs": [],
   "source": [
    "np.sin(arr) #función seno"
   ]
  },
  {
   "cell_type": "code",
   "execution_count": null,
   "id": "c759167d",
   "metadata": {},
   "outputs": [],
   "source": [
    "np.cos(arr) #función coseno"
   ]
  },
  {
   "cell_type": "code",
   "execution_count": null,
   "id": "8204f398",
   "metadata": {},
   "outputs": [],
   "source": [
    "np.pi #numero pi en numpy"
   ]
  },
  {
   "cell_type": "code",
   "execution_count": null,
   "id": "bac2337e",
   "metadata": {},
   "outputs": [],
   "source": [
    "np.sin(np.pi/2)"
   ]
  },
  {
   "cell_type": "code",
   "execution_count": null,
   "id": "39c95da2",
   "metadata": {},
   "outputs": [],
   "source": [
    "np.log(arr) #logaritmo natural"
   ]
  },
  {
   "cell_type": "code",
   "execution_count": null,
   "id": "739f2faf",
   "metadata": {},
   "outputs": [],
   "source": [
    "np.log10(arr) #logaritmo base 10"
   ]
  },
  {
   "cell_type": "code",
   "execution_count": null,
   "id": "69ffcbe2",
   "metadata": {},
   "outputs": [],
   "source": []
  },
  {
   "cell_type": "markdown",
   "id": "e55e9be8",
   "metadata": {},
   "source": [
    "## Pandas\n",
    "\n",
    "Es una librería de Python especializada en el manejo y análisis de estructuras de datos. La estructura básica de Pandas son Series y Dataframes, basadas en los arrays de NumPy. Las ventajas de Pandas son:\n",
    "* Permite leer y escribir fácilmente archivos en formato CSV, Excel y bases de datos SQL.\n",
    "* Permite acceder a los datos mediante índices o nombres para filas y columnas.\n",
    "* Ofrece métodos para reordenar, dividir y combinar conjuntos de datos.\n",
    "* Permite trabajar con series temporales.\n",
    "* Realiza todas estas operaciones de manera muy eficiente."
   ]
  },
  {
   "cell_type": "markdown",
   "id": "b22bd2fa",
   "metadata": {},
   "source": [
    "## Series"
   ]
  },
  {
   "cell_type": "markdown",
   "id": "afbf49b5",
   "metadata": {},
   "source": [
    "Crearemos una estructura de datos de Serie, que es unidimensional. Podemos convertir a serie una lista, un array de numpy o un diccionario"
   ]
  },
  {
   "cell_type": "code",
   "execution_count": null,
   "id": "f3529cbc",
   "metadata": {},
   "outputs": [],
   "source": [
    "#Ejemplo Series\n",
    "d = {'Dato1': 1, 'Dato2': 2, 'Dato3': 3} #Datos como diccionario\n",
    "d"
   ]
  },
  {
   "cell_type": "code",
   "execution_count": null,
   "id": "e0a8c6cc",
   "metadata": {},
   "outputs": [],
   "source": [
    "ser1= pd.Series(data=d, index=['Dato1', 'Dato2', 'Dato3']) # Comando Pandas.Series(datos, indice de datos)\n",
    "ser1"
   ]
  },
  {
   "cell_type": "code",
   "execution_count": null,
   "id": "b0438e1d",
   "metadata": {},
   "outputs": [],
   "source": [
    "type(ser1)"
   ]
  },
  {
   "cell_type": "code",
   "execution_count": null,
   "id": "0115d698",
   "metadata": {},
   "outputs": [],
   "source": [
    "#labels = ['a','b','c']\n",
    "#arr = np.array([10,20,30])"
   ]
  },
  {
   "cell_type": "markdown",
   "id": "c12c44c5",
   "metadata": {},
   "source": [
    "Para acceder a un elemento de la serie, lo hacemos de forma similar a una lista. La diferencia es que la serie puede tener nombres especiales para los índices\n",
    "\n",
    "<code>serie['NombreIndice']</code>"
   ]
  },
  {
   "cell_type": "code",
   "execution_count": null,
   "id": "10a4ddf4",
   "metadata": {},
   "outputs": [],
   "source": [
    "my_list = [10,20,30]\n",
    "my_list"
   ]
  },
  {
   "cell_type": "code",
   "execution_count": null,
   "id": "0450561d",
   "metadata": {},
   "outputs": [],
   "source": [
    "ser2=pd.Series(data=my_list) #el indice es automatico, 0, 1, 2...\n",
    "ser2"
   ]
  },
  {
   "cell_type": "code",
   "execution_count": null,
   "id": "b799a26a",
   "metadata": {},
   "outputs": [],
   "source": [
    "ser2[0]"
   ]
  },
  {
   "cell_type": "code",
   "execution_count": null,
   "id": "a82966b5",
   "metadata": {},
   "outputs": [],
   "source": [
    "ser1"
   ]
  },
  {
   "cell_type": "code",
   "execution_count": null,
   "id": "d0caef07",
   "metadata": {},
   "outputs": [],
   "source": [
    "ser1[0]"
   ]
  },
  {
   "cell_type": "code",
   "execution_count": null,
   "id": "be1fb7bc",
   "metadata": {},
   "outputs": [],
   "source": [
    "ser1['Dato1']"
   ]
  },
  {
   "cell_type": "code",
   "execution_count": null,
   "id": "449e5a0a",
   "metadata": {},
   "outputs": [],
   "source": [
    "labels = ['a','b','c']"
   ]
  },
  {
   "cell_type": "code",
   "execution_count": null,
   "id": "e0d8cc17",
   "metadata": {},
   "outputs": [],
   "source": []
  },
  {
   "cell_type": "code",
   "execution_count": null,
   "id": "2dbd4120",
   "metadata": {},
   "outputs": [],
   "source": [
    "ser3=pd.Series(data=my_list, index=labels) #el indice es lo que contiene la lista labels\n",
    "ser3"
   ]
  },
  {
   "cell_type": "code",
   "execution_count": null,
   "id": "f9f10086",
   "metadata": {},
   "outputs": [],
   "source": [
    "ser3['a']"
   ]
  },
  {
   "cell_type": "code",
   "execution_count": null,
   "id": "744b087e",
   "metadata": {},
   "outputs": [],
   "source": [
    "ser3[0]"
   ]
  },
  {
   "cell_type": "code",
   "execution_count": null,
   "id": "7d0bf215",
   "metadata": {},
   "outputs": [],
   "source": []
  },
  {
   "cell_type": "markdown",
   "id": "f358939f",
   "metadata": {},
   "source": [
    "## Dataframes"
   ]
  },
  {
   "cell_type": "markdown",
   "id": "6254ab0d",
   "metadata": {},
   "source": [
    "Crearemos un dataframe con dos columnas. "
   ]
  },
  {
   "cell_type": "code",
   "execution_count": null,
   "id": "f55bce6b",
   "metadata": {},
   "outputs": [],
   "source": [
    "#Ejemplo DataFrame\n",
    "d = {'Columna 1': [1, 2, 3, 4], 'Columna 2': [3, 4, 8, 9]}\n"
   ]
  },
  {
   "cell_type": "code",
   "execution_count": null,
   "id": "3dc2091a",
   "metadata": {},
   "outputs": [],
   "source": [
    "d"
   ]
  },
  {
   "cell_type": "code",
   "execution_count": null,
   "id": "6e7d4f0f",
   "metadata": {},
   "outputs": [],
   "source": [
    "df = pd.DataFrame(data=d) #creo el dataframe\n",
    "df"
   ]
  },
  {
   "cell_type": "code",
   "execution_count": null,
   "id": "d0bb6c10",
   "metadata": {},
   "outputs": [],
   "source": [
    "df1 = {'Nombre':['Carlos','Ignacia','Pedro','Carolina'],\n",
    "       'Edad':  [20,31,19,19],\n",
    "       'Altura':[1.63,1.70,1.83,1.65]}\n"
   ]
  },
  {
   "cell_type": "code",
   "execution_count": null,
   "id": "806f3bbe",
   "metadata": {},
   "outputs": [],
   "source": [
    "df1"
   ]
  },
  {
   "cell_type": "code",
   "execution_count": null,
   "id": "1dc1431b",
   "metadata": {},
   "outputs": [],
   "source": [
    "df1 = pd.DataFrame(df1)\n",
    "df1"
   ]
  },
  {
   "cell_type": "markdown",
   "id": "647cee92",
   "metadata": {},
   "source": [
    "Para acceder a una columna del dataframe, indexamos de acuerdo al nombre de la columna. Hay dos formas:\n",
    "\n",
    "<code>df1['columnname']\n",
    "df1.columnname</code>\n",
    "\n",
    "si el nombre de la columna tiene un espacio, no podemos acceder de la segunda forma"
   ]
  },
  {
   "cell_type": "code",
   "execution_count": null,
   "id": "85c9e0cc",
   "metadata": {},
   "outputs": [],
   "source": [
    "df1['Nombre'] #columna de df1"
   ]
  },
  {
   "cell_type": "code",
   "execution_count": null,
   "id": "d42604e4",
   "metadata": {},
   "outputs": [],
   "source": [
    "type(df1['Nombre']) #columna"
   ]
  },
  {
   "cell_type": "code",
   "execution_count": null,
   "id": "a7578998",
   "metadata": {},
   "outputs": [],
   "source": [
    "type(df1)"
   ]
  },
  {
   "cell_type": "code",
   "execution_count": null,
   "id": "8811a47f",
   "metadata": {},
   "outputs": [],
   "source": [
    "df1.Nombre"
   ]
  },
  {
   "cell_type": "code",
   "execution_count": null,
   "id": "da6dc386",
   "metadata": {},
   "outputs": [],
   "source": [
    "df2 = {'Nombre':['Carlos','Ignacia','Pedro','Carolina'],\n",
    "       'Edad Actual ':  [20,31,19,19],\n",
    "      'Año': [1984,1999, 2001, 1965]}\n",
    "df2 = pd.DataFrame(df2)"
   ]
  },
  {
   "cell_type": "code",
   "execution_count": null,
   "id": "ed37a5d2",
   "metadata": {},
   "outputs": [],
   "source": [
    "df2"
   ]
  },
  {
   "cell_type": "code",
   "execution_count": null,
   "id": "ea980ef8",
   "metadata": {},
   "outputs": [],
   "source": [
    "df2.Nombre"
   ]
  },
  {
   "cell_type": "code",
   "execution_count": null,
   "id": "bf10efc5",
   "metadata": {},
   "outputs": [],
   "source": [
    "df2['Edad Actual ']"
   ]
  },
  {
   "cell_type": "code",
   "execution_count": null,
   "id": "f08c5b44",
   "metadata": {},
   "outputs": [],
   "source": [
    "df2['Año']"
   ]
  },
  {
   "cell_type": "code",
   "execution_count": null,
   "id": "e1adb7fa",
   "metadata": {},
   "outputs": [],
   "source": [
    "df2.Año"
   ]
  },
  {
   "cell_type": "code",
   "execution_count": null,
   "id": "cb8bfd31",
   "metadata": {},
   "outputs": [],
   "source": [
    "df2.columns"
   ]
  },
  {
   "cell_type": "code",
   "execution_count": null,
   "id": "31c6ac89",
   "metadata": {},
   "outputs": [],
   "source": []
  },
  {
   "cell_type": "markdown",
   "id": "667c3b71",
   "metadata": {},
   "source": [
    "Podemos seleccionar ciertas columnas del dataframe, pasando las columnas de interés al dataframe en forma de lista"
   ]
  },
  {
   "cell_type": "code",
   "execution_count": null,
   "id": "9e49d051",
   "metadata": {},
   "outputs": [],
   "source": [
    "df1"
   ]
  },
  {
   "cell_type": "markdown",
   "id": "37c98cf0",
   "metadata": {},
   "source": [
    "**Ejercicio: Selecciona del Dataframe anterior sólo las columnas de Nombre y Altura**"
   ]
  },
  {
   "cell_type": "markdown",
   "id": "5436499d",
   "metadata": {},
   "source": [
    "### Leyendo dataframes desde archivos .csv y hojas de Excel"
   ]
  },
  {
   "cell_type": "markdown",
   "id": "78cf661b",
   "metadata": {},
   "source": [
    "En la mayoría de las ocasiones, podemos leer difectametne un archivo (.xlsx, .csv, .json, .xml, etc) y guardarlo como dataframe. Los principales son\n",
    "\n",
    "- Pandas.read_csv(path): Genera un Dataframe a partir de un archivo .csv que se encuentra en path\n",
    "- Pandas.read_excel(path): Genera un Dataframe a partir de una Sheet en Excel que se encuentra en path. Podemos incluir que hojas del documento y cuales columnas deseamos leer\n",
    "\n",
    "\n",
    "El comando <code>Pandas.head(n)</code> nos muestra sólo las primeras n líneas del dataframe"
   ]
  },
  {
   "cell_type": "markdown",
   "id": "1d32a3f8",
   "metadata": {},
   "source": [
    "Busquemos datos de  Temperatura - Centro de Estudios Avanzados en Zonas Áridas (CEAZA) desde la página oficial de Ministerio de Ciencia "
   ]
  },
  {
   "cell_type": "code",
   "execution_count": 2,
   "id": "2185d25c",
   "metadata": {},
   "outputs": [],
   "source": [
    "año='2023' #escoja un año para bajar los datos\n",
    "temperatura = pd.read_csv(\"https://raw.githubusercontent.com/MinCiencia/Datos-CambioClimatico/main/output/temperatura_dmc/\"+año+\"/\"+año+\"_temperatura_dmc.csv\")\n"
   ]
  },
  {
   "cell_type": "code",
   "execution_count": 3,
   "id": "ff80ae48",
   "metadata": {},
   "outputs": [
    {
     "data": {
      "text/html": [
       "<div>\n",
       "<style scoped>\n",
       "    .dataframe tbody tr th:only-of-type {\n",
       "        vertical-align: middle;\n",
       "    }\n",
       "\n",
       "    .dataframe tbody tr th {\n",
       "        vertical-align: top;\n",
       "    }\n",
       "\n",
       "    .dataframe thead th {\n",
       "        text-align: right;\n",
       "    }\n",
       "</style>\n",
       "<table border=\"1\" class=\"dataframe\">\n",
       "  <thead>\n",
       "    <tr style=\"text-align: right;\">\n",
       "      <th></th>\n",
       "      <th>time</th>\n",
       "      <th>latitud</th>\n",
       "      <th>longitud</th>\n",
       "      <th>Ts_Valor</th>\n",
       "      <th>CodigoNacional</th>\n",
       "      <th>nombreEstacion</th>\n",
       "    </tr>\n",
       "  </thead>\n",
       "  <tbody>\n",
       "    <tr>\n",
       "      <th>0</th>\n",
       "      <td>2023-01-01 01:00:00</td>\n",
       "      <td>-18.35555</td>\n",
       "      <td>-70.34028</td>\n",
       "      <td>20.0</td>\n",
       "      <td>180005.0</td>\n",
       "      <td>Chacalluta, Arica Ap.</td>\n",
       "    </tr>\n",
       "    <tr>\n",
       "      <th>1</th>\n",
       "      <td>2023-01-01 02:00:00</td>\n",
       "      <td>-18.35555</td>\n",
       "      <td>-70.34028</td>\n",
       "      <td>20.3</td>\n",
       "      <td>180005.0</td>\n",
       "      <td>Chacalluta, Arica Ap.</td>\n",
       "    </tr>\n",
       "    <tr>\n",
       "      <th>2</th>\n",
       "      <td>2023-01-01 03:00:00</td>\n",
       "      <td>-18.35555</td>\n",
       "      <td>-70.34028</td>\n",
       "      <td>20.5</td>\n",
       "      <td>180005.0</td>\n",
       "      <td>Chacalluta, Arica Ap.</td>\n",
       "    </tr>\n",
       "    <tr>\n",
       "      <th>3</th>\n",
       "      <td>2023-01-01 04:00:00</td>\n",
       "      <td>-18.35555</td>\n",
       "      <td>-70.34028</td>\n",
       "      <td>20.4</td>\n",
       "      <td>180005.0</td>\n",
       "      <td>Chacalluta, Arica Ap.</td>\n",
       "    </tr>\n",
       "    <tr>\n",
       "      <th>4</th>\n",
       "      <td>2023-01-01 05:00:00</td>\n",
       "      <td>-18.35555</td>\n",
       "      <td>-70.34028</td>\n",
       "      <td>19.8</td>\n",
       "      <td>180005.0</td>\n",
       "      <td>Chacalluta, Arica Ap.</td>\n",
       "    </tr>\n",
       "    <tr>\n",
       "      <th>...</th>\n",
       "      <td>...</td>\n",
       "      <td>...</td>\n",
       "      <td>...</td>\n",
       "      <td>...</td>\n",
       "      <td>...</td>\n",
       "      <td>...</td>\n",
       "    </tr>\n",
       "    <tr>\n",
       "      <th>311678</th>\n",
       "      <td>2023-09-29 03:00:00</td>\n",
       "      <td>-62.19194</td>\n",
       "      <td>-58.97972</td>\n",
       "      <td>-3.0</td>\n",
       "      <td>950001.0</td>\n",
       "      <td>C.M.A. Eduardo Frei Montalva, Antártica</td>\n",
       "    </tr>\n",
       "    <tr>\n",
       "      <th>311679</th>\n",
       "      <td>2023-09-29 04:00:00</td>\n",
       "      <td>-62.19194</td>\n",
       "      <td>-58.97972</td>\n",
       "      <td>-2.9</td>\n",
       "      <td>950001.0</td>\n",
       "      <td>C.M.A. Eduardo Frei Montalva, Antártica</td>\n",
       "    </tr>\n",
       "    <tr>\n",
       "      <th>311680</th>\n",
       "      <td>2023-09-29 05:00:00</td>\n",
       "      <td>-62.19194</td>\n",
       "      <td>-58.97972</td>\n",
       "      <td>-2.8</td>\n",
       "      <td>950001.0</td>\n",
       "      <td>C.M.A. Eduardo Frei Montalva, Antártica</td>\n",
       "    </tr>\n",
       "    <tr>\n",
       "      <th>311681</th>\n",
       "      <td>2023-09-29 06:00:00</td>\n",
       "      <td>-62.19194</td>\n",
       "      <td>-58.97972</td>\n",
       "      <td>-2.7</td>\n",
       "      <td>950001.0</td>\n",
       "      <td>C.M.A. Eduardo Frei Montalva, Antártica</td>\n",
       "    </tr>\n",
       "    <tr>\n",
       "      <th>311682</th>\n",
       "      <td>2023-09-29 07:00:00</td>\n",
       "      <td>-62.19194</td>\n",
       "      <td>-58.97972</td>\n",
       "      <td>-2.6</td>\n",
       "      <td>950001.0</td>\n",
       "      <td>C.M.A. Eduardo Frei Montalva, Antártica</td>\n",
       "    </tr>\n",
       "  </tbody>\n",
       "</table>\n",
       "<p>311683 rows × 6 columns</p>\n",
       "</div>"
      ],
      "text/plain": [
       "                       time   latitud  longitud  Ts_Valor  CodigoNacional  \\\n",
       "0       2023-01-01 01:00:00 -18.35555 -70.34028      20.0        180005.0   \n",
       "1       2023-01-01 02:00:00 -18.35555 -70.34028      20.3        180005.0   \n",
       "2       2023-01-01 03:00:00 -18.35555 -70.34028      20.5        180005.0   \n",
       "3       2023-01-01 04:00:00 -18.35555 -70.34028      20.4        180005.0   \n",
       "4       2023-01-01 05:00:00 -18.35555 -70.34028      19.8        180005.0   \n",
       "...                     ...       ...       ...       ...             ...   \n",
       "311678  2023-09-29 03:00:00 -62.19194 -58.97972      -3.0        950001.0   \n",
       "311679  2023-09-29 04:00:00 -62.19194 -58.97972      -2.9        950001.0   \n",
       "311680  2023-09-29 05:00:00 -62.19194 -58.97972      -2.8        950001.0   \n",
       "311681  2023-09-29 06:00:00 -62.19194 -58.97972      -2.7        950001.0   \n",
       "311682  2023-09-29 07:00:00 -62.19194 -58.97972      -2.6        950001.0   \n",
       "\n",
       "                                  nombreEstacion  \n",
       "0                          Chacalluta, Arica Ap.  \n",
       "1                          Chacalluta, Arica Ap.  \n",
       "2                          Chacalluta, Arica Ap.  \n",
       "3                          Chacalluta, Arica Ap.  \n",
       "4                          Chacalluta, Arica Ap.  \n",
       "...                                          ...  \n",
       "311678  C.M.A. Eduardo Frei Montalva, Antártica   \n",
       "311679  C.M.A. Eduardo Frei Montalva, Antártica   \n",
       "311680  C.M.A. Eduardo Frei Montalva, Antártica   \n",
       "311681  C.M.A. Eduardo Frei Montalva, Antártica   \n",
       "311682  C.M.A. Eduardo Frei Montalva, Antártica   \n",
       "\n",
       "[311683 rows x 6 columns]"
      ]
     },
     "execution_count": 3,
     "metadata": {},
     "output_type": "execute_result"
    }
   ],
   "source": [
    "temperatura"
   ]
  },
  {
   "cell_type": "code",
   "execution_count": 4,
   "id": "fec7620e",
   "metadata": {},
   "outputs": [
    {
     "data": {
      "text/plain": [
       "Index(['time', 'latitud', 'longitud', 'Ts_Valor', 'CodigoNacional',\n",
       "       'nombreEstacion'],\n",
       "      dtype='object')"
      ]
     },
     "execution_count": 4,
     "metadata": {},
     "output_type": "execute_result"
    }
   ],
   "source": [
    "temperatura.columns"
   ]
  },
  {
   "cell_type": "code",
   "execution_count": 9,
   "id": "a3667032",
   "metadata": {},
   "outputs": [
    {
     "data": {
      "text/plain": [
       "311683"
      ]
     },
     "execution_count": 9,
     "metadata": {},
     "output_type": "execute_result"
    }
   ],
   "source": [
    "len(temperatura.nombreEstacion.isnull())"
   ]
  },
  {
   "cell_type": "code",
   "execution_count": null,
   "id": "5ecbdf08",
   "metadata": {},
   "outputs": [],
   "source": []
  },
  {
   "cell_type": "code",
   "execution_count": null,
   "id": "85eddf73",
   "metadata": {},
   "outputs": [],
   "source": []
  },
  {
   "cell_type": "code",
   "execution_count": null,
   "id": "2fd7f5c2",
   "metadata": {},
   "outputs": [],
   "source": [
    "temperatura.head(2)"
   ]
  },
  {
   "cell_type": "code",
   "execution_count": null,
   "id": "bfece621",
   "metadata": {},
   "outputs": [],
   "source": [
    "temperatura['nombreEstacion']"
   ]
  },
  {
   "cell_type": "code",
   "execution_count": null,
   "id": "504df61c",
   "metadata": {},
   "outputs": [],
   "source": [
    "type(temperatura)"
   ]
  },
  {
   "cell_type": "markdown",
   "id": "9f1a8195",
   "metadata": {},
   "source": [
    "**Ejercicio: Determine cuántos datos hay en este set, cuántas columnas, y si hay datos faltantes en el dataframe**"
   ]
  },
  {
   "cell_type": "code",
   "execution_count": null,
   "id": "5c455b0b",
   "metadata": {},
   "outputs": [],
   "source": []
  },
  {
   "cell_type": "markdown",
   "id": "17fb75c9",
   "metadata": {},
   "source": [
    "### Otras funciones de dataframes"
   ]
  },
  {
   "cell_type": "markdown",
   "id": "1b2bca3b",
   "metadata": {},
   "source": [
    "La función <code>isnull()</code> muestra las entradas del dataframe donde no hay datos (NaN o celdas vacías)"
   ]
  },
  {
   "cell_type": "code",
   "execution_count": 10,
   "id": "63b9f6f8",
   "metadata": {},
   "outputs": [
    {
     "data": {
      "text/html": [
       "<div>\n",
       "<style scoped>\n",
       "    .dataframe tbody tr th:only-of-type {\n",
       "        vertical-align: middle;\n",
       "    }\n",
       "\n",
       "    .dataframe tbody tr th {\n",
       "        vertical-align: top;\n",
       "    }\n",
       "\n",
       "    .dataframe thead th {\n",
       "        text-align: right;\n",
       "    }\n",
       "</style>\n",
       "<table border=\"1\" class=\"dataframe\">\n",
       "  <thead>\n",
       "    <tr style=\"text-align: right;\">\n",
       "      <th></th>\n",
       "      <th>time</th>\n",
       "      <th>latitud</th>\n",
       "      <th>longitud</th>\n",
       "      <th>Ts_Valor</th>\n",
       "      <th>CodigoNacional</th>\n",
       "      <th>nombreEstacion</th>\n",
       "    </tr>\n",
       "  </thead>\n",
       "  <tbody>\n",
       "    <tr>\n",
       "      <th>0</th>\n",
       "      <td>False</td>\n",
       "      <td>False</td>\n",
       "      <td>False</td>\n",
       "      <td>False</td>\n",
       "      <td>False</td>\n",
       "      <td>False</td>\n",
       "    </tr>\n",
       "    <tr>\n",
       "      <th>1</th>\n",
       "      <td>False</td>\n",
       "      <td>False</td>\n",
       "      <td>False</td>\n",
       "      <td>False</td>\n",
       "      <td>False</td>\n",
       "      <td>False</td>\n",
       "    </tr>\n",
       "    <tr>\n",
       "      <th>2</th>\n",
       "      <td>False</td>\n",
       "      <td>False</td>\n",
       "      <td>False</td>\n",
       "      <td>False</td>\n",
       "      <td>False</td>\n",
       "      <td>False</td>\n",
       "    </tr>\n",
       "    <tr>\n",
       "      <th>3</th>\n",
       "      <td>False</td>\n",
       "      <td>False</td>\n",
       "      <td>False</td>\n",
       "      <td>False</td>\n",
       "      <td>False</td>\n",
       "      <td>False</td>\n",
       "    </tr>\n",
       "    <tr>\n",
       "      <th>4</th>\n",
       "      <td>False</td>\n",
       "      <td>False</td>\n",
       "      <td>False</td>\n",
       "      <td>False</td>\n",
       "      <td>False</td>\n",
       "      <td>False</td>\n",
       "    </tr>\n",
       "    <tr>\n",
       "      <th>...</th>\n",
       "      <td>...</td>\n",
       "      <td>...</td>\n",
       "      <td>...</td>\n",
       "      <td>...</td>\n",
       "      <td>...</td>\n",
       "      <td>...</td>\n",
       "    </tr>\n",
       "    <tr>\n",
       "      <th>311678</th>\n",
       "      <td>False</td>\n",
       "      <td>False</td>\n",
       "      <td>False</td>\n",
       "      <td>False</td>\n",
       "      <td>False</td>\n",
       "      <td>False</td>\n",
       "    </tr>\n",
       "    <tr>\n",
       "      <th>311679</th>\n",
       "      <td>False</td>\n",
       "      <td>False</td>\n",
       "      <td>False</td>\n",
       "      <td>False</td>\n",
       "      <td>False</td>\n",
       "      <td>False</td>\n",
       "    </tr>\n",
       "    <tr>\n",
       "      <th>311680</th>\n",
       "      <td>False</td>\n",
       "      <td>False</td>\n",
       "      <td>False</td>\n",
       "      <td>False</td>\n",
       "      <td>False</td>\n",
       "      <td>False</td>\n",
       "    </tr>\n",
       "    <tr>\n",
       "      <th>311681</th>\n",
       "      <td>False</td>\n",
       "      <td>False</td>\n",
       "      <td>False</td>\n",
       "      <td>False</td>\n",
       "      <td>False</td>\n",
       "      <td>False</td>\n",
       "    </tr>\n",
       "    <tr>\n",
       "      <th>311682</th>\n",
       "      <td>False</td>\n",
       "      <td>False</td>\n",
       "      <td>False</td>\n",
       "      <td>False</td>\n",
       "      <td>False</td>\n",
       "      <td>False</td>\n",
       "    </tr>\n",
       "  </tbody>\n",
       "</table>\n",
       "<p>311683 rows × 6 columns</p>\n",
       "</div>"
      ],
      "text/plain": [
       "         time  latitud  longitud  Ts_Valor  CodigoNacional  nombreEstacion\n",
       "0       False    False     False     False           False           False\n",
       "1       False    False     False     False           False           False\n",
       "2       False    False     False     False           False           False\n",
       "3       False    False     False     False           False           False\n",
       "4       False    False     False     False           False           False\n",
       "...       ...      ...       ...       ...             ...             ...\n",
       "311678  False    False     False     False           False           False\n",
       "311679  False    False     False     False           False           False\n",
       "311680  False    False     False     False           False           False\n",
       "311681  False    False     False     False           False           False\n",
       "311682  False    False     False     False           False           False\n",
       "\n",
       "[311683 rows x 6 columns]"
      ]
     },
     "execution_count": 10,
     "metadata": {},
     "output_type": "execute_result"
    }
   ],
   "source": [
    "temperatura.isnull()#.head(3)"
   ]
  },
  {
   "cell_type": "code",
   "execution_count": null,
   "id": "24746f31",
   "metadata": {},
   "outputs": [],
   "source": []
  },
  {
   "cell_type": "markdown",
   "id": "44c7eba2",
   "metadata": {},
   "source": [
    "La función <code>sum()</code> suma todas las entradas por columna"
   ]
  },
  {
   "cell_type": "code",
   "execution_count": 11,
   "id": "9080eded",
   "metadata": {},
   "outputs": [
    {
     "data": {
      "text/plain": [
       "time                0\n",
       "latitud             0\n",
       "longitud            0\n",
       "Ts_Valor          385\n",
       "CodigoNacional      0\n",
       "nombreEstacion      0\n",
       "dtype: int64"
      ]
     },
     "execution_count": 11,
     "metadata": {},
     "output_type": "execute_result"
    }
   ],
   "source": [
    "temperatura.isnull().sum()\n"
   ]
  },
  {
   "cell_type": "code",
   "execution_count": 13,
   "id": "0385ad07",
   "metadata": {},
   "outputs": [
    {
     "name": "stdout",
     "output_type": "stream",
     "text": [
      "<class 'pandas.core.frame.DataFrame'>\n",
      "RangeIndex: 311683 entries, 0 to 311682\n",
      "Data columns (total 6 columns):\n",
      " #   Column          Non-Null Count   Dtype  \n",
      "---  ------          --------------   -----  \n",
      " 0   time            311683 non-null  object \n",
      " 1   latitud         311683 non-null  float64\n",
      " 2   longitud        311683 non-null  float64\n",
      " 3   Ts_Valor        311298 non-null  float64\n",
      " 4   CodigoNacional  311683 non-null  float64\n",
      " 5   nombreEstacion  311683 non-null  object \n",
      "dtypes: float64(4), object(2)\n",
      "memory usage: 14.3+ MB\n"
     ]
    }
   ],
   "source": [
    "temperatura.info()"
   ]
  },
  {
   "cell_type": "code",
   "execution_count": null,
   "id": "8d30cec5",
   "metadata": {},
   "outputs": [],
   "source": [
    "temperatura.head(4)"
   ]
  },
  {
   "cell_type": "markdown",
   "id": "c3243511",
   "metadata": {},
   "source": [
    "La función <code>info()</code> muestra la información de cada columna del dataframe"
   ]
  },
  {
   "cell_type": "code",
   "execution_count": null,
   "id": "7d1f3ee5",
   "metadata": {},
   "outputs": [],
   "source": [
    "temperatura.info()"
   ]
  },
  {
   "cell_type": "code",
   "execution_count": 17,
   "id": "559ad0d1",
   "metadata": {},
   "outputs": [
    {
     "data": {
      "text/html": [
       "<div>\n",
       "<style scoped>\n",
       "    .dataframe tbody tr th:only-of-type {\n",
       "        vertical-align: middle;\n",
       "    }\n",
       "\n",
       "    .dataframe tbody tr th {\n",
       "        vertical-align: top;\n",
       "    }\n",
       "\n",
       "    .dataframe thead th {\n",
       "        text-align: right;\n",
       "    }\n",
       "</style>\n",
       "<table border=\"1\" class=\"dataframe\">\n",
       "  <thead>\n",
       "    <tr style=\"text-align: right;\">\n",
       "      <th></th>\n",
       "      <th>time</th>\n",
       "      <th>latitud</th>\n",
       "      <th>longitud</th>\n",
       "      <th>Ts_Valor</th>\n",
       "      <th>CodigoNacional</th>\n",
       "      <th>nombreEstacion</th>\n",
       "    </tr>\n",
       "  </thead>\n",
       "  <tbody>\n",
       "    <tr>\n",
       "      <th>0</th>\n",
       "      <td>2023-01-01 01:00:00</td>\n",
       "      <td>-18.35555</td>\n",
       "      <td>-70.34028</td>\n",
       "      <td>20.0</td>\n",
       "      <td>180005.0</td>\n",
       "      <td>Chacalluta, Arica Ap.</td>\n",
       "    </tr>\n",
       "    <tr>\n",
       "      <th>1</th>\n",
       "      <td>2023-01-01 02:00:00</td>\n",
       "      <td>-18.35555</td>\n",
       "      <td>-70.34028</td>\n",
       "      <td>20.3</td>\n",
       "      <td>180005.0</td>\n",
       "      <td>Chacalluta, Arica Ap.</td>\n",
       "    </tr>\n",
       "    <tr>\n",
       "      <th>2</th>\n",
       "      <td>2023-01-01 03:00:00</td>\n",
       "      <td>-18.35555</td>\n",
       "      <td>-70.34028</td>\n",
       "      <td>20.5</td>\n",
       "      <td>180005.0</td>\n",
       "      <td>Chacalluta, Arica Ap.</td>\n",
       "    </tr>\n",
       "    <tr>\n",
       "      <th>3</th>\n",
       "      <td>2023-01-01 04:00:00</td>\n",
       "      <td>-18.35555</td>\n",
       "      <td>-70.34028</td>\n",
       "      <td>20.4</td>\n",
       "      <td>180005.0</td>\n",
       "      <td>Chacalluta, Arica Ap.</td>\n",
       "    </tr>\n",
       "    <tr>\n",
       "      <th>4</th>\n",
       "      <td>2023-01-01 05:00:00</td>\n",
       "      <td>-18.35555</td>\n",
       "      <td>-70.34028</td>\n",
       "      <td>19.8</td>\n",
       "      <td>180005.0</td>\n",
       "      <td>Chacalluta, Arica Ap.</td>\n",
       "    </tr>\n",
       "    <tr>\n",
       "      <th>...</th>\n",
       "      <td>...</td>\n",
       "      <td>...</td>\n",
       "      <td>...</td>\n",
       "      <td>...</td>\n",
       "      <td>...</td>\n",
       "      <td>...</td>\n",
       "    </tr>\n",
       "    <tr>\n",
       "      <th>311678</th>\n",
       "      <td>2023-09-29 03:00:00</td>\n",
       "      <td>-62.19194</td>\n",
       "      <td>-58.97972</td>\n",
       "      <td>-3.0</td>\n",
       "      <td>950001.0</td>\n",
       "      <td>C.M.A. Eduardo Frei Montalva, Antártica</td>\n",
       "    </tr>\n",
       "    <tr>\n",
       "      <th>311679</th>\n",
       "      <td>2023-09-29 04:00:00</td>\n",
       "      <td>-62.19194</td>\n",
       "      <td>-58.97972</td>\n",
       "      <td>-2.9</td>\n",
       "      <td>950001.0</td>\n",
       "      <td>C.M.A. Eduardo Frei Montalva, Antártica</td>\n",
       "    </tr>\n",
       "    <tr>\n",
       "      <th>311680</th>\n",
       "      <td>2023-09-29 05:00:00</td>\n",
       "      <td>-62.19194</td>\n",
       "      <td>-58.97972</td>\n",
       "      <td>-2.8</td>\n",
       "      <td>950001.0</td>\n",
       "      <td>C.M.A. Eduardo Frei Montalva, Antártica</td>\n",
       "    </tr>\n",
       "    <tr>\n",
       "      <th>311681</th>\n",
       "      <td>2023-09-29 06:00:00</td>\n",
       "      <td>-62.19194</td>\n",
       "      <td>-58.97972</td>\n",
       "      <td>-2.7</td>\n",
       "      <td>950001.0</td>\n",
       "      <td>C.M.A. Eduardo Frei Montalva, Antártica</td>\n",
       "    </tr>\n",
       "    <tr>\n",
       "      <th>311682</th>\n",
       "      <td>2023-09-29 07:00:00</td>\n",
       "      <td>-62.19194</td>\n",
       "      <td>-58.97972</td>\n",
       "      <td>-2.6</td>\n",
       "      <td>950001.0</td>\n",
       "      <td>C.M.A. Eduardo Frei Montalva, Antártica</td>\n",
       "    </tr>\n",
       "  </tbody>\n",
       "</table>\n",
       "<p>311298 rows × 6 columns</p>\n",
       "</div>"
      ],
      "text/plain": [
       "                       time   latitud  longitud  Ts_Valor  CodigoNacional  \\\n",
       "0       2023-01-01 01:00:00 -18.35555 -70.34028      20.0        180005.0   \n",
       "1       2023-01-01 02:00:00 -18.35555 -70.34028      20.3        180005.0   \n",
       "2       2023-01-01 03:00:00 -18.35555 -70.34028      20.5        180005.0   \n",
       "3       2023-01-01 04:00:00 -18.35555 -70.34028      20.4        180005.0   \n",
       "4       2023-01-01 05:00:00 -18.35555 -70.34028      19.8        180005.0   \n",
       "...                     ...       ...       ...       ...             ...   \n",
       "311678  2023-09-29 03:00:00 -62.19194 -58.97972      -3.0        950001.0   \n",
       "311679  2023-09-29 04:00:00 -62.19194 -58.97972      -2.9        950001.0   \n",
       "311680  2023-09-29 05:00:00 -62.19194 -58.97972      -2.8        950001.0   \n",
       "311681  2023-09-29 06:00:00 -62.19194 -58.97972      -2.7        950001.0   \n",
       "311682  2023-09-29 07:00:00 -62.19194 -58.97972      -2.6        950001.0   \n",
       "\n",
       "                                  nombreEstacion  \n",
       "0                          Chacalluta, Arica Ap.  \n",
       "1                          Chacalluta, Arica Ap.  \n",
       "2                          Chacalluta, Arica Ap.  \n",
       "3                          Chacalluta, Arica Ap.  \n",
       "4                          Chacalluta, Arica Ap.  \n",
       "...                                          ...  \n",
       "311678  C.M.A. Eduardo Frei Montalva, Antártica   \n",
       "311679  C.M.A. Eduardo Frei Montalva, Antártica   \n",
       "311680  C.M.A. Eduardo Frei Montalva, Antártica   \n",
       "311681  C.M.A. Eduardo Frei Montalva, Antártica   \n",
       "311682  C.M.A. Eduardo Frei Montalva, Antártica   \n",
       "\n",
       "[311298 rows x 6 columns]"
      ]
     },
     "execution_count": 17,
     "metadata": {},
     "output_type": "execute_result"
    }
   ],
   "source": [
    "temperatura[~temperatura.Ts_Valor.isnull()]"
   ]
  },
  {
   "cell_type": "markdown",
   "id": "06571aa1",
   "metadata": {},
   "source": [
    "La función <code>describe()</code> muestra la estadística descriptiva del dataframe, solo para columnas que contienen datos numéricos"
   ]
  },
  {
   "cell_type": "code",
   "execution_count": null,
   "id": "c325851f",
   "metadata": {},
   "outputs": [],
   "source": [
    "temperatura.describe()"
   ]
  },
  {
   "cell_type": "code",
   "execution_count": null,
   "id": "d3f0168c",
   "metadata": {},
   "outputs": [],
   "source": []
  },
  {
   "cell_type": "markdown",
   "id": "d7f805d1",
   "metadata": {},
   "source": [
    "### Selección e Indexación"
   ]
  },
  {
   "cell_type": "markdown",
   "id": "2fc73068",
   "metadata": {},
   "source": [
    "Para mostrar el contenido de sólo una columna, indexamos el dataframe con el nombre de la columna"
   ]
  },
  {
   "cell_type": "code",
   "execution_count": null,
   "id": "cd051caf",
   "metadata": {},
   "outputs": [],
   "source": [
    "temperatura['latitud']"
   ]
  },
  {
   "cell_type": "markdown",
   "id": "d10c4b37",
   "metadata": {},
   "source": [
    "Para crear una columna nueva"
   ]
  },
  {
   "cell_type": "code",
   "execution_count": null,
   "id": "044c24dc",
   "metadata": {},
   "outputs": [],
   "source": [
    "temperatura.columns"
   ]
  },
  {
   "cell_type": "code",
   "execution_count": null,
   "id": "a1f10b97",
   "metadata": {},
   "outputs": [],
   "source": [
    "temperatura['dummy']=temperatura['latitud']+temperatura['longitud']\n",
    "\n",
    "\n"
   ]
  },
  {
   "cell_type": "code",
   "execution_count": null,
   "id": "e748d1f1",
   "metadata": {},
   "outputs": [],
   "source": [
    "temperatura.head(5)"
   ]
  },
  {
   "cell_type": "markdown",
   "id": "5e4e0851",
   "metadata": {},
   "source": [
    "Eliminar columnas"
   ]
  },
  {
   "cell_type": "code",
   "execution_count": null,
   "id": "ad0ddde6",
   "metadata": {},
   "outputs": [],
   "source": [
    "temperatura.drop('dummy',axis=1) #axis 1: columnas"
   ]
  },
  {
   "cell_type": "code",
   "execution_count": null,
   "id": "ca272c85",
   "metadata": {},
   "outputs": [],
   "source": [
    "temperatura.columns"
   ]
  },
  {
   "cell_type": "code",
   "execution_count": null,
   "id": "2450588c",
   "metadata": {},
   "outputs": [],
   "source": []
  },
  {
   "cell_type": "markdown",
   "id": "d582318d",
   "metadata": {},
   "source": [
    "Para guardar el cambio, debemos agregar el parámetro <code>inplace=True</code> en la función <code>drop()</code>"
   ]
  },
  {
   "cell_type": "code",
   "execution_count": null,
   "id": "7b872f0f",
   "metadata": {},
   "outputs": [],
   "source": [
    "temperatura.drop('dummy',axis=1, inplace=True)"
   ]
  },
  {
   "cell_type": "code",
   "execution_count": null,
   "id": "317ff03d",
   "metadata": {},
   "outputs": [],
   "source": [
    "temperatura.columns"
   ]
  },
  {
   "cell_type": "code",
   "execution_count": null,
   "id": "d9c618fe",
   "metadata": {},
   "outputs": [],
   "source": []
  },
  {
   "cell_type": "markdown",
   "id": "2341193e",
   "metadata": {},
   "source": [
    "podemos ordenar las filas usando <code>sort_values()</code>"
   ]
  },
  {
   "cell_type": "code",
   "execution_count": null,
   "id": "658221e9",
   "metadata": {},
   "outputs": [],
   "source": [
    "temperatura.sort_values(by=[\"Ts_Valor\"], ascending = True) "
   ]
  },
  {
   "cell_type": "markdown",
   "id": "71cfcb84",
   "metadata": {},
   "source": [
    "**Ejercicio: Encuentre el valor más alto de temperatura registrada en 2023**"
   ]
  },
  {
   "cell_type": "code",
   "execution_count": null,
   "id": "433080df",
   "metadata": {},
   "outputs": [],
   "source": []
  },
  {
   "cell_type": "markdown",
   "id": "4207eb74",
   "metadata": {},
   "source": [
    "Para seleccionar filas, usamos las funciones <code>.loc</code> y <code>.iloc</code>"
   ]
  },
  {
   "cell_type": "markdown",
   "id": "c8e548d2",
   "metadata": {},
   "source": [
    "<code>df.loc['nombre fila']</code>"
   ]
  },
  {
   "cell_type": "markdown",
   "id": "f5b14a33",
   "metadata": {},
   "source": [
    "<code>df.loc[indice]</code>"
   ]
  },
  {
   "cell_type": "code",
   "execution_count": null,
   "id": "768cc0f0",
   "metadata": {},
   "outputs": [],
   "source": [
    "temperatura.iloc[3]"
   ]
  },
  {
   "cell_type": "markdown",
   "id": "f384da1b",
   "metadata": {},
   "source": [
    "<code>df.loc[indexfila,columna]</code>"
   ]
  },
  {
   "cell_type": "code",
   "execution_count": null,
   "id": "191ea3b3",
   "metadata": {},
   "outputs": [],
   "source": [
    "temperatura.loc[4,'nombreEstacion']"
   ]
  },
  {
   "cell_type": "markdown",
   "id": "a6ecd8e3",
   "metadata": {},
   "source": [
    "<code>df.loc[[indexfila1,indexfila2], [columna1, columna2]]</code>"
   ]
  },
  {
   "cell_type": "markdown",
   "id": "5bad6425",
   "metadata": {},
   "source": [
    "### Selección Condicional usando booleanos"
   ]
  },
  {
   "cell_type": "code",
   "execution_count": null,
   "id": "614b367c",
   "metadata": {},
   "outputs": [],
   "source": [
    "temperatura.nombreEstacion.value_counts()"
   ]
  },
  {
   "cell_type": "code",
   "execution_count": null,
   "id": "22797e8f",
   "metadata": {},
   "outputs": [],
   "source": [
    "temperatura['nombreEstacion']=='Putre'"
   ]
  },
  {
   "cell_type": "markdown",
   "id": "706fca69",
   "metadata": {},
   "source": [
    "El resultado es una serie que contiene booleanos <code>True</code> o <code>False</code>\n",
    "\n",
    "Si queremos las filas del dataframe que cumplen con la condició booleana que la columna 'Sexo' == 'Mujer', debemos indexar el dataframe con la condición"
   ]
  },
  {
   "cell_type": "code",
   "execution_count": null,
   "id": "a1d1ac7c",
   "metadata": {},
   "outputs": [],
   "source": [
    "temperatura[temperatura['nombreEstacion']=='Putre']"
   ]
  },
  {
   "cell_type": "markdown",
   "id": "7a6047c7",
   "metadata": {},
   "source": [
    "Podemos usar más de una condición con los operadores lógicos and, or y not, sin embargo, cuando usamos pandas, debemos usar &, | y ~ ya que los otros operadores están hechos para escalares y no para comparar vectores . Debemos usar paréntesis para separar cada condición"
   ]
  },
  {
   "cell_type": "markdown",
   "id": "b9ffb337",
   "metadata": {},
   "source": [
    "**Ejercicio: Filtre el dataframe para encontrar las estaciones de medicion que midieron temperaturas entre los -20 y -10ºC**"
   ]
  },
  {
   "cell_type": "markdown",
   "id": "5e486d75",
   "metadata": {},
   "source": [
    "**Ejercicio: Cree una nueva columna 'T_K' que tenga las temperaturas en Kelvin**"
   ]
  },
  {
   "cell_type": "markdown",
   "id": "0977217f",
   "metadata": {},
   "source": [
    "**Encuentre la estación que tiene un promedio de temperaturas más alto**"
   ]
  },
  {
   "cell_type": "code",
   "execution_count": null,
   "id": "2fb636fb",
   "metadata": {},
   "outputs": [],
   "source": []
  },
  {
   "cell_type": "code",
   "execution_count": null,
   "id": "2fa5611a",
   "metadata": {},
   "outputs": [],
   "source": []
  },
  {
   "cell_type": "markdown",
   "id": "7bb6ea72",
   "metadata": {},
   "source": [
    "Cuando filtramos un dataframe con una condición booleana, podemos guardar el resultado en otro dataframe, pero el resultado conservará los índices en el dataframe original"
   ]
  },
  {
   "cell_type": "code",
   "execution_count": null,
   "id": "92952b48",
   "metadata": {},
   "outputs": [],
   "source": [
    "putre=temperatura[temperatura['nombreEstacion']=='Putre']\n",
    "putre"
   ]
  },
  {
   "cell_type": "markdown",
   "id": "984d1d35",
   "metadata": {},
   "source": [
    "Para resetear los índices en el nuevo dataframe, usamos la función <code>reset_index()</code>"
   ]
  },
  {
   "cell_type": "code",
   "execution_count": null,
   "id": "eb2b7d7d",
   "metadata": {},
   "outputs": [],
   "source": [
    "putre.reset_index(drop=True, inplace=True)"
   ]
  },
  {
   "cell_type": "code",
   "execution_count": null,
   "id": "b8a681dc",
   "metadata": {},
   "outputs": [],
   "source": [
    "putre.head(5)"
   ]
  },
  {
   "cell_type": "code",
   "execution_count": null,
   "id": "bf766717",
   "metadata": {},
   "outputs": [],
   "source": []
  },
  {
   "cell_type": "markdown",
   "id": "ae6ee17e",
   "metadata": {},
   "source": [
    "**Ejercicio: A partir del dataframe temperatura cree un nuevo dataframe que contenga sólo los datos de las estaciones al norte de Santiago. Escoja el criterio de acuerdo a los datos del dataframe**"
   ]
  },
  {
   "cell_type": "code",
   "execution_count": null,
   "id": "f2ab59a1",
   "metadata": {},
   "outputs": [],
   "source": []
  },
  {
   "cell_type": "code",
   "execution_count": null,
   "id": "c3340571",
   "metadata": {},
   "outputs": [],
   "source": []
  },
  {
   "cell_type": "markdown",
   "id": "79522268",
   "metadata": {},
   "source": [
    "### Guardar dataframes en archivos Excel o CSV"
   ]
  },
  {
   "cell_type": "markdown",
   "id": "3aeaead8",
   "metadata": {},
   "source": [
    "Podemos guardar dataframes que hemos creado en nuestro código manipulando los datos con los que estamos trabajando. Veremos cómo hacerlo para excel y csv"
   ]
  },
  {
   "cell_type": "markdown",
   "id": "794d07ea",
   "metadata": {},
   "source": [
    "Para un archivo **CSV** se usa el comando <code>to_csv()</code>. El nombre del archivo que vamos a crear debe ir en comillas."
   ]
  },
  {
   "cell_type": "code",
   "execution_count": null,
   "id": "16ea9ddd",
   "metadata": {},
   "outputs": [],
   "source": [
    "putre.to_csv('putre.csv',index=False, encoding = 'utf-8')"
   ]
  },
  {
   "cell_type": "code",
   "execution_count": null,
   "id": "c53652ed",
   "metadata": {},
   "outputs": [],
   "source": []
  },
  {
   "cell_type": "markdown",
   "id": "174560c7",
   "metadata": {},
   "source": [
    "Para una hoja de cálculo de **Excel** usamos el comando <code>to_excel()</code>"
   ]
  },
  {
   "cell_type": "code",
   "execution_count": null,
   "id": "a5d477f9",
   "metadata": {},
   "outputs": [],
   "source": [
    "putre.to_excel('putre.xlsx',sheet_name='Hoja1', encoding='utf-8')"
   ]
  },
  {
   "cell_type": "code",
   "execution_count": null,
   "id": "efc1c940",
   "metadata": {},
   "outputs": [],
   "source": []
  },
  {
   "cell_type": "markdown",
   "id": "7282bcd5",
   "metadata": {},
   "source": [
    "## Manejo de datos faltantes\n",
    "\n",
    "En general, cuando existen datos faltantes (celdas vacías, NaN o None o NA en R), pandas los excluye para algunas acciones (como <code>mean(), sum(), describe()</code>, etc). Sin embargo, es importante contabilizar cuantos datos faltan, y en muchas situaciones, decidir si los eliminamos o si rellenamos esa celda con algún valor representativo."
   ]
  },
  {
   "cell_type": "markdown",
   "id": "aa4b1a6a",
   "metadata": {},
   "source": [
    "Crearemos un dataframe con datos faltantes, para eso agregamos NaN usando la librería numpy"
   ]
  },
  {
   "cell_type": "markdown",
   "id": "e9dabade",
   "metadata": {},
   "source": [
    "**Ejercicio: Crea un dataframe con 3 columnas y 5 filas, que tengan datos faltantes (puedes agregar datos usando numpy y el objeto np.nan)**"
   ]
  },
  {
   "cell_type": "code",
   "execution_count": null,
   "id": "41eea7f5",
   "metadata": {},
   "outputs": [],
   "source": [
    "df=pd.DataFrame(...) #crea el dataframe aca"
   ]
  },
  {
   "cell_type": "code",
   "execution_count": null,
   "id": "865cb2f3",
   "metadata": {},
   "outputs": [],
   "source": []
  },
  {
   "cell_type": "code",
   "execution_count": null,
   "id": "588e259f",
   "metadata": {},
   "outputs": [],
   "source": [
    "df = pd.DataFrame({'A':[1,2,np.nan],\n",
    "                  'B':[5,np.nan,np.nan],\n",
    "                  'C':[1,2,3]})\n",
    "df"
   ]
  },
  {
   "cell_type": "code",
   "execution_count": null,
   "id": "dbc3444c",
   "metadata": {},
   "outputs": [],
   "source": [
    "df.info()"
   ]
  },
  {
   "cell_type": "markdown",
   "id": "322c14e1",
   "metadata": {},
   "source": [
    "- Si queremos saber si alguna columna del dataframe contiene NaN, usamos <code>isna()</code>, que retorna valores booleanos, donde True es donde hay un NaN"
   ]
  },
  {
   "cell_type": "code",
   "execution_count": null,
   "id": "ea1d43f0",
   "metadata": {},
   "outputs": [],
   "source": [
    "df['nombre columna'] #reemplaza el valor del nombre de columna"
   ]
  },
  {
   "cell_type": "code",
   "execution_count": null,
   "id": "7a8d48bf",
   "metadata": {},
   "outputs": [],
   "source": [
    "df['nombre columna'].isna()"
   ]
  },
  {
   "cell_type": "code",
   "execution_count": null,
   "id": "3041f7f7",
   "metadata": {},
   "outputs": [],
   "source": [
    "df[df['nombre columna'].isna()]"
   ]
  },
  {
   "cell_type": "code",
   "execution_count": null,
   "id": "1d6c045c",
   "metadata": {},
   "outputs": [],
   "source": [
    "df.isna()"
   ]
  },
  {
   "cell_type": "code",
   "execution_count": null,
   "id": "5b256fe5",
   "metadata": {},
   "outputs": [],
   "source": [
    "df"
   ]
  },
  {
   "cell_type": "markdown",
   "id": "75228388",
   "metadata": {},
   "source": [
    "- También existe la negación de <code>isna()</code>, <code>notna()</code>, que retorna True para no NaN"
   ]
  },
  {
   "cell_type": "code",
   "execution_count": null,
   "id": "b762b77e",
   "metadata": {},
   "outputs": [],
   "source": [
    "df.notna()"
   ]
  },
  {
   "cell_type": "code",
   "execution_count": null,
   "id": "bf25da3b",
   "metadata": {},
   "outputs": [],
   "source": []
  },
  {
   "cell_type": "markdown",
   "id": "2edd003b",
   "metadata": {},
   "source": [
    "- Con <code>dropna()</code> podemos eliminar todas las filas que contienen algún valor NaN en alguna de las columnas"
   ]
  },
  {
   "cell_type": "code",
   "execution_count": null,
   "id": "0f35bef4",
   "metadata": {},
   "outputs": [],
   "source": [
    "df"
   ]
  },
  {
   "cell_type": "code",
   "execution_count": null,
   "id": "ec1938c1",
   "metadata": {},
   "outputs": [],
   "source": [
    "df.dropna()#axis=0"
   ]
  },
  {
   "cell_type": "code",
   "execution_count": null,
   "id": "a83d1bea",
   "metadata": {},
   "outputs": [],
   "source": [
    "df.dropna(axis=1) #lo mismo pero para columnas con axis=1"
   ]
  },
  {
   "cell_type": "markdown",
   "id": "fa17e3cf",
   "metadata": {},
   "source": [
    "- Si queremos rellenar valores, podemos hacerlo con <code>fillna()</code>, que rellenará los elementos NaN con el valor indicado"
   ]
  },
  {
   "cell_type": "code",
   "execution_count": null,
   "id": "a0223d4b",
   "metadata": {},
   "outputs": [],
   "source": [
    "df_2=df.fillna(value=1000)"
   ]
  },
  {
   "cell_type": "code",
   "execution_count": null,
   "id": "2f23291b",
   "metadata": {},
   "outputs": [],
   "source": [
    "df_2"
   ]
  },
  {
   "cell_type": "code",
   "execution_count": null,
   "id": "30ea9d35",
   "metadata": {},
   "outputs": [],
   "source": [
    "df"
   ]
  },
  {
   "cell_type": "code",
   "execution_count": null,
   "id": "cf674430",
   "metadata": {},
   "outputs": [],
   "source": [
    "df['A'].fillna(value=df['A'].mean())"
   ]
  },
  {
   "cell_type": "code",
   "execution_count": null,
   "id": "8849bb1a",
   "metadata": {},
   "outputs": [],
   "source": []
  },
  {
   "cell_type": "markdown",
   "id": "6c8d2930",
   "metadata": {},
   "source": [
    "## Datos únicos\n",
    "Muchas veces tenemos datos que se repiten, pero queremos saber cuántos datos tienen valores únicos en el dataframe"
   ]
  },
  {
   "cell_type": "code",
   "execution_count": null,
   "id": "60d36522",
   "metadata": {},
   "outputs": [],
   "source": [
    "df = pd.DataFrame({'col1':[1,2,3,4],'col2':[444,555,666,444],'col3':['abc','def','ghi','xyz']})\n",
    "df.head() "
   ]
  },
  {
   "cell_type": "markdown",
   "id": "ab00b3c7",
   "metadata": {},
   "source": [
    "- <code>unique()</code> nos muestra un arreglo con los valores únicos en el dataframe, para la columna indicada"
   ]
  },
  {
   "cell_type": "markdown",
   "id": "b5ce341c",
   "metadata": {},
   "source": [
    "**Encuentra los valores únicos de la columna col2**"
   ]
  },
  {
   "cell_type": "code",
   "execution_count": null,
   "id": "7b461ac6",
   "metadata": {},
   "outputs": [],
   "source": []
  },
  {
   "cell_type": "markdown",
   "id": "a76b1354",
   "metadata": {},
   "source": [
    "- <code>nunique()</code> nos muestra la cantidad valores únicos en el dataframe, para la columna indicada"
   ]
  },
  {
   "cell_type": "code",
   "execution_count": null,
   "id": "bd59e8b3",
   "metadata": {},
   "outputs": [],
   "source": [
    "df['col2'].nunique()\n"
   ]
  },
  {
   "cell_type": "markdown",
   "id": "ec38bab0",
   "metadata": {},
   "source": [
    "- <code>value_counts()</code> nos muestra una lista con los valores únicos y la cantidad de veces que se repiten en el dataframe, para la columna indicada"
   ]
  },
  {
   "cell_type": "code",
   "execution_count": null,
   "id": "9b37e3ef",
   "metadata": {},
   "outputs": [],
   "source": [
    "df.value_counts()"
   ]
  },
  {
   "cell_type": "code",
   "execution_count": null,
   "id": "1c8511e4",
   "metadata": {},
   "outputs": [],
   "source": [
    "df['col2'].value_counts()\n"
   ]
  },
  {
   "cell_type": "code",
   "execution_count": null,
   "id": "f4e08b28",
   "metadata": {},
   "outputs": [],
   "source": [
    "type(df['col2'].value_counts())\n"
   ]
  },
  {
   "cell_type": "markdown",
   "id": "9116fa71",
   "metadata": {},
   "source": [
    "podemos aplicar una función lambda para que <code>value_counts()</code> solo nos muestre los elementos únicos que tienen al menos un duplicado"
   ]
  },
  {
   "cell_type": "code",
   "execution_count": null,
   "id": "aab843d4",
   "metadata": {},
   "outputs": [],
   "source": [
    "df['col2'].value_counts().loc[lambda x: x>1] \n"
   ]
  },
  {
   "cell_type": "markdown",
   "id": "671af604",
   "metadata": {},
   "source": [
    "## Remover duplicados\n",
    "\n",
    "Podemos identificar las filas que contienen duplicados, y si consideramos necesario, eliminarlos del dataframe"
   ]
  },
  {
   "cell_type": "code",
   "execution_count": null,
   "id": "c66f0e72",
   "metadata": {},
   "outputs": [],
   "source": [
    "data = pd.DataFrame({\"k1\": [\"one\", \"two\"] * 3 + [\"two\"], \"k2\": [1, 1, 2, 3, 3, 4, 4]})"
   ]
  },
  {
   "cell_type": "code",
   "execution_count": null,
   "id": "6b695653",
   "metadata": {},
   "outputs": [],
   "source": [
    "[\"one\", \"two\"] * 3 + ['two']"
   ]
  },
  {
   "cell_type": "code",
   "execution_count": null,
   "id": "2b1fc496",
   "metadata": {},
   "outputs": [],
   "source": [
    "['one', 'two', 'one', 'two', 'one', 'two', 'two']"
   ]
  },
  {
   "cell_type": "code",
   "execution_count": null,
   "id": "54968636",
   "metadata": {},
   "outputs": [],
   "source": [
    "data"
   ]
  },
  {
   "cell_type": "markdown",
   "id": "cbcce418",
   "metadata": {},
   "source": [
    "- <code>duplicated()</code> nos indica con un booleano las filas que son valores duplicados"
   ]
  },
  {
   "cell_type": "code",
   "execution_count": null,
   "id": "ad4af63a",
   "metadata": {},
   "outputs": [],
   "source": [
    "data.duplicated() #para todo el dataframe, considerando todos los elementos en la fila"
   ]
  },
  {
   "cell_type": "code",
   "execution_count": null,
   "id": "520c1d94",
   "metadata": {},
   "outputs": [],
   "source": [
    "data.k1.duplicated() #para una columna en particulara"
   ]
  },
  {
   "cell_type": "code",
   "execution_count": null,
   "id": "47de54b1",
   "metadata": {},
   "outputs": [],
   "source": []
  },
  {
   "cell_type": "code",
   "execution_count": null,
   "id": "b29c419d",
   "metadata": {},
   "outputs": [],
   "source": [
    "data"
   ]
  },
  {
   "cell_type": "code",
   "execution_count": null,
   "id": "63f28f31",
   "metadata": {},
   "outputs": [],
   "source": [
    "data.drop_duplicates(subset=[\"k1\"])"
   ]
  },
  {
   "cell_type": "markdown",
   "id": "16b8188f",
   "metadata": {},
   "source": [
    "Por defecto, <code>drop_duplicates()</code> mantiene la primera aparición del  elemento repetido, pero podemos querer mantener la última"
   ]
  },
  {
   "cell_type": "code",
   "execution_count": null,
   "id": "54583795",
   "metadata": {},
   "outputs": [],
   "source": [
    "data"
   ]
  },
  {
   "cell_type": "code",
   "execution_count": null,
   "id": "8942fc44",
   "metadata": {},
   "outputs": [],
   "source": [
    "data.drop_duplicates([\"k1\"], keep=\"last\")"
   ]
  },
  {
   "cell_type": "code",
   "execution_count": null,
   "id": "972a5d00",
   "metadata": {},
   "outputs": [],
   "source": []
  },
  {
   "cell_type": "markdown",
   "id": "b6902f6b",
   "metadata": {},
   "source": [
    "## Groupby\n",
    "Permite agrupar filas para llamar funciones de agregación. En general, con esta función *agruparemos* usando una o más columnas, *seleccionamos* la columna que nos interesa analizar y *aplicamos* una función a los elementos agrupados"
   ]
  },
  {
   "attachments": {
    "groupby.png": {
     "image/png": "[encoded data removed]"
    }
   },
   "cell_type": "markdown",
   "id": "db947d32",
   "metadata": {},
   "source": [
    "![groupby.png](attachment:groupby.png)"
   ]
  },
  {
   "cell_type": "code",
   "execution_count": null,
   "id": "a33f7f92",
   "metadata": {},
   "outputs": [],
   "source": [
    "\n",
    "data = {'Company':['GOOG','GOOG','MSFT','MSFT','FB','FB'],\n",
    "       'Person':['Sam','Charlie','Amy','Vanessa','Carl','Sarah'],\n",
    "       'Sales':[200,120,340,124,243,350]}"
   ]
  },
  {
   "cell_type": "code",
   "execution_count": null,
   "id": "33864f83",
   "metadata": {},
   "outputs": [],
   "source": [
    "df=pd.DataFrame(data)\n",
    "df"
   ]
  },
  {
   "cell_type": "markdown",
   "id": "3e8bd5fe",
   "metadata": {},
   "source": [
    "Podemos agrupar los datos usando la columna 'Company'"
   ]
  },
  {
   "cell_type": "code",
   "execution_count": null,
   "id": "f089caa4",
   "metadata": {},
   "outputs": [],
   "source": [
    "df.groupby('Company') #genera un objeto de dataframe agrupado"
   ]
  },
  {
   "cell_type": "markdown",
   "id": "6c34efe3",
   "metadata": {},
   "source": [
    "la función groupby no produce un resultado hasta que le demos una función que realizar"
   ]
  },
  {
   "cell_type": "code",
   "execution_count": null,
   "id": "d60e5543",
   "metadata": {},
   "outputs": [],
   "source": [
    "df_comp=df.groupby('Company')"
   ]
  },
  {
   "cell_type": "code",
   "execution_count": null,
   "id": "77a046d1",
   "metadata": {},
   "outputs": [],
   "source": [
    "df_comp.mean(numeric_only=True)"
   ]
  },
  {
   "cell_type": "code",
   "execution_count": null,
   "id": "6e889a59",
   "metadata": {},
   "outputs": [],
   "source": [
    "df.groupby('Company')[['Sales']].mean()"
   ]
  },
  {
   "cell_type": "code",
   "execution_count": null,
   "id": "0aad656b",
   "metadata": {},
   "outputs": [],
   "source": [
    "df_mean=df.groupby('Company')[['Sales']].mean()"
   ]
  },
  {
   "cell_type": "code",
   "execution_count": null,
   "id": "1471422d",
   "metadata": {},
   "outputs": [],
   "source": [
    "type(df_mean)"
   ]
  },
  {
   "cell_type": "code",
   "execution_count": null,
   "id": "94593ee6",
   "metadata": {},
   "outputs": [],
   "source": [
    "df_comp.std()"
   ]
  },
  {
   "cell_type": "code",
   "execution_count": null,
   "id": "3ace0f52",
   "metadata": {},
   "outputs": [],
   "source": [
    "df.groupby('Company')[['Sales']].std()"
   ]
  },
  {
   "cell_type": "code",
   "execution_count": null,
   "id": "621b3b56",
   "metadata": {},
   "outputs": [],
   "source": [
    "df.groupby('Company')[['Sales']].min()"
   ]
  },
  {
   "cell_type": "code",
   "execution_count": null,
   "id": "61cc6ffe",
   "metadata": {},
   "outputs": [],
   "source": [
    "df.groupby('Company')[['Sales']].max()"
   ]
  },
  {
   "cell_type": "code",
   "execution_count": null,
   "id": "8c1c0569",
   "metadata": {},
   "outputs": [],
   "source": [
    "df.groupby('Company')[['Sales']].count()"
   ]
  },
  {
   "cell_type": "code",
   "execution_count": null,
   "id": "504a5343",
   "metadata": {},
   "outputs": [],
   "source": [
    "df.groupby('Company').describe()"
   ]
  },
  {
   "cell_type": "code",
   "execution_count": null,
   "id": "ebeba73f",
   "metadata": {},
   "outputs": [],
   "source": [
    "df"
   ]
  },
  {
   "cell_type": "code",
   "execution_count": null,
   "id": "65b6706f",
   "metadata": {},
   "outputs": [],
   "source": [
    "df.groupby('Company')[['Sales']].sum()"
   ]
  },
  {
   "cell_type": "code",
   "execution_count": null,
   "id": "8ced70c4",
   "metadata": {},
   "outputs": [],
   "source": [
    "df.groupby('Company').size()"
   ]
  },
  {
   "cell_type": "code",
   "execution_count": null,
   "id": "fe6f7936",
   "metadata": {},
   "outputs": [],
   "source": [
    "df.groupby('Company').get_group('FB')"
   ]
  },
  {
   "cell_type": "code",
   "execution_count": null,
   "id": "92cfa8f3",
   "metadata": {},
   "outputs": [],
   "source": [
    "df.groupby('Company')['Sales'].sum() # resulta una serie"
   ]
  },
  {
   "cell_type": "code",
   "execution_count": null,
   "id": "5bb3e95c",
   "metadata": {},
   "outputs": [],
   "source": [
    "df.groupby('Company')[['Sales']].sum() #resulta un dataframe"
   ]
  },
  {
   "cell_type": "code",
   "execution_count": null,
   "id": "ca533480",
   "metadata": {},
   "outputs": [],
   "source": [
    "df.groupby('Company', as_index=False)[['Sales']].sum() #resulta un dataframe"
   ]
  },
  {
   "cell_type": "code",
   "execution_count": null,
   "id": "81c702c8",
   "metadata": {},
   "outputs": [],
   "source": [
    "df"
   ]
  },
  {
   "cell_type": "code",
   "execution_count": null,
   "id": "4d79d31e",
   "metadata": {},
   "outputs": [],
   "source": [
    "df.groupby(['Company','Person'])[['Sales']].sum() "
   ]
  },
  {
   "cell_type": "code",
   "execution_count": null,
   "id": "5019f54c",
   "metadata": {},
   "outputs": [],
   "source": []
  },
  {
   "cell_type": "markdown",
   "id": "05c3853d",
   "metadata": {},
   "source": [
    "**Ejercicio: Agrupe el dataframe temperatura por estacion y calcule el promedio de temperaturas en cada estacion**"
   ]
  },
  {
   "cell_type": "code",
   "execution_count": null,
   "id": "48c20e39",
   "metadata": {},
   "outputs": [],
   "source": []
  }
 ],
 "metadata": {
  "kernelspec": {
   "display_name": "Python [conda env:base] *",
   "language": "python",
   "name": "conda-base-py"
  },
  "language_info": {
   "codemirror_mode": {
    "name": "ipython",
    "version": 3
   },
   "file_extension": ".py",
   "mimetype": "text/x-python",
   "name": "python",
   "nbconvert_exporter": "python",
   "pygments_lexer": "ipython3",
   "version": "3.12.7"
  }
 },
 "nbformat": 4,
 "nbformat_minor": 5
}
